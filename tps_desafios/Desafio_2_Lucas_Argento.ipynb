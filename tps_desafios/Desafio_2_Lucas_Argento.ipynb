{
  "cells": [
    {
      "cell_type": "markdown",
      "metadata": {
        "id": "sZd5yLnnHOK0"
      },
      "source": [
        "<img src=\"https://github.com/hernancontigiani/ceia_memorias_especializacion/raw/master/Figures/logoFIUBA.jpg\" width=\"500\" align=\"center\">\n",
        "\n",
        "\n",
        "# Procesamiento de lenguaje natural 1\n",
        "## Custom embedddings con Gensim\n",
        "### Lucas Argento\n",
        "\n"
      ]
    },
    {
      "cell_type": "markdown",
      "metadata": {
        "id": "vA7nqkumo9z9"
      },
      "source": [
        "### Objetivo\n",
        "\n",
        "El objetivo es utilizar documentos / corpus para crear embeddings de palabras basado en ese contexto. Se utilizará canciones de **Bob Marley** para generar los embeddings, es decir, que los vectores tendrán la forma en función de como el artista haya utilizado las palabras en sus canciones."
      ]
    },
    {
      "cell_type": "code",
      "source": [
        "!pip install gensim"
      ],
      "metadata": {
        "id": "GhJgAywU1J7F"
      },
      "execution_count": null,
      "outputs": []
    },
    {
      "cell_type": "code",
      "execution_count": 1,
      "metadata": {
        "id": "lFToQs5FK5uZ"
      },
      "outputs": [],
      "source": [
        "import pandas as pd\n",
        "import matplotlib.pyplot as plt\n",
        "import seaborn as sns\n",
        "import numpy as np\n",
        "\n",
        "import multiprocessing\n",
        "from gensim.models import Word2Vec"
      ]
    },
    {
      "cell_type": "markdown",
      "metadata": {
        "id": "g07zJxG7H9vG"
      },
      "source": [
        "# **1. Descargamos canciones de Bob Marley**\n",
        "Utilizaremos como dataset canciones de bandas de habla inglesa."
      ]
    },
    {
      "cell_type": "code",
      "execution_count": 2,
      "metadata": {
        "id": "l7z4CSBfpR3X",
        "colab": {
          "base_uri": "https://localhost:8080/"
        },
        "outputId": "5185c84f-7d6f-4316-af4b-9ce9625409d9"
      },
      "outputs": [
        {
          "output_type": "stream",
          "name": "stdout",
          "text": [
            "--2025-09-18 03:20:02--  http://songs_dataset.zip/\n",
            "Resolving songs_dataset.zip (songs_dataset.zip)... failed: Name or service not known.\n",
            "wget: unable to resolve host address ‘songs_dataset.zip’\n",
            "--2025-09-18 03:20:02--  https://github.com/FIUBA-Posgrado-Inteligencia-Artificial/procesamiento_lenguaje_natural/raw/main/datasets/songs_dataset.zip\n",
            "Resolving github.com (github.com)... 140.82.112.4\n",
            "Connecting to github.com (github.com)|140.82.112.4|:443... connected.\n",
            "HTTP request sent, awaiting response... 302 Found\n",
            "Location: https://raw.githubusercontent.com/FIUBA-Posgrado-Inteligencia-Artificial/procesamiento_lenguaje_natural/main/datasets/songs_dataset.zip [following]\n",
            "--2025-09-18 03:20:03--  https://raw.githubusercontent.com/FIUBA-Posgrado-Inteligencia-Artificial/procesamiento_lenguaje_natural/main/datasets/songs_dataset.zip\n",
            "Resolving raw.githubusercontent.com (raw.githubusercontent.com)... 185.199.108.133, 185.199.109.133, 185.199.110.133, ...\n",
            "Connecting to raw.githubusercontent.com (raw.githubusercontent.com)|185.199.108.133|:443... connected.\n",
            "HTTP request sent, awaiting response... 200 OK\n",
            "Length: 2075036 (2.0M) [application/zip]\n",
            "Saving to: ‘songs_dataset.zip’\n",
            "\n",
            "songs_dataset.zip   100%[===================>]   1.98M  --.-KB/s    in 0.07s   \n",
            "\n",
            "2025-09-18 03:20:03 (27.9 MB/s) - ‘songs_dataset.zip’ saved [2075036/2075036]\n",
            "\n",
            "FINISHED --2025-09-18 03:20:03--\n",
            "Total wall clock time: 0.8s\n",
            "Downloaded: 1 files, 2.0M in 0.07s (27.9 MB/s)\n"
          ]
        }
      ],
      "source": [
        "# Descargar la carpeta de dataset\n",
        "import os\n",
        "import platform\n",
        "if os.access('./songs_dataset', os.F_OK) is False:\n",
        "    if os.access('songs_dataset.zip', os.F_OK) is False:\n",
        "        if platform.system() == 'Windows':\n",
        "            !curl https://raw.githubusercontent.com/FIUBA-Posgrado-Inteligencia-Artificial/procesamiento_lenguaje_natural/main/datasets/songs_dataset.zip -o songs_dataset.zip\n",
        "        else:\n",
        "            !wget songs_dataset.zip https://github.com/FIUBA-Posgrado-Inteligencia-Artificial/procesamiento_lenguaje_natural/raw/main/datasets/songs_dataset.zip\n",
        "    !unzip -q songs_dataset.zip\n",
        "else:\n",
        "    print(\"El dataset ya se encuentra descargado\")"
      ]
    },
    {
      "cell_type": "code",
      "execution_count": null,
      "metadata": {
        "id": "mysGrIw9ljC2"
      },
      "outputs": [],
      "source": [
        "# Posibles bandas\n",
        "os.listdir(\"./songs_dataset/\")"
      ]
    },
    {
      "cell_type": "code",
      "execution_count": 4,
      "metadata": {
        "id": "ticoqYD1Z3I7",
        "colab": {
          "base_uri": "https://localhost:8080/",
          "height": 261
        },
        "outputId": "c40776d7-7a84-4e17-833d-7ad3bac972da"
      },
      "outputs": [
        {
          "output_type": "stream",
          "name": "stderr",
          "text": [
            "/tmp/ipython-input-920653701.py:2: ParserWarning: Falling back to the 'python' engine because the 'c' engine does not support regex separators (separators > 1 char and different from '\\s+' are interpreted as regex); you can avoid this warning by specifying engine='python'.\n",
            "  df = pd.read_csv('songs_dataset/bob-marley.txt', sep='/n', header=None)\n"
          ]
        },
        {
          "output_type": "execute_result",
          "data": {
            "text/plain": [
              "                                                   0\n",
              "0                        \"Don't worry about a thing,\n",
              "1      'Cause every little thing gonna be all right.\n",
              "2               Singin': \"Don't worry about a thing,\n",
              "3  'Cause every little thing gonna be all right!\"...\n",
              "4                        Smiled with the risin' sun,"
            ],
            "text/html": [
              "\n",
              "  <div id=\"df-084a582f-1054-4f9a-bb96-167c203d016e\" class=\"colab-df-container\">\n",
              "    <div>\n",
              "<style scoped>\n",
              "    .dataframe tbody tr th:only-of-type {\n",
              "        vertical-align: middle;\n",
              "    }\n",
              "\n",
              "    .dataframe tbody tr th {\n",
              "        vertical-align: top;\n",
              "    }\n",
              "\n",
              "    .dataframe thead th {\n",
              "        text-align: right;\n",
              "    }\n",
              "</style>\n",
              "<table border=\"1\" class=\"dataframe\">\n",
              "  <thead>\n",
              "    <tr style=\"text-align: right;\">\n",
              "      <th></th>\n",
              "      <th>0</th>\n",
              "    </tr>\n",
              "  </thead>\n",
              "  <tbody>\n",
              "    <tr>\n",
              "      <th>0</th>\n",
              "      <td>\"Don't worry about a thing,</td>\n",
              "    </tr>\n",
              "    <tr>\n",
              "      <th>1</th>\n",
              "      <td>'Cause every little thing gonna be all right.</td>\n",
              "    </tr>\n",
              "    <tr>\n",
              "      <th>2</th>\n",
              "      <td>Singin': \"Don't worry about a thing,</td>\n",
              "    </tr>\n",
              "    <tr>\n",
              "      <th>3</th>\n",
              "      <td>'Cause every little thing gonna be all right!\"...</td>\n",
              "    </tr>\n",
              "    <tr>\n",
              "      <th>4</th>\n",
              "      <td>Smiled with the risin' sun,</td>\n",
              "    </tr>\n",
              "  </tbody>\n",
              "</table>\n",
              "</div>\n",
              "    <div class=\"colab-df-buttons\">\n",
              "\n",
              "  <div class=\"colab-df-container\">\n",
              "    <button class=\"colab-df-convert\" onclick=\"convertToInteractive('df-084a582f-1054-4f9a-bb96-167c203d016e')\"\n",
              "            title=\"Convert this dataframe to an interactive table.\"\n",
              "            style=\"display:none;\">\n",
              "\n",
              "  <svg xmlns=\"http://www.w3.org/2000/svg\" height=\"24px\" viewBox=\"0 -960 960 960\">\n",
              "    <path d=\"M120-120v-720h720v720H120Zm60-500h600v-160H180v160Zm220 220h160v-160H400v160Zm0 220h160v-160H400v160ZM180-400h160v-160H180v160Zm440 0h160v-160H620v160ZM180-180h160v-160H180v160Zm440 0h160v-160H620v160Z\"/>\n",
              "  </svg>\n",
              "    </button>\n",
              "\n",
              "  <style>\n",
              "    .colab-df-container {\n",
              "      display:flex;\n",
              "      gap: 12px;\n",
              "    }\n",
              "\n",
              "    .colab-df-convert {\n",
              "      background-color: #E8F0FE;\n",
              "      border: none;\n",
              "      border-radius: 50%;\n",
              "      cursor: pointer;\n",
              "      display: none;\n",
              "      fill: #1967D2;\n",
              "      height: 32px;\n",
              "      padding: 0 0 0 0;\n",
              "      width: 32px;\n",
              "    }\n",
              "\n",
              "    .colab-df-convert:hover {\n",
              "      background-color: #E2EBFA;\n",
              "      box-shadow: 0px 1px 2px rgba(60, 64, 67, 0.3), 0px 1px 3px 1px rgba(60, 64, 67, 0.15);\n",
              "      fill: #174EA6;\n",
              "    }\n",
              "\n",
              "    .colab-df-buttons div {\n",
              "      margin-bottom: 4px;\n",
              "    }\n",
              "\n",
              "    [theme=dark] .colab-df-convert {\n",
              "      background-color: #3B4455;\n",
              "      fill: #D2E3FC;\n",
              "    }\n",
              "\n",
              "    [theme=dark] .colab-df-convert:hover {\n",
              "      background-color: #434B5C;\n",
              "      box-shadow: 0px 1px 3px 1px rgba(0, 0, 0, 0.15);\n",
              "      filter: drop-shadow(0px 1px 2px rgba(0, 0, 0, 0.3));\n",
              "      fill: #FFFFFF;\n",
              "    }\n",
              "  </style>\n",
              "\n",
              "    <script>\n",
              "      const buttonEl =\n",
              "        document.querySelector('#df-084a582f-1054-4f9a-bb96-167c203d016e button.colab-df-convert');\n",
              "      buttonEl.style.display =\n",
              "        google.colab.kernel.accessAllowed ? 'block' : 'none';\n",
              "\n",
              "      async function convertToInteractive(key) {\n",
              "        const element = document.querySelector('#df-084a582f-1054-4f9a-bb96-167c203d016e');\n",
              "        const dataTable =\n",
              "          await google.colab.kernel.invokeFunction('convertToInteractive',\n",
              "                                                    [key], {});\n",
              "        if (!dataTable) return;\n",
              "\n",
              "        const docLinkHtml = 'Like what you see? Visit the ' +\n",
              "          '<a target=\"_blank\" href=https://colab.research.google.com/notebooks/data_table.ipynb>data table notebook</a>'\n",
              "          + ' to learn more about interactive tables.';\n",
              "        element.innerHTML = '';\n",
              "        dataTable['output_type'] = 'display_data';\n",
              "        await google.colab.output.renderOutput(dataTable, element);\n",
              "        const docLink = document.createElement('div');\n",
              "        docLink.innerHTML = docLinkHtml;\n",
              "        element.appendChild(docLink);\n",
              "      }\n",
              "    </script>\n",
              "  </div>\n",
              "\n",
              "\n",
              "    <div id=\"df-ab7c02d6-ca0d-470a-8881-79eb1a0eb664\">\n",
              "      <button class=\"colab-df-quickchart\" onclick=\"quickchart('df-ab7c02d6-ca0d-470a-8881-79eb1a0eb664')\"\n",
              "                title=\"Suggest charts\"\n",
              "                style=\"display:none;\">\n",
              "\n",
              "<svg xmlns=\"http://www.w3.org/2000/svg\" height=\"24px\"viewBox=\"0 0 24 24\"\n",
              "     width=\"24px\">\n",
              "    <g>\n",
              "        <path d=\"M19 3H5c-1.1 0-2 .9-2 2v14c0 1.1.9 2 2 2h14c1.1 0 2-.9 2-2V5c0-1.1-.9-2-2-2zM9 17H7v-7h2v7zm4 0h-2V7h2v10zm4 0h-2v-4h2v4z\"/>\n",
              "    </g>\n",
              "</svg>\n",
              "      </button>\n",
              "\n",
              "<style>\n",
              "  .colab-df-quickchart {\n",
              "      --bg-color: #E8F0FE;\n",
              "      --fill-color: #1967D2;\n",
              "      --hover-bg-color: #E2EBFA;\n",
              "      --hover-fill-color: #174EA6;\n",
              "      --disabled-fill-color: #AAA;\n",
              "      --disabled-bg-color: #DDD;\n",
              "  }\n",
              "\n",
              "  [theme=dark] .colab-df-quickchart {\n",
              "      --bg-color: #3B4455;\n",
              "      --fill-color: #D2E3FC;\n",
              "      --hover-bg-color: #434B5C;\n",
              "      --hover-fill-color: #FFFFFF;\n",
              "      --disabled-bg-color: #3B4455;\n",
              "      --disabled-fill-color: #666;\n",
              "  }\n",
              "\n",
              "  .colab-df-quickchart {\n",
              "    background-color: var(--bg-color);\n",
              "    border: none;\n",
              "    border-radius: 50%;\n",
              "    cursor: pointer;\n",
              "    display: none;\n",
              "    fill: var(--fill-color);\n",
              "    height: 32px;\n",
              "    padding: 0;\n",
              "    width: 32px;\n",
              "  }\n",
              "\n",
              "  .colab-df-quickchart:hover {\n",
              "    background-color: var(--hover-bg-color);\n",
              "    box-shadow: 0 1px 2px rgba(60, 64, 67, 0.3), 0 1px 3px 1px rgba(60, 64, 67, 0.15);\n",
              "    fill: var(--button-hover-fill-color);\n",
              "  }\n",
              "\n",
              "  .colab-df-quickchart-complete:disabled,\n",
              "  .colab-df-quickchart-complete:disabled:hover {\n",
              "    background-color: var(--disabled-bg-color);\n",
              "    fill: var(--disabled-fill-color);\n",
              "    box-shadow: none;\n",
              "  }\n",
              "\n",
              "  .colab-df-spinner {\n",
              "    border: 2px solid var(--fill-color);\n",
              "    border-color: transparent;\n",
              "    border-bottom-color: var(--fill-color);\n",
              "    animation:\n",
              "      spin 1s steps(1) infinite;\n",
              "  }\n",
              "\n",
              "  @keyframes spin {\n",
              "    0% {\n",
              "      border-color: transparent;\n",
              "      border-bottom-color: var(--fill-color);\n",
              "      border-left-color: var(--fill-color);\n",
              "    }\n",
              "    20% {\n",
              "      border-color: transparent;\n",
              "      border-left-color: var(--fill-color);\n",
              "      border-top-color: var(--fill-color);\n",
              "    }\n",
              "    30% {\n",
              "      border-color: transparent;\n",
              "      border-left-color: var(--fill-color);\n",
              "      border-top-color: var(--fill-color);\n",
              "      border-right-color: var(--fill-color);\n",
              "    }\n",
              "    40% {\n",
              "      border-color: transparent;\n",
              "      border-right-color: var(--fill-color);\n",
              "      border-top-color: var(--fill-color);\n",
              "    }\n",
              "    60% {\n",
              "      border-color: transparent;\n",
              "      border-right-color: var(--fill-color);\n",
              "    }\n",
              "    80% {\n",
              "      border-color: transparent;\n",
              "      border-right-color: var(--fill-color);\n",
              "      border-bottom-color: var(--fill-color);\n",
              "    }\n",
              "    90% {\n",
              "      border-color: transparent;\n",
              "      border-bottom-color: var(--fill-color);\n",
              "    }\n",
              "  }\n",
              "</style>\n",
              "\n",
              "      <script>\n",
              "        async function quickchart(key) {\n",
              "          const quickchartButtonEl =\n",
              "            document.querySelector('#' + key + ' button');\n",
              "          quickchartButtonEl.disabled = true;  // To prevent multiple clicks.\n",
              "          quickchartButtonEl.classList.add('colab-df-spinner');\n",
              "          try {\n",
              "            const charts = await google.colab.kernel.invokeFunction(\n",
              "                'suggestCharts', [key], {});\n",
              "          } catch (error) {\n",
              "            console.error('Error during call to suggestCharts:', error);\n",
              "          }\n",
              "          quickchartButtonEl.classList.remove('colab-df-spinner');\n",
              "          quickchartButtonEl.classList.add('colab-df-quickchart-complete');\n",
              "        }\n",
              "        (() => {\n",
              "          let quickchartButtonEl =\n",
              "            document.querySelector('#df-ab7c02d6-ca0d-470a-8881-79eb1a0eb664 button');\n",
              "          quickchartButtonEl.style.display =\n",
              "            google.colab.kernel.accessAllowed ? 'block' : 'none';\n",
              "        })();\n",
              "      </script>\n",
              "    </div>\n",
              "\n",
              "    </div>\n",
              "  </div>\n"
            ],
            "application/vnd.google.colaboratory.intrinsic+json": {
              "type": "dataframe",
              "variable_name": "df",
              "summary": "{\n  \"name\": \"df\",\n  \"rows\": 2218,\n  \"fields\": [\n    {\n      \"column\": 0,\n      \"properties\": {\n        \"dtype\": \"string\",\n        \"num_unique_values\": 1804,\n        \"samples\": [\n          \"And every word, every second, and every third\",\n          \"One more thing Let's get together to fight this Holy Armageddon (one love)\",\n          \"Won't let go I need a rammer, a rammer, a rammer, a rammer\"\n        ],\n        \"semantic_type\": \"\",\n        \"description\": \"\"\n      }\n    }\n  ]\n}"
            }
          },
          "metadata": {},
          "execution_count": 4
        }
      ],
      "source": [
        "# Armar el dataset utilizando salto de línea para separar las oraciones/docs\n",
        "df = pd.read_csv('songs_dataset/bob-marley.txt', sep='/n', header=None)\n",
        "df.head()"
      ]
    },
    {
      "cell_type": "code",
      "execution_count": 5,
      "metadata": {
        "id": "LEpKubK9XzXN",
        "colab": {
          "base_uri": "https://localhost:8080/"
        },
        "outputId": "46241f89-e970-44f3-b533-1cc5e73356f3"
      },
      "outputs": [
        {
          "output_type": "stream",
          "name": "stdout",
          "text": [
            "Cantidad de documentos: 2218\n"
          ]
        }
      ],
      "source": [
        "print(\"Cantidad de documentos:\", df.shape[0])"
      ]
    },
    {
      "cell_type": "markdown",
      "metadata": {
        "id": "ab94qaFlrA1G"
      },
      "source": [
        "# **2. Preprocesamiento de las canciones**"
      ]
    },
    {
      "cell_type": "code",
      "execution_count": 6,
      "metadata": {
        "id": "rIsmMWmjrDHd"
      },
      "outputs": [],
      "source": [
        "from tensorflow.keras.preprocessing.text import text_to_word_sequence\n",
        "\n",
        "sentence_tokens = []\n",
        "# Recorrer todas las filas y transformar las oraciones en una secuencia de palabras (esto podría realizarse con NLTK o spaCy también)\n",
        "for _, row in df[:None].iterrows():\n",
        "    sentence_tokens.append(text_to_word_sequence(row[0]))"
      ]
    },
    {
      "cell_type": "code",
      "execution_count": 7,
      "metadata": {
        "id": "CHepi_DGrbhq",
        "colab": {
          "base_uri": "https://localhost:8080/"
        },
        "outputId": "02484b77-f3d5-4f7e-a8ad-1f1badc3adfa"
      },
      "outputs": [
        {
          "output_type": "execute_result",
          "data": {
            "text/plain": [
              "[[\"don't\", 'worry', 'about', 'a', 'thing'],\n",
              " [\"'cause\", 'every', 'little', 'thing', 'gonna', 'be', 'all', 'right']]"
            ]
          },
          "metadata": {},
          "execution_count": 7
        }
      ],
      "source": [
        "sentence_tokens[:2]"
      ]
    },
    {
      "cell_type": "markdown",
      "metadata": {
        "id": "BaXV6nlHr5Aa"
      },
      "source": [
        "# **3. - Creación de los embeddings con Word2Vec**"
      ]
    },
    {
      "cell_type": "code",
      "execution_count": 8,
      "metadata": {
        "id": "OSb0v7h8r7hK"
      },
      "outputs": [],
      "source": [
        "from gensim.models.callbacks import CallbackAny2Vec\n",
        "\n",
        "# Durante el entrenamiento gensim por defecto no informa el \"loss\" en cada época, sobre escribimos el callback para poder tener esta información\n",
        "class callback(CallbackAny2Vec):\n",
        "    \"\"\"\n",
        "    Callback to print loss after each epoch\n",
        "    \"\"\"\n",
        "    def __init__(self):\n",
        "        self.epoch = 0\n",
        "\n",
        "    def on_epoch_end(self, model):\n",
        "        loss = model.get_latest_training_loss()\n",
        "        if self.epoch == 0:\n",
        "            print('Loss after epoch {}: {}'.format(self.epoch, loss))\n",
        "        else:\n",
        "            print('Loss after epoch {}: {}'.format(self.epoch, loss- self.loss_previous_step))\n",
        "        self.epoch += 1\n",
        "        self.loss_previous_step = loss"
      ]
    },
    {
      "cell_type": "code",
      "execution_count": 11,
      "metadata": {
        "id": "i0wnDdv9sJ47"
      },
      "outputs": [],
      "source": [
        "# Crearmos el modelo generador de vectores\n",
        "# En este caso utilizaremos la estructura modelo Skipgram\n",
        "w2v_model = Word2Vec(\n",
        "    min_count=5,    # frecuencia mínima de palabra para incluirla en el vocabulario\n",
        "    window=2,       # cant de palabras antes y desp de la predicha\n",
        "    vector_size=300,       # dimensionalidad de los vectores\n",
        "    negative=20,    # cantidad de negative samples... 0 es no se usa\n",
        "    workers=1,      # si tienen más cores pueden cambiar este valor\n",
        "    sg=1,          # modelo 0:CBOW  1:skipgram\n",
        ")"
      ]
    },
    {
      "cell_type": "code",
      "execution_count": 12,
      "metadata": {
        "id": "5lTt8wErsf17"
      },
      "outputs": [],
      "source": [
        "# Obtener el vocabulario con los tokens\n",
        "w2v_model.build_vocab(sentence_tokens)"
      ]
    },
    {
      "cell_type": "code",
      "execution_count": 13,
      "metadata": {
        "id": "TNc9qt4os5AT",
        "colab": {
          "base_uri": "https://localhost:8080/"
        },
        "outputId": "c8762dbf-cbb6-4927-f462-962374cbd93b"
      },
      "outputs": [
        {
          "output_type": "stream",
          "name": "stdout",
          "text": [
            "Cantidad de docs en el corpus: 2218\n"
          ]
        }
      ],
      "source": [
        "# Cantidad de filas/docs encontradas en el corpus\n",
        "print(\"Cantidad de docs en el corpus:\", w2v_model.corpus_count)"
      ]
    },
    {
      "cell_type": "code",
      "execution_count": 15,
      "metadata": {
        "id": "idw9cHF3tSMl",
        "colab": {
          "base_uri": "https://localhost:8080/"
        },
        "outputId": "e2a8b4a0-1fd8-4460-eb5f-fee7d932f12c"
      },
      "outputs": [
        {
          "output_type": "stream",
          "name": "stdout",
          "text": [
            "Cantidad de palabras distintas en el corpus: 532\n"
          ]
        }
      ],
      "source": [
        "# Cantidad de words encontradas en el corpus\n",
        "print(\"Cantidad de palabras distintas en el corpus:\", len(w2v_model.wv.index_to_key))"
      ]
    },
    {
      "cell_type": "markdown",
      "metadata": {
        "id": "fC9mZ8DPk-UC"
      },
      "source": [
        "## **3.1 - Entrenamos el modelo**"
      ]
    },
    {
      "cell_type": "code",
      "execution_count": 17,
      "metadata": {
        "id": "QSp-x0PAsq56",
        "colab": {
          "base_uri": "https://localhost:8080/"
        },
        "outputId": "7970f6d3-d9e9-4e41-cb3c-bb262e6a684c"
      },
      "outputs": [
        {
          "output_type": "stream",
          "name": "stderr",
          "text": [
            "WARNING:gensim.models.word2vec:Effective 'alpha' higher than previous training cycles\n"
          ]
        },
        {
          "output_type": "stream",
          "name": "stdout",
          "text": [
            "Loss after epoch 0: 62623.453125\n",
            "Loss after epoch 1: 60773.4609375\n",
            "Loss after epoch 2: 59267.8671875\n",
            "Loss after epoch 3: 57892.046875\n",
            "Loss after epoch 4: 56019.359375\n",
            "Loss after epoch 5: 55001.90625\n",
            "Loss after epoch 6: 54392.59375\n",
            "Loss after epoch 7: 52761.75\n",
            "Loss after epoch 8: 51632.59375\n",
            "Loss after epoch 9: 50016.28125\n",
            "Loss after epoch 10: 49105.125\n",
            "Loss after epoch 11: 49290.875\n",
            "Loss after epoch 12: 48651.6875\n",
            "Loss after epoch 13: 48226.0\n",
            "Loss after epoch 14: 48182.0\n",
            "Loss after epoch 15: 48210.9375\n",
            "Loss after epoch 16: 48164.3125\n",
            "Loss after epoch 17: 46689.625\n",
            "Loss after epoch 18: 46669.1875\n",
            "Loss after epoch 19: 46398.4375\n",
            "Loss after epoch 20: 45408.125\n",
            "Loss after epoch 21: 45181.375\n",
            "Loss after epoch 22: 45160.75\n",
            "Loss after epoch 23: 44754.125\n",
            "Loss after epoch 24: 44239.875\n",
            "Loss after epoch 25: 43574.5\n",
            "Loss after epoch 26: 45116.75\n",
            "Loss after epoch 27: 44197.375\n",
            "Loss after epoch 28: 43970.0\n",
            "Loss after epoch 29: 44308.625\n",
            "Loss after epoch 30: 43032.25\n",
            "Loss after epoch 31: 43908.75\n",
            "Loss after epoch 32: 43378.0\n",
            "Loss after epoch 33: 43945.5\n",
            "Loss after epoch 34: 44776.625\n",
            "Loss after epoch 35: 43427.125\n",
            "Loss after epoch 36: 44469.75\n",
            "Loss after epoch 37: 43059.5\n",
            "Loss after epoch 38: 43784.5\n",
            "Loss after epoch 39: 43141.0\n"
          ]
        },
        {
          "output_type": "execute_result",
          "data": {
            "text/plain": [
              "(435641, 718520)"
            ]
          },
          "metadata": {},
          "execution_count": 17
        }
      ],
      "source": [
        "# Entrenamos el modelo generador de vectores, utilizando nuestro callback\n",
        "w2v_model.train(\n",
        "    sentence_tokens,\n",
        "    total_examples=w2v_model.corpus_count,\n",
        "    epochs=40,\n",
        "    compute_loss = True,\n",
        "    callbacks=[callback()]\n",
        ")"
      ]
    },
    {
      "cell_type": "markdown",
      "metadata": {
        "id": "ddT9NVuNlCAe"
      },
      "source": [
        "# **4. Testeamos el modelo**"
      ]
    },
    {
      "cell_type": "code",
      "execution_count": 21,
      "metadata": {
        "id": "6cHN9xGLuPEm",
        "colab": {
          "base_uri": "https://localhost:8080/"
        },
        "outputId": "6decb88a-b181-4c1c-f710-6afa50c00ee7"
      },
      "outputs": [
        {
          "output_type": "execute_result",
          "data": {
            "text/plain": [
              "[('soldier', 0.8767678141593933),\n",
              " ('dreadlock', 0.8481713533401489),\n",
              " ('yoe', 0.8029671311378479),\n",
              " ('rasta', 0.7495781183242798),\n",
              " ('woe', 0.7286084890365601),\n",
              " ('blowing', 0.7025793790817261),\n",
              " ('yoy', 0.638283908367157),\n",
              " ('air', 0.6265965104103088),\n",
              " ('wise', 0.6230303049087524),\n",
              " ('was', 0.6140039563179016)]"
            ]
          },
          "metadata": {},
          "execution_count": 21
        }
      ],
      "source": [
        "# Palabras que MÁS se relacionan con...:\n",
        "w2v_model.wv.most_similar(positive=[\"buffalo\"], topn=10)"
      ]
    },
    {
      "cell_type": "code",
      "execution_count": 20,
      "metadata": {
        "id": "47HiU5gdkdMq",
        "colab": {
          "base_uri": "https://localhost:8080/"
        },
        "outputId": "7c181930-7d4f-4a34-8c15-d384265b3335"
      },
      "outputs": [
        {
          "output_type": "execute_result",
          "data": {
            "text/plain": [
              "[('your', -0.08620152622461319),\n",
              " ('we', -0.09466049820184708),\n",
              " ('ya', -0.10802093893289566),\n",
              " ('so', -0.11470380425453186),\n",
              " ('never', -0.14116749167442322),\n",
              " ('no', -0.14591433107852936),\n",
              " ('me', -0.15003158152103424),\n",
              " ('do', -0.15221208333969116),\n",
              " ('jah', -0.1536726951599121),\n",
              " ('got', -0.15477313101291656)]"
            ]
          },
          "metadata": {},
          "execution_count": 20
        }
      ],
      "source": [
        "# Palabras que MENOS se relacionan con...:\n",
        "w2v_model.wv.most_similar(negative=[\"buffalo\"], topn=10)"
      ]
    },
    {
      "cell_type": "code",
      "execution_count": 22,
      "metadata": {
        "id": "DT4Rvno2mD65",
        "colab": {
          "base_uri": "https://localhost:8080/"
        },
        "outputId": "37e30f2c-38d7-4a01-9504-206072cca07b"
      },
      "outputs": [
        {
          "output_type": "execute_result",
          "data": {
            "text/plain": [
              "[('cry', 0.7137670516967773),\n",
              " ('ism', 0.685452401638031),\n",
              " ('tears', 0.6797321438789368),\n",
              " ('fowl', 0.65244060754776),\n",
              " ('pyaka', 0.6459764838218689),\n",
              " ('pain', 0.6260718107223511),\n",
              " ('truth', 0.6250441670417786),\n",
              " ('shed', 0.6192398071289062),\n",
              " ('no', 0.617542564868927),\n",
              " ('home', 0.5971139073371887)]"
            ]
          },
          "metadata": {},
          "execution_count": 22
        }
      ],
      "source": [
        "# Palabras que MÁS se relacionan con...:\n",
        "w2v_model.wv.most_similar(positive=[\"woman\"], topn=10)"
      ]
    },
    {
      "cell_type": "code",
      "execution_count": 26,
      "metadata": {
        "id": "XPLDPgzBmQXt",
        "colab": {
          "base_uri": "https://localhost:8080/"
        },
        "outputId": "e30119b6-9385-4bf9-98e9-3f34c10a7662"
      },
      "outputs": [
        {
          "output_type": "execute_result",
          "data": {
            "text/plain": [
              "[('shot', 0.8573581576347351),\n",
              " ('brown', 0.7240433692932129),\n",
              " ('fit', 0.6985981464385986),\n",
              " ('cap', 0.6791487336158752),\n",
              " ('mr', 0.6389192342758179)]"
            ]
          },
          "metadata": {},
          "execution_count": 26
        }
      ],
      "source": [
        "# Palabras que MÁS se relacionan con...:\n",
        "w2v_model.wv.most_similar(positive=[\"sheriff\"], topn=5)"
      ]
    },
    {
      "cell_type": "code",
      "execution_count": 27,
      "metadata": {
        "id": "L_UvHPMMklOr",
        "colab": {
          "base_uri": "https://localhost:8080/",
          "height": 304
        },
        "outputId": "590085ed-5698-4afb-9649-8b4ce402620e"
      },
      "outputs": [
        {
          "output_type": "error",
          "ename": "KeyError",
          "evalue": "\"Key 'diedaa' not present in vocabulary\"",
          "traceback": [
            "\u001b[0;31m---------------------------------------------------------------------------\u001b[0m",
            "\u001b[0;31mKeyError\u001b[0m                                  Traceback (most recent call last)",
            "\u001b[0;32m/tmp/ipython-input-2157908128.py\u001b[0m in \u001b[0;36m<cell line: 0>\u001b[0;34m()\u001b[0m\n\u001b[1;32m      1\u001b[0m \u001b[0;31m# Ensayar con una palabra que no está en el vocabulario:\u001b[0m\u001b[0;34m\u001b[0m\u001b[0;34m\u001b[0m\u001b[0m\n\u001b[0;32m----> 2\u001b[0;31m \u001b[0mw2v_model\u001b[0m\u001b[0;34m.\u001b[0m\u001b[0mwv\u001b[0m\u001b[0;34m.\u001b[0m\u001b[0mmost_similar\u001b[0m\u001b[0;34m(\u001b[0m\u001b[0mnegative\u001b[0m\u001b[0;34m=\u001b[0m\u001b[0;34m[\u001b[0m\u001b[0;34m\"diedaa\"\u001b[0m\u001b[0;34m]\u001b[0m\u001b[0;34m)\u001b[0m\u001b[0;34m\u001b[0m\u001b[0;34m\u001b[0m\u001b[0m\n\u001b[0m",
            "\u001b[0;32m/usr/local/lib/python3.12/dist-packages/gensim/models/keyedvectors.py\u001b[0m in \u001b[0;36mmost_similar\u001b[0;34m(self, positive, negative, topn, clip_start, clip_end, restrict_vocab, indexer)\u001b[0m\n\u001b[1;32m    839\u001b[0m \u001b[0;34m\u001b[0m\u001b[0m\n\u001b[1;32m    840\u001b[0m         \u001b[0;31m# compute the weighted average of all keys\u001b[0m\u001b[0;34m\u001b[0m\u001b[0;34m\u001b[0m\u001b[0m\n\u001b[0;32m--> 841\u001b[0;31m         \u001b[0mmean\u001b[0m \u001b[0;34m=\u001b[0m \u001b[0mself\u001b[0m\u001b[0;34m.\u001b[0m\u001b[0mget_mean_vector\u001b[0m\u001b[0;34m(\u001b[0m\u001b[0mkeys\u001b[0m\u001b[0;34m,\u001b[0m \u001b[0mweight\u001b[0m\u001b[0;34m,\u001b[0m \u001b[0mpre_normalize\u001b[0m\u001b[0;34m=\u001b[0m\u001b[0;32mTrue\u001b[0m\u001b[0;34m,\u001b[0m \u001b[0mpost_normalize\u001b[0m\u001b[0;34m=\u001b[0m\u001b[0;32mTrue\u001b[0m\u001b[0;34m,\u001b[0m \u001b[0mignore_missing\u001b[0m\u001b[0;34m=\u001b[0m\u001b[0;32mFalse\u001b[0m\u001b[0;34m)\u001b[0m\u001b[0;34m\u001b[0m\u001b[0;34m\u001b[0m\u001b[0m\n\u001b[0m\u001b[1;32m    842\u001b[0m         all_keys = [\n\u001b[1;32m    843\u001b[0m             \u001b[0mself\u001b[0m\u001b[0;34m.\u001b[0m\u001b[0mget_index\u001b[0m\u001b[0;34m(\u001b[0m\u001b[0mkey\u001b[0m\u001b[0;34m)\u001b[0m \u001b[0;32mfor\u001b[0m \u001b[0mkey\u001b[0m \u001b[0;32min\u001b[0m \u001b[0mkeys\u001b[0m \u001b[0;32mif\u001b[0m \u001b[0misinstance\u001b[0m\u001b[0;34m(\u001b[0m\u001b[0mkey\u001b[0m\u001b[0;34m,\u001b[0m \u001b[0m_KEY_TYPES\u001b[0m\u001b[0;34m)\u001b[0m \u001b[0;32mand\u001b[0m \u001b[0mself\u001b[0m\u001b[0;34m.\u001b[0m\u001b[0mhas_index_for\u001b[0m\u001b[0;34m(\u001b[0m\u001b[0mkey\u001b[0m\u001b[0;34m)\u001b[0m\u001b[0;34m\u001b[0m\u001b[0;34m\u001b[0m\u001b[0m\n",
            "\u001b[0;32m/usr/local/lib/python3.12/dist-packages/gensim/models/keyedvectors.py\u001b[0m in \u001b[0;36mget_mean_vector\u001b[0;34m(self, keys, weights, pre_normalize, post_normalize, ignore_missing)\u001b[0m\n\u001b[1;32m    516\u001b[0m                 \u001b[0mtotal_weight\u001b[0m \u001b[0;34m+=\u001b[0m \u001b[0mabs\u001b[0m\u001b[0;34m(\u001b[0m\u001b[0mweights\u001b[0m\u001b[0;34m[\u001b[0m\u001b[0midx\u001b[0m\u001b[0;34m]\u001b[0m\u001b[0;34m)\u001b[0m\u001b[0;34m\u001b[0m\u001b[0;34m\u001b[0m\u001b[0m\n\u001b[1;32m    517\u001b[0m             \u001b[0;32melif\u001b[0m \u001b[0;32mnot\u001b[0m \u001b[0mignore_missing\u001b[0m\u001b[0;34m:\u001b[0m\u001b[0;34m\u001b[0m\u001b[0;34m\u001b[0m\u001b[0m\n\u001b[0;32m--> 518\u001b[0;31m                 \u001b[0;32mraise\u001b[0m \u001b[0mKeyError\u001b[0m\u001b[0;34m(\u001b[0m\u001b[0;34mf\"Key '{key}' not present in vocabulary\"\u001b[0m\u001b[0;34m)\u001b[0m\u001b[0;34m\u001b[0m\u001b[0;34m\u001b[0m\u001b[0m\n\u001b[0m\u001b[1;32m    519\u001b[0m \u001b[0;34m\u001b[0m\u001b[0m\n\u001b[1;32m    520\u001b[0m         \u001b[0;32mif\u001b[0m \u001b[0mtotal_weight\u001b[0m \u001b[0;34m>\u001b[0m \u001b[0;36m0\u001b[0m\u001b[0;34m:\u001b[0m\u001b[0;34m\u001b[0m\u001b[0;34m\u001b[0m\u001b[0m\n",
            "\u001b[0;31mKeyError\u001b[0m: \"Key 'diedaa' not present in vocabulary\""
          ]
        }
      ],
      "source": [
        "# Ensayar con una palabra que no está en el vocabulario:\n",
        "w2v_model.wv.most_similar(negative=[\"diedaa\"])"
      ]
    },
    {
      "cell_type": "code",
      "execution_count": 35,
      "metadata": {
        "colab": {
          "base_uri": "https://localhost:8080/"
        },
        "id": "cxXbSXRl1FBg",
        "outputId": "7a67a49c-f4a7-47cb-f131-12c9d1b18d9e"
      },
      "outputs": [
        {
          "output_type": "stream",
          "name": "stdout",
          "text": [
            "[ 0.20529364  0.13177629 -0.16659252  0.22565132 -0.07631651  0.09259167\n",
            "  0.28537074  0.02979208  0.17393287  0.4044327 ] ..\n"
          ]
        }
      ],
      "source": [
        "# el método `get_vector` permite obtener los vectores:\n",
        "vector_love = w2v_model.wv.get_vector(\"love\")\n",
        "print(vector_love[:10], \"..\")"
      ]
    },
    {
      "cell_type": "code",
      "execution_count": 29,
      "metadata": {
        "colab": {
          "base_uri": "https://localhost:8080/"
        },
        "id": "oQCSSouu1FBh",
        "outputId": "6754f57a-4c4e-457b-cb5c-07d643439841"
      },
      "outputs": [
        {
          "output_type": "execute_result",
          "data": {
            "text/plain": [
              "[('love', 0.9999998807907104),\n",
              " ('protect', 0.589076817035675),\n",
              " ('na', 0.5485755801200867),\n",
              " ('alone', 0.5463770031929016),\n",
              " ('given', 0.5405012369155884),\n",
              " (\"you've\", 0.528694748878479),\n",
              " ('really', 0.5243893265724182),\n",
              " ('nobody', 0.5042423605918884),\n",
              " (\"feelin'\", 0.4980792999267578),\n",
              " ('wait', 0.4771280586719513)]"
            ]
          },
          "metadata": {},
          "execution_count": 29
        }
      ],
      "source": [
        "# el método `most_similar` también permite comparar a partir de vectores\n",
        "w2v_model.wv.most_similar(vector_love)"
      ]
    },
    {
      "cell_type": "code",
      "execution_count": 30,
      "metadata": {
        "colab": {
          "base_uri": "https://localhost:8080/"
        },
        "id": "Ibkn0ey31FBh",
        "outputId": "98aeea35-f23b-4a6b-b6f7-131aee5553f5"
      },
      "outputs": [
        {
          "output_type": "execute_result",
          "data": {
            "text/plain": [
              "[('protect', 0.589076817035675),\n",
              " ('na', 0.5485756397247314),\n",
              " ('alone', 0.5463770031929016),\n",
              " ('given', 0.5405012369155884),\n",
              " (\"you've\", 0.528694748878479),\n",
              " ('really', 0.5243893265724182),\n",
              " ('nobody', 0.5042423009872437),\n",
              " (\"feelin'\", 0.4980793297290802),\n",
              " ('wait', 0.4771280586719513),\n",
              " ('ask', 0.47409629821777344)]"
            ]
          },
          "metadata": {},
          "execution_count": 30
        }
      ],
      "source": [
        "# Palabras que MÁS se relacionan con...:\n",
        "w2v_model.wv.most_similar(positive=[\"love\"], topn=10)"
      ]
    },
    {
      "cell_type": "markdown",
      "metadata": {
        "id": "_g8UVWe6lFmh"
      },
      "source": [
        "# **5 Visualización del espacio de embeddings reducido**"
      ]
    },
    {
      "cell_type": "code",
      "execution_count": 31,
      "metadata": {
        "id": "pDxEVXAivjr9"
      },
      "outputs": [],
      "source": [
        "from sklearn.decomposition import IncrementalPCA\n",
        "from sklearn.manifold import TSNE\n",
        "import numpy as np\n",
        "\n",
        "def reduce_dimensions(model, num_dimensions = 2 ):\n",
        "\n",
        "    vectors = np.asarray(model.wv.vectors)\n",
        "    labels = np.asarray(model.wv.index_to_key)\n",
        "\n",
        "    tsne = TSNE(n_components=num_dimensions, random_state=0)\n",
        "    vectors = tsne.fit_transform(vectors)\n",
        "\n",
        "    return vectors, labels"
      ]
    },
    {
      "cell_type": "code",
      "execution_count": 32,
      "metadata": {
        "id": "NCCXtDpcugmd",
        "colab": {
          "base_uri": "https://localhost:8080/",
          "height": 542
        },
        "outputId": "cc63d0f6-d594-4bfc-88e5-15a794c04df1"
      },
      "outputs": [
        {
          "output_type": "display_data",
          "data": {
            "text/html": [
              "<html>\n",
              "<head><meta charset=\"utf-8\" /></head>\n",
              "<body>\n",
              "    <div>            <script src=\"https://cdnjs.cloudflare.com/ajax/libs/mathjax/2.7.5/MathJax.js?config=TeX-AMS-MML_SVG\"></script><script type=\"text/javascript\">if (window.MathJax && window.MathJax.Hub && window.MathJax.Hub.Config) {window.MathJax.Hub.Config({SVG: {font: \"STIX-Web\"}});}</script>                <script type=\"text/javascript\">window.PlotlyConfig = {MathJaxConfig: 'local'};</script>\n",
              "        <script charset=\"utf-8\" src=\"https://cdn.plot.ly/plotly-2.35.2.min.js\"></script>                <div id=\"f9f1218e-f32a-4a8e-b651-88cc0843aa03\" class=\"plotly-graph-div\" style=\"height:525px; width:100%;\"></div>            <script type=\"text/javascript\">                                    window.PLOTLYENV=window.PLOTLYENV || {};                                    if (document.getElementById(\"f9f1218e-f32a-4a8e-b651-88cc0843aa03\")) {                    Plotly.newPlot(                        \"f9f1218e-f32a-4a8e-b651-88cc0843aa03\",                        [{\"hovertemplate\":\"x=%{x}\\u003cbr\\u003ey=%{y}\\u003cbr\\u003etext=%{text}\\u003cextra\\u003e\\u003c\\u002fextra\\u003e\",\"legendgroup\":\"\",\"marker\":{\"color\":\"#636efa\",\"symbol\":\"circle\"},\"mode\":\"markers+text\",\"name\":\"\",\"orientation\":\"v\",\"showlegend\":false,\"text\":[\"the\",\"you\",\"i\",\"a\",\"to\",\"and\",\"no\",\"it\",\"in\",\"oh\",\"me\",\"be\",\"love\",\"is\",\"of\",\"yeah\",\"don't\",\"so\",\"all\",\"we\",\"your\",\"my\",\"on\",\"for\",\"up\",\"now\",\"down\",\"right\",\"one\",\"say\",\"this\",\"know\",\"do\",\"gonna\",\"but\",\"they\",\"when\",\"got\",\"jah\",\"that\",\"de\",\"i'm\",\"get\",\"come\",\"baby\",\"we're\",\"will\",\"give\",\"it's\",\"from\",\"people\",\"like\",\"there\",\"little\",\"jammin'\",\"thing\",\"coming\",\"with\",\"said\",\"what\",\"wanna\",\"can\",\"every\",\"feel\",\"'cause\",\"them\",\"was\",\"man\",\"want\",\"let\",\"can't\",\"ooh\",\"na\",\"try\",\"go\",\"just\",\"see\",\"could\",\"more\",\"lord\",\"are\",\"take\",\"worry\",\"stand\",\"through\",\"heart\",\"dread\",\"time\",\"good\",\"about\",\"easy\",\"life\",\"simmer\",\"some\",\"together\",\"never\",\"much\",\"woman\",\"yoy\",\"stir\",\"won't\",\"need\",\"have\",\"day\",\"ya\",\"back\",\"then\",\"hammer\",\"uh\",\"she\",\"soul\",\"'pon\",\"if\",\"cry\",\"forever\",\"move\",\"town\",\"whatcha\",\"rock\",\"bad\",\"doo\",\"youths\",\"very\",\"away\",\"we'll\",\"wo\",\"children\",\"rammer\",\"race\",\"heathen\",\"i'll\",\"rebel\",\"wall\",\"he\",\"wop\",\"sweet\",\"you're\",\"hear\",\"why\",\"not\",\"world\",\"tell\",\"loved\",\"our\",\"loving\",\"here\",\"boys\",\"ganja\",\"where\",\"bomb\",\"long\",\"i've\",\"us\",\"movement\",\"cok\",\"fire\",\"choo\",\"that's\",\"let's\",\"something\",\"make\",\"carry\",\"rat\",\"fight\",\"would\",\"who\",\"africa\",\"ain't\",\"too\",\"woo\",\"yo\",\"how\",\"gone\",\"look\",\"their\",\"am\",\"skanking\",\"jamaica\",\"cluck\",\"oo\",\"music\",\"darling\",\"well\",\"by\",\"trench\",\"unite\",\"things\",\"way\",\"while\",\"woe\",\"singin'\",\"you've\",\"keep\",\"at\",\"place\",\"war\",\"talk\",\"exodus\",\"hit\",\"as\"],\"x\":[-3.03449,1.5659465,4.7782717,-1.4543188,2.3349376,-5.4104023,6.2415733,-1.6975127,4.786594,11.016609,-7.856417,21.442345,12.077173,-2.125164,16.128284,24.336903,11.4937,9.797522,10.696367,3.4035776,13.782,0.68398446,-10.135273,-10.967705,-18.29664,-4.7711086,2.7613263,8.994161,16.307512,17.942709,-1.4077458,8.122341,-6.4785743,15.295251,-8.379813,2.2599642,5.1814766,-0.65937734,17.20264,6.2539105,-5.085017,0.75395393,-13.774557,-22.742708,5.452343,11.897922,4.1483035,5.205647,3.523719,3.8857334,18.000408,3.9138484,-11.764232,13.41999,5.522914,10.516952,-2.4933817,-12.518092,3.0338457,-1.6601052,18.489136,-7.5162992,9.550447,6.1958394,11.009071,-4.022755,-15.184245,-0.4799061,4.921097,10.106686,19.491463,-13.716974,0.5378029,-4.796506,-12.734328,14.20233,-6.407371,20.194174,10.688879,-0.48974514,-5.1284885,-24.729847,11.323261,-16.91507,-5.0589633,15.294526,-11.883065,7.288609,13.90487,12.8864355,-24.943378,-3.515791,-15.614341,-3.2518919,-13.495175,13.950854,-19.856117,6.6402707,-18.63632,12.069405,15.620987,0.4775374,12.177568,7.468568,-1.2628512,-6.1917553,-16.022102,1.0634905,9.020722,-14.611236,-3.0027785,-7.4354925,10.376979,7.3503146,18.336079,17.041254,-0.1877148,-21.056683,-1.3925127,-21.53105,-16.095816,16.786484,-23.395676,-13.701951,19.165503,-17.22148,19.527554,0.20508787,-25.521353,-6.635718,-15.135861,-16.492332,-6.469997,-12.786598,-16.197168,2.9876378,3.2037463,21.446014,8.371173,1.8618875,-21.396252,18.751532,20.616426,-8.23944,17.586405,8.894759,-21.256958,-3.2430465,-9.531157,8.879989,-7.1203113,-2.8515866,14.665402,18.390862,-19.018284,-5.7490587,-16.236126,-17.499874,9.050473,19.247458,-18.962597,-8.454093,-25.218166,-9.77347,10.742262,-9.812836,8.649582,-17.071796,7.0535793,-13.145308,-18.92882,26.510162,-18.963505,-2.2078433,-20.46795,7.02803,-24.771894,-14.924501,0.18045866,-4.256973,13.672511,0.44214407,-3.142963,5.832352,0.009094672,8.697993,-5.989517,-1.7072226,-23.91425,-17.896235,10.511005,0.8626127,-8.270007,-1.2607929,12.451045,5.5261464,2.3542306,18.800396,14.320222,-3.9909666],\"xaxis\":\"x\",\"y\":[-1.2192839,4.9106464,6.134877,-15.443333,11.232688,8.636979,-18.169243,-28.921005,-6.25535,17.100822,21.64854,9.192592,5.376489,-12.191333,-2.8571987,0.8815657,-11.686206,24.226048,20.179829,2.9169657,15.583958,11.08136,14.199891,10.3455105,12.978898,15.487407,-24.499006,19.527493,0.4666166,16.890282,14.35731,4.545202,4.929794,-16.030474,-16.228165,7.612064,2.0265272,10.647821,8.250387,18.376015,-25.760555,15.343964,9.584721,12.41279,15.2724085,-8.573347,11.59129,25.355904,19.75599,-11.13598,12.04456,-15.55503,7.343547,-18.641516,-13.47853,1.1098998,19.34778,3.0138807,13.392746,12.24968,-20.911406,9.933072,10.928633,22.11859,9.397116,-21.931314,-23.644903,-20.506796,7.612262,5.8959365,-11.543785,-13.964568,9.178759,21.615595,5.5571938,8.806191,1.6696131,16.573042,2.580938,20.582079,11.160952,-11.540164,-14.702256,13.348482,-0.88828605,21.281597,-11.214403,10.417361,11.809672,-13.373174,-9.526817,9.093902,-4.179795,13.487686,-6.4899273,6.243914,9.27269,-20.636562,-20.332174,-20.991896,13.541013,-18.027876,12.747482,13.05265,-24.664526,-28.024601,8.990067,-17.180891,12.822671,0.25804508,27.197529,-26.299671,14.650242,-20.66061,4.7429166,9.96737,-6.391751,17.5291,-4.766703,16.98554,19.843084,-11.714783,4.28465,-2.2240276,5.164579,-17.705862,-0.24090607,-16.960342,-1.701859,-26.901093,5.9729447,-6.6161704,-26.97661,12.209245,21.214798,-9.761085,-3.8629491,-1.6203933,16.52316,-1.4865603,6.4539413,-1.9466121,16.676878,16.32142,5.1036625,2.5186837,17.292568,-7.822949,7.982713,-0.7106323,-8.803335,16.353403,-1.339968,10.25409,-8.875602,17.593847,21.50349,3.7647226,-9.873045,16.374815,-12.688043,9.719342,-1.6579456,0.4132109,4.419396,-6.956157,-4.8794928,-0.83438665,-14.865988,-14.934455,-21.289446,8.297232,-3.3220775,6.0992846,4.9912896,2.596314,-10.19376,-9.059769,13.183989,-9.060044,-7.4603744,24.788485,2.6166801,4.6107297,-5.4175344,-4.9020233,13.971979,0.31414366,-7.9366846,-20.94235,-13.650524,9.727679,12.776398,7.02106,7.9455676,-4.4787445,-11.969003,10.326809,-6.1944647,3.7980013],\"yaxis\":\"y\",\"type\":\"scatter\"}],                        {\"template\":{\"data\":{\"histogram2dcontour\":[{\"type\":\"histogram2dcontour\",\"colorbar\":{\"outlinewidth\":0,\"ticks\":\"\"},\"colorscale\":[[0.0,\"#0d0887\"],[0.1111111111111111,\"#46039f\"],[0.2222222222222222,\"#7201a8\"],[0.3333333333333333,\"#9c179e\"],[0.4444444444444444,\"#bd3786\"],[0.5555555555555556,\"#d8576b\"],[0.6666666666666666,\"#ed7953\"],[0.7777777777777778,\"#fb9f3a\"],[0.8888888888888888,\"#fdca26\"],[1.0,\"#f0f921\"]]}],\"choropleth\":[{\"type\":\"choropleth\",\"colorbar\":{\"outlinewidth\":0,\"ticks\":\"\"}}],\"histogram2d\":[{\"type\":\"histogram2d\",\"colorbar\":{\"outlinewidth\":0,\"ticks\":\"\"},\"colorscale\":[[0.0,\"#0d0887\"],[0.1111111111111111,\"#46039f\"],[0.2222222222222222,\"#7201a8\"],[0.3333333333333333,\"#9c179e\"],[0.4444444444444444,\"#bd3786\"],[0.5555555555555556,\"#d8576b\"],[0.6666666666666666,\"#ed7953\"],[0.7777777777777778,\"#fb9f3a\"],[0.8888888888888888,\"#fdca26\"],[1.0,\"#f0f921\"]]}],\"heatmap\":[{\"type\":\"heatmap\",\"colorbar\":{\"outlinewidth\":0,\"ticks\":\"\"},\"colorscale\":[[0.0,\"#0d0887\"],[0.1111111111111111,\"#46039f\"],[0.2222222222222222,\"#7201a8\"],[0.3333333333333333,\"#9c179e\"],[0.4444444444444444,\"#bd3786\"],[0.5555555555555556,\"#d8576b\"],[0.6666666666666666,\"#ed7953\"],[0.7777777777777778,\"#fb9f3a\"],[0.8888888888888888,\"#fdca26\"],[1.0,\"#f0f921\"]]}],\"heatmapgl\":[{\"type\":\"heatmapgl\",\"colorbar\":{\"outlinewidth\":0,\"ticks\":\"\"},\"colorscale\":[[0.0,\"#0d0887\"],[0.1111111111111111,\"#46039f\"],[0.2222222222222222,\"#7201a8\"],[0.3333333333333333,\"#9c179e\"],[0.4444444444444444,\"#bd3786\"],[0.5555555555555556,\"#d8576b\"],[0.6666666666666666,\"#ed7953\"],[0.7777777777777778,\"#fb9f3a\"],[0.8888888888888888,\"#fdca26\"],[1.0,\"#f0f921\"]]}],\"contourcarpet\":[{\"type\":\"contourcarpet\",\"colorbar\":{\"outlinewidth\":0,\"ticks\":\"\"}}],\"contour\":[{\"type\":\"contour\",\"colorbar\":{\"outlinewidth\":0,\"ticks\":\"\"},\"colorscale\":[[0.0,\"#0d0887\"],[0.1111111111111111,\"#46039f\"],[0.2222222222222222,\"#7201a8\"],[0.3333333333333333,\"#9c179e\"],[0.4444444444444444,\"#bd3786\"],[0.5555555555555556,\"#d8576b\"],[0.6666666666666666,\"#ed7953\"],[0.7777777777777778,\"#fb9f3a\"],[0.8888888888888888,\"#fdca26\"],[1.0,\"#f0f921\"]]}],\"surface\":[{\"type\":\"surface\",\"colorbar\":{\"outlinewidth\":0,\"ticks\":\"\"},\"colorscale\":[[0.0,\"#0d0887\"],[0.1111111111111111,\"#46039f\"],[0.2222222222222222,\"#7201a8\"],[0.3333333333333333,\"#9c179e\"],[0.4444444444444444,\"#bd3786\"],[0.5555555555555556,\"#d8576b\"],[0.6666666666666666,\"#ed7953\"],[0.7777777777777778,\"#fb9f3a\"],[0.8888888888888888,\"#fdca26\"],[1.0,\"#f0f921\"]]}],\"mesh3d\":[{\"type\":\"mesh3d\",\"colorbar\":{\"outlinewidth\":0,\"ticks\":\"\"}}],\"scatter\":[{\"fillpattern\":{\"fillmode\":\"overlay\",\"size\":10,\"solidity\":0.2},\"type\":\"scatter\"}],\"parcoords\":[{\"type\":\"parcoords\",\"line\":{\"colorbar\":{\"outlinewidth\":0,\"ticks\":\"\"}}}],\"scatterpolargl\":[{\"type\":\"scatterpolargl\",\"marker\":{\"colorbar\":{\"outlinewidth\":0,\"ticks\":\"\"}}}],\"bar\":[{\"error_x\":{\"color\":\"#2a3f5f\"},\"error_y\":{\"color\":\"#2a3f5f\"},\"marker\":{\"line\":{\"color\":\"#E5ECF6\",\"width\":0.5},\"pattern\":{\"fillmode\":\"overlay\",\"size\":10,\"solidity\":0.2}},\"type\":\"bar\"}],\"scattergeo\":[{\"type\":\"scattergeo\",\"marker\":{\"colorbar\":{\"outlinewidth\":0,\"ticks\":\"\"}}}],\"scatterpolar\":[{\"type\":\"scatterpolar\",\"marker\":{\"colorbar\":{\"outlinewidth\":0,\"ticks\":\"\"}}}],\"histogram\":[{\"marker\":{\"pattern\":{\"fillmode\":\"overlay\",\"size\":10,\"solidity\":0.2}},\"type\":\"histogram\"}],\"scattergl\":[{\"type\":\"scattergl\",\"marker\":{\"colorbar\":{\"outlinewidth\":0,\"ticks\":\"\"}}}],\"scatter3d\":[{\"type\":\"scatter3d\",\"line\":{\"colorbar\":{\"outlinewidth\":0,\"ticks\":\"\"}},\"marker\":{\"colorbar\":{\"outlinewidth\":0,\"ticks\":\"\"}}}],\"scattermapbox\":[{\"type\":\"scattermapbox\",\"marker\":{\"colorbar\":{\"outlinewidth\":0,\"ticks\":\"\"}}}],\"scatterternary\":[{\"type\":\"scatterternary\",\"marker\":{\"colorbar\":{\"outlinewidth\":0,\"ticks\":\"\"}}}],\"scattercarpet\":[{\"type\":\"scattercarpet\",\"marker\":{\"colorbar\":{\"outlinewidth\":0,\"ticks\":\"\"}}}],\"carpet\":[{\"aaxis\":{\"endlinecolor\":\"#2a3f5f\",\"gridcolor\":\"white\",\"linecolor\":\"white\",\"minorgridcolor\":\"white\",\"startlinecolor\":\"#2a3f5f\"},\"baxis\":{\"endlinecolor\":\"#2a3f5f\",\"gridcolor\":\"white\",\"linecolor\":\"white\",\"minorgridcolor\":\"white\",\"startlinecolor\":\"#2a3f5f\"},\"type\":\"carpet\"}],\"table\":[{\"cells\":{\"fill\":{\"color\":\"#EBF0F8\"},\"line\":{\"color\":\"white\"}},\"header\":{\"fill\":{\"color\":\"#C8D4E3\"},\"line\":{\"color\":\"white\"}},\"type\":\"table\"}],\"barpolar\":[{\"marker\":{\"line\":{\"color\":\"#E5ECF6\",\"width\":0.5},\"pattern\":{\"fillmode\":\"overlay\",\"size\":10,\"solidity\":0.2}},\"type\":\"barpolar\"}],\"pie\":[{\"automargin\":true,\"type\":\"pie\"}]},\"layout\":{\"autotypenumbers\":\"strict\",\"colorway\":[\"#636efa\",\"#EF553B\",\"#00cc96\",\"#ab63fa\",\"#FFA15A\",\"#19d3f3\",\"#FF6692\",\"#B6E880\",\"#FF97FF\",\"#FECB52\"],\"font\":{\"color\":\"#2a3f5f\"},\"hovermode\":\"closest\",\"hoverlabel\":{\"align\":\"left\"},\"paper_bgcolor\":\"white\",\"plot_bgcolor\":\"#E5ECF6\",\"polar\":{\"bgcolor\":\"#E5ECF6\",\"angularaxis\":{\"gridcolor\":\"white\",\"linecolor\":\"white\",\"ticks\":\"\"},\"radialaxis\":{\"gridcolor\":\"white\",\"linecolor\":\"white\",\"ticks\":\"\"}},\"ternary\":{\"bgcolor\":\"#E5ECF6\",\"aaxis\":{\"gridcolor\":\"white\",\"linecolor\":\"white\",\"ticks\":\"\"},\"baxis\":{\"gridcolor\":\"white\",\"linecolor\":\"white\",\"ticks\":\"\"},\"caxis\":{\"gridcolor\":\"white\",\"linecolor\":\"white\",\"ticks\":\"\"}},\"coloraxis\":{\"colorbar\":{\"outlinewidth\":0,\"ticks\":\"\"}},\"colorscale\":{\"sequential\":[[0.0,\"#0d0887\"],[0.1111111111111111,\"#46039f\"],[0.2222222222222222,\"#7201a8\"],[0.3333333333333333,\"#9c179e\"],[0.4444444444444444,\"#bd3786\"],[0.5555555555555556,\"#d8576b\"],[0.6666666666666666,\"#ed7953\"],[0.7777777777777778,\"#fb9f3a\"],[0.8888888888888888,\"#fdca26\"],[1.0,\"#f0f921\"]],\"sequentialminus\":[[0.0,\"#0d0887\"],[0.1111111111111111,\"#46039f\"],[0.2222222222222222,\"#7201a8\"],[0.3333333333333333,\"#9c179e\"],[0.4444444444444444,\"#bd3786\"],[0.5555555555555556,\"#d8576b\"],[0.6666666666666666,\"#ed7953\"],[0.7777777777777778,\"#fb9f3a\"],[0.8888888888888888,\"#fdca26\"],[1.0,\"#f0f921\"]],\"diverging\":[[0,\"#8e0152\"],[0.1,\"#c51b7d\"],[0.2,\"#de77ae\"],[0.3,\"#f1b6da\"],[0.4,\"#fde0ef\"],[0.5,\"#f7f7f7\"],[0.6,\"#e6f5d0\"],[0.7,\"#b8e186\"],[0.8,\"#7fbc41\"],[0.9,\"#4d9221\"],[1,\"#276419\"]]},\"xaxis\":{\"gridcolor\":\"white\",\"linecolor\":\"white\",\"ticks\":\"\",\"title\":{\"standoff\":15},\"zerolinecolor\":\"white\",\"automargin\":true,\"zerolinewidth\":2},\"yaxis\":{\"gridcolor\":\"white\",\"linecolor\":\"white\",\"ticks\":\"\",\"title\":{\"standoff\":15},\"zerolinecolor\":\"white\",\"automargin\":true,\"zerolinewidth\":2},\"scene\":{\"xaxis\":{\"backgroundcolor\":\"#E5ECF6\",\"gridcolor\":\"white\",\"linecolor\":\"white\",\"showbackground\":true,\"ticks\":\"\",\"zerolinecolor\":\"white\",\"gridwidth\":2},\"yaxis\":{\"backgroundcolor\":\"#E5ECF6\",\"gridcolor\":\"white\",\"linecolor\":\"white\",\"showbackground\":true,\"ticks\":\"\",\"zerolinecolor\":\"white\",\"gridwidth\":2},\"zaxis\":{\"backgroundcolor\":\"#E5ECF6\",\"gridcolor\":\"white\",\"linecolor\":\"white\",\"showbackground\":true,\"ticks\":\"\",\"zerolinecolor\":\"white\",\"gridwidth\":2}},\"shapedefaults\":{\"line\":{\"color\":\"#2a3f5f\"}},\"annotationdefaults\":{\"arrowcolor\":\"#2a3f5f\",\"arrowhead\":0,\"arrowwidth\":1},\"geo\":{\"bgcolor\":\"white\",\"landcolor\":\"#E5ECF6\",\"subunitcolor\":\"white\",\"showland\":true,\"showlakes\":true,\"lakecolor\":\"white\"},\"title\":{\"x\":0.05},\"mapbox\":{\"style\":\"light\"}}},\"xaxis\":{\"anchor\":\"y\",\"domain\":[0.0,1.0],\"title\":{\"text\":\"x\"}},\"yaxis\":{\"anchor\":\"x\",\"domain\":[0.0,1.0],\"title\":{\"text\":\"y\"}},\"legend\":{\"tracegroupgap\":0},\"margin\":{\"t\":60}},                        {\"responsive\": true}                    ).then(function(){\n",
              "                            \n",
              "var gd = document.getElementById('f9f1218e-f32a-4a8e-b651-88cc0843aa03');\n",
              "var x = new MutationObserver(function (mutations, observer) {{\n",
              "        var display = window.getComputedStyle(gd).display;\n",
              "        if (!display || display === 'none') {{\n",
              "            console.log([gd, 'removed!']);\n",
              "            Plotly.purge(gd);\n",
              "            observer.disconnect();\n",
              "        }}\n",
              "}});\n",
              "\n",
              "// Listen for the removal of the full notebook cells\n",
              "var notebookContainer = gd.closest('#notebook-container');\n",
              "if (notebookContainer) {{\n",
              "    x.observe(notebookContainer, {childList: true});\n",
              "}}\n",
              "\n",
              "// Listen for the clearing of the current output cell\n",
              "var outputEl = gd.closest('.output');\n",
              "if (outputEl) {{\n",
              "    x.observe(outputEl, {childList: true});\n",
              "}}\n",
              "\n",
              "                        })                };                            </script>        </div>\n",
              "</body>\n",
              "</html>"
            ]
          },
          "metadata": {}
        }
      ],
      "source": [
        "# Graficar los embedddings en 2D\n",
        "import plotly.graph_objects as go\n",
        "import plotly.express as px\n",
        "\n",
        "vecs, labels = reduce_dimensions(w2v_model)\n",
        "\n",
        "MAX_WORDS=200\n",
        "fig = px.scatter(x=vecs[:MAX_WORDS,0], y=vecs[:MAX_WORDS,1], text=labels[:MAX_WORDS])\n",
        "fig.show(renderer=\"colab\") # esto para plotly en colab"
      ]
    },
    {
      "cell_type": "code",
      "execution_count": 33,
      "metadata": {
        "colab": {
          "base_uri": "https://localhost:8080/",
          "height": 542
        },
        "id": "BwrY-h4S1FBh",
        "outputId": "60071014-df7c-456f-cb56-2798d3d6cb62"
      },
      "outputs": [
        {
          "output_type": "display_data",
          "data": {
            "text/html": [
              "<html>\n",
              "<head><meta charset=\"utf-8\" /></head>\n",
              "<body>\n",
              "    <div>            <script src=\"https://cdnjs.cloudflare.com/ajax/libs/mathjax/2.7.5/MathJax.js?config=TeX-AMS-MML_SVG\"></script><script type=\"text/javascript\">if (window.MathJax && window.MathJax.Hub && window.MathJax.Hub.Config) {window.MathJax.Hub.Config({SVG: {font: \"STIX-Web\"}});}</script>                <script type=\"text/javascript\">window.PlotlyConfig = {MathJaxConfig: 'local'};</script>\n",
              "        <script charset=\"utf-8\" src=\"https://cdn.plot.ly/plotly-2.35.2.min.js\"></script>                <div id=\"71e6d665-a27e-4634-94b7-162e63742bc0\" class=\"plotly-graph-div\" style=\"height:525px; width:100%;\"></div>            <script type=\"text/javascript\">                                    window.PLOTLYENV=window.PLOTLYENV || {};                                    if (document.getElementById(\"71e6d665-a27e-4634-94b7-162e63742bc0\")) {                    Plotly.newPlot(                        \"71e6d665-a27e-4634-94b7-162e63742bc0\",                        [{\"hovertemplate\":\"x=%{x}\\u003cbr\\u003ey=%{y}\\u003cbr\\u003ez=%{z}\\u003cbr\\u003etext=%{text}\\u003cextra\\u003e\\u003c\\u002fextra\\u003e\",\"legendgroup\":\"\",\"marker\":{\"color\":\"#636efa\",\"symbol\":\"circle\",\"size\":2},\"mode\":\"markers+text\",\"name\":\"\",\"scene\":\"scene\",\"showlegend\":false,\"text\":[\"the\",\"you\",\"i\",\"a\",\"to\",\"and\",\"no\",\"it\",\"in\",\"oh\",\"me\",\"be\",\"love\",\"is\",\"of\",\"yeah\",\"don't\",\"so\",\"all\",\"we\",\"your\",\"my\",\"on\",\"for\",\"up\",\"now\",\"down\",\"right\",\"one\",\"say\",\"this\",\"know\",\"do\",\"gonna\",\"but\",\"they\",\"when\",\"got\",\"jah\",\"that\",\"de\",\"i'm\",\"get\",\"come\",\"baby\",\"we're\",\"will\",\"give\",\"it's\",\"from\",\"people\",\"like\",\"there\",\"little\",\"jammin'\",\"thing\",\"coming\",\"with\",\"said\",\"what\",\"wanna\",\"can\",\"every\",\"feel\",\"'cause\",\"them\",\"was\",\"man\",\"want\",\"let\",\"can't\",\"ooh\",\"na\",\"try\",\"go\",\"just\",\"see\",\"could\",\"more\",\"lord\",\"are\",\"take\",\"worry\",\"stand\",\"through\",\"heart\",\"dread\",\"time\",\"good\",\"about\",\"easy\",\"life\",\"simmer\",\"some\",\"together\",\"never\",\"much\",\"woman\",\"yoy\",\"stir\",\"won't\",\"need\",\"have\",\"day\",\"ya\",\"back\",\"then\",\"hammer\",\"uh\",\"she\",\"soul\",\"'pon\",\"if\",\"cry\",\"forever\",\"move\",\"town\",\"whatcha\",\"rock\",\"bad\",\"doo\",\"youths\",\"very\",\"away\",\"we'll\",\"wo\",\"children\",\"rammer\",\"race\",\"heathen\",\"i'll\",\"rebel\",\"wall\",\"he\",\"wop\",\"sweet\",\"you're\",\"hear\",\"why\",\"not\",\"world\",\"tell\",\"loved\",\"our\",\"loving\",\"here\",\"boys\",\"ganja\",\"where\",\"bomb\",\"long\",\"i've\",\"us\",\"movement\",\"cok\",\"fire\",\"choo\",\"that's\",\"let's\",\"something\",\"make\",\"carry\",\"rat\",\"fight\",\"would\",\"who\",\"africa\",\"ain't\",\"too\",\"woo\",\"yo\",\"how\",\"gone\",\"look\",\"their\",\"am\",\"skanking\",\"jamaica\",\"cluck\",\"oo\",\"music\",\"darling\",\"well\",\"by\",\"trench\",\"unite\",\"things\",\"way\",\"while\",\"woe\",\"singin'\",\"you've\",\"keep\",\"at\",\"place\",\"war\",\"talk\",\"exodus\",\"hit\",\"as\"],\"x\":[34.87601,9.642701,18.829752,3.390246,29.730225,6.9370174,-16.139267,-74.2602,-52.78165,-40.592224,40.52913,45.998486,-0.6951228,-54.819275,-29.684273,-34.160183,9.523721,-37.92482,-19.204817,36.89838,-29.1561,52.161407,17.829954,-77.03187,-50.156628,-4.3562474,-27.137325,-26.891838,16.695953,49.263733,-10.147542,35.187794,6.1137853,28.458984,-18.556778,54.841896,43.662773,-0.7480043,-51.806335,-6.287967,27.281641,46.344692,-65.265976,35.294674,-15.335578,-21.403484,-0.5057171,9.2563095,-18.7153,-34.39261,-39.627865,-8.170007,13.1704035,-19.412687,-53.665028,2.8735461,14.687963,29.006256,-42.227997,-64.110405,68.317635,33.956944,-5.1631513,2.050875,37.00303,22.790625,-27.285616,-16.60648,49.093258,10.608408,-33.4617,-30.559364,16.914236,27.591331,-6.3274755,3.4998462,-74.68008,60.183727,-3.8328722,-16.362986,-2.4217308,-59.53532,5.813202,-49.167347,-27.266193,1.8076502,-54.517048,-32.76975,31.577448,20.562359,-58.70225,-64.013016,-33.99305,26.377829,-63.985466,-1.8571055,-47.355576,20.265469,-48.975426,-5.9041996,12.17236,22.252964,33.69498,31.386024,-0.7959987,41.405598,-66.93041,19.425783,35.27047,10.072079,72.039505,22.705868,34.24041,22.86502,41.919224,-37.85616,-2.978931,17.299519,31.13389,27.359901,-7.733275,-35.596645,-22.077965,29.37666,40.298656,-49.097187,30.406626,14.804446,14.239897,32.599144,-61.94052,-39.655563,32.45766,-0.02135587,-2.4159238,-39.688934,-13.996755,-11.928367,8.052385,-11.627124,-35.141735,25.346867,62.28369,1.096593,39.924652,-8.700591,21.361359,45.286957,17.157495,48.03526,50.852898,33.4325,-15.920578,-38.169174,-7.8868074,-20.331844,-9.038385,-18.446814,-57.049606,51.414486,-29.219938,24.808863,7.6724663,11.712235,-10.930466,48.143917,41.32783,20.197443,-58.62763,-32.50146,-50.85259,-26.68075,-6.097648,-3.972818,-22.212276,4.8507905,-55.949978,-43.160522,20.836689,51.695217,-31.565392,-0.80523294,11.135823,44.482353,5.46493,46.406513,-8.670049,-8.8187475,-65.02816,-41.893414,3.96421,25.444681,12.5668955,15.3088665,8.027919,8.526829,-39.897713,-38.965134,-29.200836,6.3425975],\"y\":[-15.7876835,39.615707,-11.311892,-34.52455,-40.888733,65.02041,-13.268226,1.7478962,48.195553,-50.744164,52.32104,-7.5472684,-28.11031,-22.503153,-43.654926,6.560929,-14.564611,23.52882,48.93933,13.141842,53.94724,-47.297302,0.61759263,16.922209,24.076237,58.571438,-3.9650366,-12.57847,-41.250534,11.383293,-17.170515,-5.667886,24.383427,6.3479686,-49.933533,3.949258,3.9453735,28.704725,-48.246914,-2.6132374,-2.2688363,33.93566,4.7669945,59.87727,-31.183525,47.664474,-6.952837,-57.0854,66.47922,-4.223426,-57.97549,-35.93092,9.728211,-67.19128,-39.86843,-14.735504,64.447205,24.545923,-23.89816,7.9826536,15.186721,25.061722,14.022621,-10.225345,-45.577637,-34.778732,17.72958,-13.70356,34.65954,-38.5395,-31.179314,48.508915,-23.090164,50.128483,-0.4947307,-40.523388,-22.465948,17.599482,-20.9505,-15.8619585,44.806217,-12.879156,-30.182777,12.098719,11.938092,-51.687904,46.623608,-45.17972,-35.861397,-24.221958,-0.2501029,23.453331,3.4763417,39.517426,-4.2976203,-40.685555,11.850423,-62.72598,6.0836926,-64.921196,-76.87901,-43.753452,-47.13679,37.699375,27.261494,-15.299864,22.552795,-33.77383,-1.9036034,26.347351,-4.6146436,-15.755427,38.93795,-53.58447,-29.586714,-54.116833,7.464989,26.562302,20.968487,28.70504,19.515215,-17.870686,-5.2519765,32.387447,-24.973085,12.034151,-47.855076,-38.21273,-57.823772,-13.914836,27.958931,42.971684,-19.564138,43.20377,26.336205,-29.653175,39.177307,-54.198788,-6.388645,21.185043,2.5969386,-37.233482,9.060269,28.343004,-29.45198,-14.795621,23.570623,7.699343,44.561104,-28.269495,-16.053656,-55.757244,-28.22692,-46.296852,68.31904,31.042074,31.314684,28.100578,-11.159291,13.713729,33.387806,27.305964,-62.217075,53.171906,-36.514038,35.313873,53.583958,53.496243,-34.728996,38.706432,13.97506,-64.33425,48.053307,20.09076,10.192804,61.720543,-3.15102,32.035275,-1.2742121,14.237482,-17.463755,-63.139866,31.70419,17.680904,3.068694,50.788136,52.029182,27.375872,-14.4445095,2.0237048,-25.243994,-6.485949,-63.561913,14.419193,-46.837883,-24.432045,-7.581413,-39.207752,-28.611078,31.225979],\"z\":[15.9542,38.018173,-1.9392313,-22.007214,49.655655,-24.663637,-13.760447,-13.152474,-21.411812,20.169823,25.83729,42.128193,32.120647,-35.30053,2.2895894,-6.585123,66.12175,-44.867947,-43.961193,-12.742866,39.77887,21.909931,-37.62113,-1.2148509,-30.120684,32.04926,-22.781696,53.79864,37.064766,46.139896,38.672314,3.8254728,45.58071,53.395252,-40.00205,11.192007,0.8052302,-72.825356,-22.995733,16.664589,-55.635925,42.521526,14.249926,0.8171273,52.736633,22.390114,-15.484935,44.791847,5.5059023,3.792231,-9.542045,-6.415891,-54.548492,-12.436394,8.732951,29.421637,13.486027,-61.38761,53.407753,-37.222904,-25.678091,18.359283,-64.700485,5.9421563,13.139335,-48.491776,59.565662,-31.789543,-2.3026345,-62.31808,-49.5989,-25.118277,-7.851615,15.4825945,-51.784973,2.7413237,-2.4480932,34.209064,10.754225,68.97874,17.457575,-0.054658804,59.012924,-26.028503,23.030956,13.71004,15.53507,48.44858,-13.146072,58.06212,-12.889201,-15.809973,-22.34513,42.80023,29.885061,41.080383,-51.925507,15.710843,39.73163,-24.199198,-1.0460294,-29.827198,-2.544622,-13.448262,-32.25642,-57.421806,28.809582,-33.034443,-15.517002,-45.99609,-7.3514714,-64.33055,3.356738,15.907097,31.23648,-26.799662,69.51822,56.94572,42.756676,61.46613,50.8065,-43.29507,-59.11367,-35.09885,40.33925,28.036224,29.36868,-25.670292,-47.435684,-64.7194,3.794375,-42.888268,-59.15028,-36.08946,57.557274,-4.4953265,-12.3672,47.36982,41.539112,-20.13541,-52.973644,16.42781,32.55029,-13.773271,20.852503,22.540281,62.71709,-51.325706,-3.3519802,-15.983879,-39.61446,-21.446558,25.144518,-14.925602,-10.596552,25.659279,56.24969,-62.008343,28.446548,30.530827,12.581677,14.08455,-44.078983,49.979317,-60.396378,-28.37251,-18.415848,-33.385326,-7.6356344,-22.359251,46.297977,9.119364,-1.2435956,5.613039,-52.829273,0.2920626,-4.546812,31.736324,66.776535,-41.842434,36.371082,-1.826776,25.067984,-1.6655569,61.12257,-14.23835,47.728188,16.868736,-19.381065,46.05923,48.610817,24.505701,-22.287758,4.173063,-10.543105,0.043030336,-10.2856245,-18.381163,35.738476,13.096627],\"type\":\"scatter3d\"}],                        {\"template\":{\"data\":{\"histogram2dcontour\":[{\"type\":\"histogram2dcontour\",\"colorbar\":{\"outlinewidth\":0,\"ticks\":\"\"},\"colorscale\":[[0.0,\"#0d0887\"],[0.1111111111111111,\"#46039f\"],[0.2222222222222222,\"#7201a8\"],[0.3333333333333333,\"#9c179e\"],[0.4444444444444444,\"#bd3786\"],[0.5555555555555556,\"#d8576b\"],[0.6666666666666666,\"#ed7953\"],[0.7777777777777778,\"#fb9f3a\"],[0.8888888888888888,\"#fdca26\"],[1.0,\"#f0f921\"]]}],\"choropleth\":[{\"type\":\"choropleth\",\"colorbar\":{\"outlinewidth\":0,\"ticks\":\"\"}}],\"histogram2d\":[{\"type\":\"histogram2d\",\"colorbar\":{\"outlinewidth\":0,\"ticks\":\"\"},\"colorscale\":[[0.0,\"#0d0887\"],[0.1111111111111111,\"#46039f\"],[0.2222222222222222,\"#7201a8\"],[0.3333333333333333,\"#9c179e\"],[0.4444444444444444,\"#bd3786\"],[0.5555555555555556,\"#d8576b\"],[0.6666666666666666,\"#ed7953\"],[0.7777777777777778,\"#fb9f3a\"],[0.8888888888888888,\"#fdca26\"],[1.0,\"#f0f921\"]]}],\"heatmap\":[{\"type\":\"heatmap\",\"colorbar\":{\"outlinewidth\":0,\"ticks\":\"\"},\"colorscale\":[[0.0,\"#0d0887\"],[0.1111111111111111,\"#46039f\"],[0.2222222222222222,\"#7201a8\"],[0.3333333333333333,\"#9c179e\"],[0.4444444444444444,\"#bd3786\"],[0.5555555555555556,\"#d8576b\"],[0.6666666666666666,\"#ed7953\"],[0.7777777777777778,\"#fb9f3a\"],[0.8888888888888888,\"#fdca26\"],[1.0,\"#f0f921\"]]}],\"heatmapgl\":[{\"type\":\"heatmapgl\",\"colorbar\":{\"outlinewidth\":0,\"ticks\":\"\"},\"colorscale\":[[0.0,\"#0d0887\"],[0.1111111111111111,\"#46039f\"],[0.2222222222222222,\"#7201a8\"],[0.3333333333333333,\"#9c179e\"],[0.4444444444444444,\"#bd3786\"],[0.5555555555555556,\"#d8576b\"],[0.6666666666666666,\"#ed7953\"],[0.7777777777777778,\"#fb9f3a\"],[0.8888888888888888,\"#fdca26\"],[1.0,\"#f0f921\"]]}],\"contourcarpet\":[{\"type\":\"contourcarpet\",\"colorbar\":{\"outlinewidth\":0,\"ticks\":\"\"}}],\"contour\":[{\"type\":\"contour\",\"colorbar\":{\"outlinewidth\":0,\"ticks\":\"\"},\"colorscale\":[[0.0,\"#0d0887\"],[0.1111111111111111,\"#46039f\"],[0.2222222222222222,\"#7201a8\"],[0.3333333333333333,\"#9c179e\"],[0.4444444444444444,\"#bd3786\"],[0.5555555555555556,\"#d8576b\"],[0.6666666666666666,\"#ed7953\"],[0.7777777777777778,\"#fb9f3a\"],[0.8888888888888888,\"#fdca26\"],[1.0,\"#f0f921\"]]}],\"surface\":[{\"type\":\"surface\",\"colorbar\":{\"outlinewidth\":0,\"ticks\":\"\"},\"colorscale\":[[0.0,\"#0d0887\"],[0.1111111111111111,\"#46039f\"],[0.2222222222222222,\"#7201a8\"],[0.3333333333333333,\"#9c179e\"],[0.4444444444444444,\"#bd3786\"],[0.5555555555555556,\"#d8576b\"],[0.6666666666666666,\"#ed7953\"],[0.7777777777777778,\"#fb9f3a\"],[0.8888888888888888,\"#fdca26\"],[1.0,\"#f0f921\"]]}],\"mesh3d\":[{\"type\":\"mesh3d\",\"colorbar\":{\"outlinewidth\":0,\"ticks\":\"\"}}],\"scatter\":[{\"fillpattern\":{\"fillmode\":\"overlay\",\"size\":10,\"solidity\":0.2},\"type\":\"scatter\"}],\"parcoords\":[{\"type\":\"parcoords\",\"line\":{\"colorbar\":{\"outlinewidth\":0,\"ticks\":\"\"}}}],\"scatterpolargl\":[{\"type\":\"scatterpolargl\",\"marker\":{\"colorbar\":{\"outlinewidth\":0,\"ticks\":\"\"}}}],\"bar\":[{\"error_x\":{\"color\":\"#2a3f5f\"},\"error_y\":{\"color\":\"#2a3f5f\"},\"marker\":{\"line\":{\"color\":\"#E5ECF6\",\"width\":0.5},\"pattern\":{\"fillmode\":\"overlay\",\"size\":10,\"solidity\":0.2}},\"type\":\"bar\"}],\"scattergeo\":[{\"type\":\"scattergeo\",\"marker\":{\"colorbar\":{\"outlinewidth\":0,\"ticks\":\"\"}}}],\"scatterpolar\":[{\"type\":\"scatterpolar\",\"marker\":{\"colorbar\":{\"outlinewidth\":0,\"ticks\":\"\"}}}],\"histogram\":[{\"marker\":{\"pattern\":{\"fillmode\":\"overlay\",\"size\":10,\"solidity\":0.2}},\"type\":\"histogram\"}],\"scattergl\":[{\"type\":\"scattergl\",\"marker\":{\"colorbar\":{\"outlinewidth\":0,\"ticks\":\"\"}}}],\"scatter3d\":[{\"type\":\"scatter3d\",\"line\":{\"colorbar\":{\"outlinewidth\":0,\"ticks\":\"\"}},\"marker\":{\"colorbar\":{\"outlinewidth\":0,\"ticks\":\"\"}}}],\"scattermapbox\":[{\"type\":\"scattermapbox\",\"marker\":{\"colorbar\":{\"outlinewidth\":0,\"ticks\":\"\"}}}],\"scatterternary\":[{\"type\":\"scatterternary\",\"marker\":{\"colorbar\":{\"outlinewidth\":0,\"ticks\":\"\"}}}],\"scattercarpet\":[{\"type\":\"scattercarpet\",\"marker\":{\"colorbar\":{\"outlinewidth\":0,\"ticks\":\"\"}}}],\"carpet\":[{\"aaxis\":{\"endlinecolor\":\"#2a3f5f\",\"gridcolor\":\"white\",\"linecolor\":\"white\",\"minorgridcolor\":\"white\",\"startlinecolor\":\"#2a3f5f\"},\"baxis\":{\"endlinecolor\":\"#2a3f5f\",\"gridcolor\":\"white\",\"linecolor\":\"white\",\"minorgridcolor\":\"white\",\"startlinecolor\":\"#2a3f5f\"},\"type\":\"carpet\"}],\"table\":[{\"cells\":{\"fill\":{\"color\":\"#EBF0F8\"},\"line\":{\"color\":\"white\"}},\"header\":{\"fill\":{\"color\":\"#C8D4E3\"},\"line\":{\"color\":\"white\"}},\"type\":\"table\"}],\"barpolar\":[{\"marker\":{\"line\":{\"color\":\"#E5ECF6\",\"width\":0.5},\"pattern\":{\"fillmode\":\"overlay\",\"size\":10,\"solidity\":0.2}},\"type\":\"barpolar\"}],\"pie\":[{\"automargin\":true,\"type\":\"pie\"}]},\"layout\":{\"autotypenumbers\":\"strict\",\"colorway\":[\"#636efa\",\"#EF553B\",\"#00cc96\",\"#ab63fa\",\"#FFA15A\",\"#19d3f3\",\"#FF6692\",\"#B6E880\",\"#FF97FF\",\"#FECB52\"],\"font\":{\"color\":\"#2a3f5f\"},\"hovermode\":\"closest\",\"hoverlabel\":{\"align\":\"left\"},\"paper_bgcolor\":\"white\",\"plot_bgcolor\":\"#E5ECF6\",\"polar\":{\"bgcolor\":\"#E5ECF6\",\"angularaxis\":{\"gridcolor\":\"white\",\"linecolor\":\"white\",\"ticks\":\"\"},\"radialaxis\":{\"gridcolor\":\"white\",\"linecolor\":\"white\",\"ticks\":\"\"}},\"ternary\":{\"bgcolor\":\"#E5ECF6\",\"aaxis\":{\"gridcolor\":\"white\",\"linecolor\":\"white\",\"ticks\":\"\"},\"baxis\":{\"gridcolor\":\"white\",\"linecolor\":\"white\",\"ticks\":\"\"},\"caxis\":{\"gridcolor\":\"white\",\"linecolor\":\"white\",\"ticks\":\"\"}},\"coloraxis\":{\"colorbar\":{\"outlinewidth\":0,\"ticks\":\"\"}},\"colorscale\":{\"sequential\":[[0.0,\"#0d0887\"],[0.1111111111111111,\"#46039f\"],[0.2222222222222222,\"#7201a8\"],[0.3333333333333333,\"#9c179e\"],[0.4444444444444444,\"#bd3786\"],[0.5555555555555556,\"#d8576b\"],[0.6666666666666666,\"#ed7953\"],[0.7777777777777778,\"#fb9f3a\"],[0.8888888888888888,\"#fdca26\"],[1.0,\"#f0f921\"]],\"sequentialminus\":[[0.0,\"#0d0887\"],[0.1111111111111111,\"#46039f\"],[0.2222222222222222,\"#7201a8\"],[0.3333333333333333,\"#9c179e\"],[0.4444444444444444,\"#bd3786\"],[0.5555555555555556,\"#d8576b\"],[0.6666666666666666,\"#ed7953\"],[0.7777777777777778,\"#fb9f3a\"],[0.8888888888888888,\"#fdca26\"],[1.0,\"#f0f921\"]],\"diverging\":[[0,\"#8e0152\"],[0.1,\"#c51b7d\"],[0.2,\"#de77ae\"],[0.3,\"#f1b6da\"],[0.4,\"#fde0ef\"],[0.5,\"#f7f7f7\"],[0.6,\"#e6f5d0\"],[0.7,\"#b8e186\"],[0.8,\"#7fbc41\"],[0.9,\"#4d9221\"],[1,\"#276419\"]]},\"xaxis\":{\"gridcolor\":\"white\",\"linecolor\":\"white\",\"ticks\":\"\",\"title\":{\"standoff\":15},\"zerolinecolor\":\"white\",\"automargin\":true,\"zerolinewidth\":2},\"yaxis\":{\"gridcolor\":\"white\",\"linecolor\":\"white\",\"ticks\":\"\",\"title\":{\"standoff\":15},\"zerolinecolor\":\"white\",\"automargin\":true,\"zerolinewidth\":2},\"scene\":{\"xaxis\":{\"backgroundcolor\":\"#E5ECF6\",\"gridcolor\":\"white\",\"linecolor\":\"white\",\"showbackground\":true,\"ticks\":\"\",\"zerolinecolor\":\"white\",\"gridwidth\":2},\"yaxis\":{\"backgroundcolor\":\"#E5ECF6\",\"gridcolor\":\"white\",\"linecolor\":\"white\",\"showbackground\":true,\"ticks\":\"\",\"zerolinecolor\":\"white\",\"gridwidth\":2},\"zaxis\":{\"backgroundcolor\":\"#E5ECF6\",\"gridcolor\":\"white\",\"linecolor\":\"white\",\"showbackground\":true,\"ticks\":\"\",\"zerolinecolor\":\"white\",\"gridwidth\":2}},\"shapedefaults\":{\"line\":{\"color\":\"#2a3f5f\"}},\"annotationdefaults\":{\"arrowcolor\":\"#2a3f5f\",\"arrowhead\":0,\"arrowwidth\":1},\"geo\":{\"bgcolor\":\"white\",\"landcolor\":\"#E5ECF6\",\"subunitcolor\":\"white\",\"showland\":true,\"showlakes\":true,\"lakecolor\":\"white\"},\"title\":{\"x\":0.05},\"mapbox\":{\"style\":\"light\"}}},\"scene\":{\"domain\":{\"x\":[0.0,1.0],\"y\":[0.0,1.0]},\"xaxis\":{\"title\":{\"text\":\"x\"}},\"yaxis\":{\"title\":{\"text\":\"y\"}},\"zaxis\":{\"title\":{\"text\":\"z\"}}},\"legend\":{\"tracegroupgap\":0},\"margin\":{\"t\":60}},                        {\"responsive\": true}                    ).then(function(){\n",
              "                            \n",
              "var gd = document.getElementById('71e6d665-a27e-4634-94b7-162e63742bc0');\n",
              "var x = new MutationObserver(function (mutations, observer) {{\n",
              "        var display = window.getComputedStyle(gd).display;\n",
              "        if (!display || display === 'none') {{\n",
              "            console.log([gd, 'removed!']);\n",
              "            Plotly.purge(gd);\n",
              "            observer.disconnect();\n",
              "        }}\n",
              "}});\n",
              "\n",
              "// Listen for the removal of the full notebook cells\n",
              "var notebookContainer = gd.closest('#notebook-container');\n",
              "if (notebookContainer) {{\n",
              "    x.observe(notebookContainer, {childList: true});\n",
              "}}\n",
              "\n",
              "// Listen for the clearing of the current output cell\n",
              "var outputEl = gd.closest('.output');\n",
              "if (outputEl) {{\n",
              "    x.observe(outputEl, {childList: true});\n",
              "}}\n",
              "\n",
              "                        })                };                            </script>        </div>\n",
              "</body>\n",
              "</html>"
            ]
          },
          "metadata": {}
        }
      ],
      "source": [
        "# Graficar los embedddings en 3D\n",
        "\n",
        "vecs, labels = reduce_dimensions(w2v_model,3)\n",
        "\n",
        "fig = px.scatter_3d(x=vecs[:MAX_WORDS,0], y=vecs[:MAX_WORDS,1], z=vecs[:MAX_WORDS,2],text=labels[:MAX_WORDS])\n",
        "fig.update_traces(marker_size = 2)\n",
        "fig.show(renderer=\"colab\") # esto para plotly en colab"
      ]
    },
    {
      "cell_type": "code",
      "execution_count": 34,
      "metadata": {
        "id": "ZYR_C6jf1FBh"
      },
      "outputs": [],
      "source": [
        "# También se pueden guardar los vectores y labels como tsv para graficar en\n",
        "# http://projector.tensorflow.org/\n",
        "\n",
        "\n",
        "vectors = np.asarray(w2v_model.wv.vectors)\n",
        "labels = list(w2v_model.wv.index_to_key)\n",
        "\n",
        "np.savetxt(\"vectors.tsv\", vectors, delimiter=\"\\t\")\n",
        "\n",
        "with open(\"labels.tsv\", \"w\") as fp:\n",
        "    for item in labels:\n",
        "        fp.write(\"%s\\n\" % item)"
      ]
    },
    {
      "cell_type": "markdown",
      "source": [
        "# **6. Analisis**"
      ],
      "metadata": {
        "id": "FDLZoZQf4Gos"
      }
    },
    {
      "cell_type": "markdown",
      "source": [
        "> A partir de los calculos de palabras similares y de las visualizaciones tanto en 2D como en 3D, podemos observar como el modelo efectivamente aprendio a representar palabras que aparecen juntas en las liricas de Bob Marley de manera cercana el espacio de embeddings.\n",
        "\n",
        "> A continuacion vemos 2 fotos en donde ciertas palabras que se mencionan en canciones muy conocidas del artista se encuentran en \"clusters\" o grupos cercanos de vectores en el espacio de embeddings (reducido)\n"
      ],
      "metadata": {
        "id": "3U8Uw1UW4L2C"
      }
    },
    {
      "cell_type": "markdown",
      "source": [
        "![image.png](data:image/png;base64,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)"
      ],
      "metadata": {
        "id": "5TXSDYX-4KYh"
      }
    },
    {
      "cell_type": "markdown",
      "source": [
        "![image.png](data:image/png;base64,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)"
      ],
      "metadata": {
        "id": "lRTH-zJr4qZa"
      }
    },
    {
      "cell_type": "markdown",
      "source": [
        "> A su vez observamos como la palabras mas cercana para \"woman\" es \"cry\" y la palabras mas cercana para \"buffalo\" es \"soldier\", lo cual es coherente con las liricas de las famosas canciones \"buffalo soldier\" y \"no woman no cry\" :)\n",
        "\n",
        "> lo mismo sucede para \"sherrif\" con \"shot\", de \"I shot the sheriff\""
      ],
      "metadata": {
        "id": "m4nG9-on44ui"
      }
    },
    {
      "cell_type": "code",
      "source": [
        "# Palabras que MÁS se relacionan con...:\n",
        "w2v_model.wv.most_similar(positive=[\"buffalo\"], topn=5)"
      ],
      "metadata": {
        "colab": {
          "base_uri": "https://localhost:8080/"
        },
        "id": "58dhmxpL5Olg",
        "outputId": "7066ae34-65f8-4972-9638-6d7dc9a61a19"
      },
      "execution_count": 38,
      "outputs": [
        {
          "output_type": "execute_result",
          "data": {
            "text/plain": [
              "[('soldier', 0.8767678141593933),\n",
              " ('dreadlock', 0.8481713533401489),\n",
              " ('yoe', 0.8029671311378479),\n",
              " ('rasta', 0.7495781183242798),\n",
              " ('woe', 0.7286084890365601)]"
            ]
          },
          "metadata": {},
          "execution_count": 38
        }
      ]
    },
    {
      "cell_type": "code",
      "source": [
        "# Palabras que MÁS se relacionan con...:\n",
        "w2v_model.wv.most_similar(positive=[\"woman\"], topn=5)"
      ],
      "metadata": {
        "colab": {
          "base_uri": "https://localhost:8080/"
        },
        "id": "imjiD43Q5Niw",
        "outputId": "72f1f691-50bb-4464-de56-d3bf2a1eede8"
      },
      "execution_count": 37,
      "outputs": [
        {
          "output_type": "execute_result",
          "data": {
            "text/plain": [
              "[('cry', 0.7137670516967773),\n",
              " ('ism', 0.685452401638031),\n",
              " ('tears', 0.6797321438789368),\n",
              " ('fowl', 0.65244060754776),\n",
              " ('pyaka', 0.6459764838218689)]"
            ]
          },
          "metadata": {},
          "execution_count": 37
        }
      ]
    },
    {
      "cell_type": "code",
      "source": [
        "# Palabras que MÁS se relacionan con...:\n",
        "w2v_model.wv.most_similar(positive=[\"sheriff\"], topn=5)"
      ],
      "metadata": {
        "colab": {
          "base_uri": "https://localhost:8080/"
        },
        "id": "onvbiMBi5Mmt",
        "outputId": "67509702-c50b-4aba-eea4-6df2ea776039"
      },
      "execution_count": 36,
      "outputs": [
        {
          "output_type": "execute_result",
          "data": {
            "text/plain": [
              "[('shot', 0.8573581576347351),\n",
              " ('brown', 0.7240433692932129),\n",
              " ('fit', 0.6985981464385986),\n",
              " ('cap', 0.6791487336158752),\n",
              " ('mr', 0.6389192342758179)]"
            ]
          },
          "metadata": {},
          "execution_count": 36
        }
      ]
    },
    {
      "cell_type": "markdown",
      "source": [
        "> Pequeña prueba con operaciones entre palabras que no parecen devolver ningun vector coherente por fuera del espacio de liricas de Bob Marley"
      ],
      "metadata": {
        "id": "ccYB207w5s64"
      }
    },
    {
      "cell_type": "code",
      "source": [
        "one = w2v_model.wv.get_vector(\"buffalo\")\n",
        "two = w2v_model.wv.get_vector(\"soldier\")\n",
        "\n",
        "w2v_model.wv.most_similar(one+two)"
      ],
      "metadata": {
        "colab": {
          "base_uri": "https://localhost:8080/"
        },
        "id": "FBpCoWaH5Xp0",
        "outputId": "afb05606-3097-41c6-ec4a-57a2601ab0a7"
      },
      "execution_count": 43,
      "outputs": [
        {
          "output_type": "execute_result",
          "data": {
            "text/plain": [
              "[('soldier', 0.9691913723945618),\n",
              " ('buffalo', 0.9682090282440186),\n",
              " ('dreadlock', 0.8945441842079163),\n",
              " ('yoe', 0.8282148838043213),\n",
              " ('rasta', 0.7954780459403992),\n",
              " ('woe', 0.7524117827415466),\n",
              " ('blowing', 0.7329995632171631),\n",
              " ('yoy', 0.6614190936088562),\n",
              " ('air', 0.6512094736099243),\n",
              " ('wise', 0.643250048160553)]"
            ]
          },
          "metadata": {},
          "execution_count": 43
        }
      ]
    },
    {
      "cell_type": "markdown",
      "metadata": {
        "id": "yMM_SHSaZ9N-"
      },
      "source": [
        "### Alumno"
      ]
    },
    {
      "cell_type": "markdown",
      "metadata": {
        "id": "WivQZ3ZCZ9N_"
      },
      "source": [
        "- Crear sus propios vectores con Gensim basado en lo visto en clase con otro dataset.\n",
        "- Probar términos de interés y explicar similitudes en el espacio de embeddings (sacar conclusiones entre palabras similitudes y diferencias).\n",
        "- Graficarlos.\n",
        "- Obtener conclusiones."
      ]
    }
  ],
  "metadata": {
    "colab": {
      "provenance": []
    },
    "kernelspec": {
      "display_name": "Python 3 (ipykernel)",
      "language": "python",
      "name": "python3"
    },
    "language_info": {
      "codemirror_mode": {
        "name": "ipython",
        "version": 3
      },
      "file_extension": ".py",
      "mimetype": "text/x-python",
      "name": "python",
      "nbconvert_exporter": "python",
      "pygments_lexer": "ipython3",
      "version": "3.13.3"
    }
  },
  "nbformat": 4,
  "nbformat_minor": 0
}