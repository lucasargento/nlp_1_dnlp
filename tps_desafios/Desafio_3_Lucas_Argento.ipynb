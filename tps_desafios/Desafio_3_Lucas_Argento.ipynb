{
  "cells": [
    {
      "cell_type": "markdown",
      "metadata": {
        "id": "g3yeJGnCYxuF"
      },
      "source": [
        "<img src=\"https://github.com/hernancontigiani/ceia_memorias_especializacion/raw/master/Figures/logoFIUBA.jpg\" width=\"500\" align=\"center\">\n",
        "\n",
        "\n",
        "# Procesamiento de lenguaje natural\n",
        "## **Desafio 3: Modelo de lenguaje con tokenización por caracteres**\n",
        "\n",
        "### Lucas Argento"
      ]
    },
    {
      "cell_type": "markdown",
      "metadata": {
        "id": "Iv5PEwGzZA9-"
      },
      "source": [
        "### Consigna\n",
        "- Seleccionar un corpus de texto sobre el cual entrenar el modelo de lenguaje.\n",
        "- Realizar el pre-procesamiento adecuado para tokenizar el corpus, estructurar el dataset y separar entre datos de entrenamiento y validación.\n",
        "- Proponer arquitecturas de redes neuronales basadas en unidades recurrentes para implementar un modelo de lenguaje.\n",
        "- Con el o los modelos que consideren adecuados, generar nuevas secuencias a partir de secuencias de contexto con las estrategias de greedy search y beam search determístico y estocástico. En este último caso observar el efecto de la temperatura en la generación de secuencias.\n",
        "\n",
        "\n",
        "### Sugerencias\n",
        "- Durante el entrenamiento, guiarse por el descenso de la perplejidad en los datos de validación para finalizar el entrenamiento. Para ello se provee un callback.\n",
        "- Explorar utilizar SimpleRNN (celda de Elman), LSTM y GRU.\n",
        "- rmsprop es el optimizador recomendado para la buena convergencia. No obstante se pueden explorar otros.\n"
      ]
    },
    {
      "cell_type": "code",
      "execution_count": 30,
      "metadata": {
        "id": "Y-QdFbHZYj7C"
      },
      "outputs": [],
      "source": [
        "import random\n",
        "import io\n",
        "import pickle\n",
        "\n",
        "import numpy as np\n",
        "import pandas as pd\n",
        "import matplotlib.pyplot as plt\n",
        "from sklearn.model_selection import train_test_split"
      ]
    },
    {
      "cell_type": "markdown",
      "metadata": {
        "id": "xTvXlEKQZdqx"
      },
      "source": [
        "## 0. Datos\n"
      ]
    },
    {
      "cell_type": "code",
      "execution_count": 2,
      "metadata": {
        "id": "7amy6uUaBLVD"
      },
      "outputs": [],
      "source": [
        "# descargar de textos.info\n",
        "import urllib.request\n",
        "\n",
        "# Para leer y parsear el texto en HTML de wikipedia\n",
        "import bs4 as bs"
      ]
    },
    {
      "cell_type": "code",
      "source": [
        "book = \"https://www.gutenberg.org/ebooks/11.txt.utf-8\""
      ],
      "metadata": {
        "id": "Xv6CQoJT_R9R"
      },
      "execution_count": 7,
      "outputs": []
    },
    {
      "cell_type": "code",
      "execution_count": 8,
      "metadata": {
        "id": "6v_ickFwBJTy"
      },
      "outputs": [],
      "source": [
        "raw_html = urllib.request.urlopen(book)\n",
        "raw_html = raw_html.read()\n",
        "\n",
        "# Parsear artículo, 'lxml' es el parser a utilizar\n",
        "article_html = bs.BeautifulSoup(raw_html, 'lxml')\n",
        "\n",
        "# Encontrar todos los párrafos del HTML (bajo el tag <p>)\n",
        "# y tenerlos disponible como lista\n",
        "article_paragraphs = article_html.find_all('p')\n",
        "\n",
        "article_text = ''\n",
        "\n",
        "for para in article_paragraphs:\n",
        "    article_text += para.text + ' '\n",
        "\n",
        "# pasar todo el texto a minúscula\n",
        "article_text = article_text.lower()"
      ]
    },
    {
      "cell_type": "code",
      "execution_count": 9,
      "metadata": {
        "id": "WBE0sSYuB-E6",
        "colab": {
          "base_uri": "https://localhost:8080/",
          "height": 191
        },
        "outputId": "19f08974-76fe-4704-b990-4cb222e1c41c"
      },
      "outputs": [
        {
          "output_type": "execute_result",
          "data": {
            "text/plain": [
              "\"the project gutenberg ebook of alice's adventures in wonderland\\r\\n    \\r\\nthis ebook is for the use of anyone anywhere in the united states and\\r\\nmost other parts of the world at no cost and with almost no restrictions\\r\\nwhatsoever. you may copy it, give it away or re-use it under the terms\\r\\nof the project gutenberg license included with this ebook or online\\r\\nat www.gutenberg.org. if you are not located in the united states,\\r\\nyou will have to check the laws of the country where you are located\\r\\nbefore using this ebook.\\r\\n\\r\\ntitle: alice's adventures in wonderland\\r\\n\\r\\nauthor: lewis carroll\\r\\n\\r\\nrelease date: june 27, 2008 [ebook #11]\\r\\n                most recently updated: june 26, 2025\\r\\n\\r\\nlanguage: english\\r\\n\\r\\ncredits: arthur dibianca and david widger\\r\\n\\r\\n\\r\\n*** start of the project gutenberg ebook alice's adventures in wonderland ***\\r\\n\\r\\n[illustration]\\r\\n\\r\\n\\r\\n\\r\\n\\r\\nalice’s adventures in wonderland\\r\\n\\r\\nby lewis carroll\\r\\n\\r\\nthe millennium fulcrum edition 3.0\\r\\n\\r\\ncontents\\r\\n\\r\\n chapter i.     down the rabbit-h\""
            ],
            "application/vnd.google.colaboratory.intrinsic+json": {
              "type": "string"
            }
          },
          "metadata": {},
          "execution_count": 9
        }
      ],
      "source": [
        "# en article text se encuentra el texto de todo el libro\n",
        "article_text[:1000]"
      ]
    },
    {
      "cell_type": "markdown",
      "metadata": {
        "id": "cP1JdiOIKQWi"
      },
      "source": [
        "### 0.1 Elegimos el tamaño del contexto\n",
        "\n",
        "En este caso, como el modelo de lenguaje es por caracteres, todo un gran corpus\n",
        "de texto puede ser considerado un documento en sí mismo y el tamaño de contexto\n",
        "puede ser elegido con más libertad en comparación a un modelo de lenguaje tokenizado por palabras y dividido en documentos más acotados."
      ]
    },
    {
      "cell_type": "code",
      "execution_count": 10,
      "metadata": {
        "id": "wumBNwdjJM3j"
      },
      "outputs": [],
      "source": [
        "# seleccionamos el tamaño de contexto\n",
        "max_context_size = 100"
      ]
    },
    {
      "cell_type": "code",
      "execution_count": 11,
      "metadata": {
        "id": "m5FeTaGvbDbw"
      },
      "outputs": [],
      "source": [
        "# Usaremos las utilidades de procesamiento de textos y secuencias de Keras\n",
        "from tensorflow.keras.utils import pad_sequences # se utilizará para padding"
      ]
    },
    {
      "cell_type": "code",
      "execution_count": 12,
      "metadata": {
        "id": "573Cg5n7VhWw"
      },
      "outputs": [],
      "source": [
        "# en este caso el vocabulario es el conjunto único de caracteres que existe en todo el texto\n",
        "chars_vocab = set(article_text)"
      ]
    },
    {
      "cell_type": "code",
      "execution_count": 13,
      "metadata": {
        "id": "VwTK6xgLJd8q",
        "colab": {
          "base_uri": "https://localhost:8080/"
        },
        "outputId": "f01a7c05-1a5b-439d-d023-7cc624a08519"
      },
      "outputs": [
        {
          "output_type": "execute_result",
          "data": {
            "text/plain": [
              "65"
            ]
          },
          "metadata": {},
          "execution_count": 13
        }
      ],
      "source": [
        "# la longitud de vocabulario de caracteres es:\n",
        "len(chars_vocab)"
      ]
    },
    {
      "cell_type": "code",
      "execution_count": 14,
      "metadata": {
        "id": "2W0AeQjXV1Ou"
      },
      "outputs": [],
      "source": [
        "# Construimos los dicionarios que asignan índices a caracteres y viceversa.\n",
        "# El diccionario `char2idx` servirá como tokenizador.\n",
        "char2idx = {k: v for v,k in enumerate(chars_vocab)}\n",
        "idx2char = {v: k for k,v in char2idx.items()}"
      ]
    },
    {
      "cell_type": "markdown",
      "metadata": {
        "id": "2oIUjVU0LB0r"
      },
      "source": [
        "### 0.2  Tokenizacion"
      ]
    },
    {
      "cell_type": "code",
      "execution_count": 15,
      "metadata": {
        "id": "h07G3srdJppo"
      },
      "outputs": [],
      "source": [
        "# tokenizamos el texto completo\n",
        "tokenized_text = [char2idx[ch] for ch in article_text]"
      ]
    },
    {
      "cell_type": "code",
      "execution_count": 16,
      "metadata": {
        "id": "PwGVSKOiJ5bj",
        "colab": {
          "base_uri": "https://localhost:8080/"
        },
        "collapsed": true,
        "outputId": "54027d14-c179-4dcc-adc8-d545d6b50ee8"
      },
      "outputs": [
        {
          "output_type": "execute_result",
          "data": {
            "text/plain": [
              "[56,\n",
              " 1,\n",
              " 33,\n",
              " 37,\n",
              " 47,\n",
              " 31,\n",
              " 48,\n",
              " 18,\n",
              " 33,\n",
              " 59,\n",
              " 56,\n",
              " 37,\n",
              " 19,\n",
              " 2,\n",
              " 56,\n",
              " 33,\n",
              " 34,\n",
              " 14,\n",
              " 33,\n",
              " 31,\n",
              " 19,\n",
              " 37,\n",
              " 33,\n",
              " 14,\n",
              " 48,\n",
              " 48,\n",
              " 26,\n",
              " 37,\n",
              " 48,\n",
              " 39,\n",
              " 37,\n",
              " 16,\n",
              " 15,\n",
              " 57,\n",
              " 59,\n",
              " 33,\n",
              " 62,\n",
              " 6,\n",
              " 37,\n",
              " 16,\n",
              " 12,\n",
              " 54,\n",
              " 33,\n",
              " 34,\n",
              " 56,\n",
              " 2,\n",
              " 31,\n",
              " 33,\n",
              " 6,\n",
              " 37,\n",
              " 57,\n",
              " 34,\n",
              " 37,\n",
              " 25,\n",
              " 48,\n",
              " 34,\n",
              " 12,\n",
              " 33,\n",
              " 31,\n",
              " 15,\n",
              " 16,\n",
              " 34,\n",
              " 12,\n",
              " 38,\n",
              " 60,\n",
              " 37,\n",
              " 37,\n",
              " 37,\n",
              " 37,\n",
              " 38,\n",
              " 60,\n",
              " 56,\n",
              " 1,\n",
              " 57,\n",
              " 6,\n",
              " 37,\n",
              " 33,\n",
              " 14,\n",
              " 48,\n",
              " 48,\n",
              " 26,\n",
              " 37,\n",
              " 57,\n",
              " 6,\n",
              " 37,\n",
              " 39,\n",
              " 48,\n",
              " 31,\n",
              " 37,\n",
              " 56,\n",
              " 1,\n",
              " 33,\n",
              " 37,\n",
              " 2,\n",
              " 6,\n",
              " 33,\n",
              " 37,\n",
              " 48,\n",
              " 39,\n",
              " 37,\n",
              " 16,\n",
              " 34,\n",
              " 0,\n",
              " 48,\n",
              " 34,\n",
              " 33,\n",
              " 37,\n",
              " 16,\n",
              " 34,\n",
              " 0,\n",
              " 25,\n",
              " 1,\n",
              " 33,\n",
              " 31,\n",
              " 33,\n",
              " 37,\n",
              " 57,\n",
              " 34,\n",
              " 37,\n",
              " 56,\n",
              " 1,\n",
              " 33,\n",
              " 37,\n",
              " 2,\n",
              " 34,\n",
              " 57,\n",
              " 56,\n",
              " 33,\n",
              " 12,\n",
              " 37,\n",
              " 6,\n",
              " 56,\n",
              " 16,\n",
              " 56,\n",
              " 33,\n",
              " 6,\n",
              " 37,\n",
              " 16,\n",
              " 34,\n",
              " 12,\n",
              " 38,\n",
              " 60,\n",
              " 17,\n",
              " 48,\n",
              " 6,\n",
              " 56,\n",
              " 37,\n",
              " 48,\n",
              " 56,\n",
              " 1,\n",
              " 33,\n",
              " 31,\n",
              " 37,\n",
              " 47,\n",
              " 16,\n",
              " 31,\n",
              " 56,\n",
              " 6,\n",
              " 37,\n",
              " 48,\n",
              " 39,\n",
              " 37,\n",
              " 56,\n",
              " 1,\n",
              " 33,\n",
              " 37,\n",
              " 25,\n",
              " 48,\n",
              " 31,\n",
              " 15,\n",
              " 12,\n",
              " 37,\n",
              " 16,\n",
              " 56,\n",
              " 37,\n",
              " 34,\n",
              " 48,\n",
              " 37,\n",
              " 59,\n",
              " 48,\n",
              " 6,\n",
              " 56,\n",
              " 37,\n",
              " 16,\n",
              " 34,\n",
              " 12,\n",
              " 37,\n",
              " 25,\n",
              " 57,\n",
              " 56,\n",
              " 1,\n",
              " 37,\n",
              " 16,\n",
              " 15,\n",
              " 17,\n",
              " 48,\n",
              " 6,\n",
              " 56,\n",
              " 37,\n",
              " 34,\n",
              " 48,\n",
              " 37,\n",
              " 31,\n",
              " 33,\n",
              " 6,\n",
              " 56,\n",
              " 31,\n",
              " 57,\n",
              " 59,\n",
              " 56,\n",
              " 57,\n",
              " 48,\n",
              " 34,\n",
              " 6,\n",
              " 38,\n",
              " 60,\n",
              " 25,\n",
              " 1,\n",
              " 16,\n",
              " 56,\n",
              " 6,\n",
              " 48,\n",
              " 33,\n",
              " 54,\n",
              " 33,\n",
              " 31,\n",
              " 20,\n",
              " 37,\n",
              " 0,\n",
              " 48,\n",
              " 2,\n",
              " 37,\n",
              " 17,\n",
              " 16,\n",
              " 0,\n",
              " 37,\n",
              " 59,\n",
              " 48,\n",
              " 47,\n",
              " 0,\n",
              " 37,\n",
              " 57,\n",
              " 56,\n",
              " 28,\n",
              " 37,\n",
              " 19,\n",
              " 57,\n",
              " 54,\n",
              " 33,\n",
              " 37,\n",
              " 57,\n",
              " 56,\n",
              " 37,\n",
              " 16,\n",
              " 25,\n",
              " 16,\n",
              " 0,\n",
              " 37,\n",
              " 48,\n",
              " 31,\n",
              " 37,\n",
              " 31,\n",
              " 33,\n",
              " 40,\n",
              " 2,\n",
              " 6,\n",
              " 33,\n",
              " 37,\n",
              " 57,\n",
              " 56,\n",
              " 37,\n",
              " 2,\n",
              " 34,\n",
              " 12,\n",
              " 33,\n",
              " 31,\n",
              " 37,\n",
              " 56,\n",
              " 1,\n",
              " 33,\n",
              " 37,\n",
              " 56,\n",
              " 33,\n",
              " 31,\n",
              " 17,\n",
              " 6,\n",
              " 38,\n",
              " 60,\n",
              " 48,\n",
              " 39,\n",
              " 37,\n",
              " 56,\n",
              " 1,\n",
              " 33,\n",
              " 37,\n",
              " 47,\n",
              " 31,\n",
              " 48,\n",
              " 18,\n",
              " 33,\n",
              " 59,\n",
              " 56,\n",
              " 37,\n",
              " 19,\n",
              " 2,\n",
              " 56,\n",
              " 33,\n",
              " 34,\n",
              " 14,\n",
              " 33,\n",
              " 31,\n",
              " 19,\n",
              " 37,\n",
              " 15,\n",
              " 57,\n",
              " 59,\n",
              " 33,\n",
              " 34,\n",
              " 6,\n",
              " 33,\n",
              " 37,\n",
              " 57,\n",
              " 34,\n",
              " 59,\n",
              " 15,\n",
              " 2,\n",
              " 12,\n",
              " 33,\n",
              " 12,\n",
              " 37,\n",
              " 25,\n",
              " 57,\n",
              " 56,\n",
              " 1,\n",
              " 37,\n",
              " 56,\n",
              " 1,\n",
              " 57,\n",
              " 6,\n",
              " 37,\n",
              " 33,\n",
              " 14,\n",
              " 48,\n",
              " 48,\n",
              " 26,\n",
              " 37,\n",
              " 48,\n",
              " 31,\n",
              " 37,\n",
              " 48,\n",
              " 34,\n",
              " 15,\n",
              " 57,\n",
              " 34,\n",
              " 33,\n",
              " 38,\n",
              " 60,\n",
              " 16,\n",
              " 56,\n",
              " 37,\n",
              " 25,\n",
              " 25,\n",
              " 25,\n",
              " 20,\n",
              " 19,\n",
              " 2,\n",
              " 56,\n",
              " 33,\n",
              " 34,\n",
              " 14,\n",
              " 33,\n",
              " 31,\n",
              " 19,\n",
              " 20,\n",
              " 48,\n",
              " 31,\n",
              " 19,\n",
              " 20,\n",
              " 37,\n",
              " 57,\n",
              " 39,\n",
              " 37,\n",
              " 0,\n",
              " 48,\n",
              " 2,\n",
              " 37,\n",
              " 16,\n",
              " 31,\n",
              " 33,\n",
              " 37,\n",
              " 34,\n",
              " 48,\n",
              " 56,\n",
              " 37,\n",
              " 15,\n",
              " 48,\n",
              " 59,\n",
              " 16,\n",
              " 56,\n",
              " 33,\n",
              " 12,\n",
              " 37,\n",
              " 57,\n",
              " 34,\n",
              " 37,\n",
              " 56,\n",
              " 1,\n",
              " 33,\n",
              " 37,\n",
              " 2,\n",
              " 34,\n",
              " 57,\n",
              " 56,\n",
              " 33,\n",
              " 12,\n",
              " 37,\n",
              " 6,\n",
              " 56,\n",
              " 16,\n",
              " 56,\n",
              " 33,\n",
              " 6,\n",
              " 28,\n",
              " 38,\n",
              " 60,\n",
              " 0,\n",
              " 48,\n",
              " 2,\n",
              " 37,\n",
              " 25,\n",
              " 57,\n",
              " 15,\n",
              " 15,\n",
              " 37,\n",
              " 1,\n",
              " 16,\n",
              " 54,\n",
              " 33,\n",
              " 37,\n",
              " 56,\n",
              " 48,\n",
              " 37,\n",
              " 59,\n",
              " 1,\n",
              " 33,\n",
              " 59,\n",
              " 26,\n",
              " 37,\n",
              " 56,\n",
              " 1,\n",
              " 33,\n",
              " 37,\n",
              " 15,\n",
              " 16,\n",
              " 25,\n",
              " 6,\n",
              " 37,\n",
              " 48,\n",
              " 39,\n",
              " 37,\n",
              " 56,\n",
              " 1,\n",
              " 33,\n",
              " 37,\n",
              " 59,\n",
              " 48,\n",
              " 2,\n",
              " 34,\n",
              " 56,\n",
              " 31,\n",
              " 0,\n",
              " 37,\n",
              " 25,\n",
              " 1,\n",
              " 33,\n",
              " 31,\n",
              " 33,\n",
              " 37,\n",
              " 0,\n",
              " 48,\n",
              " 2,\n",
              " 37,\n",
              " 16,\n",
              " 31,\n",
              " 33,\n",
              " 37,\n",
              " 15,\n",
              " 48,\n",
              " 59,\n",
              " 16,\n",
              " 56,\n",
              " 33,\n",
              " 12,\n",
              " 38,\n",
              " 60,\n",
              " 14,\n",
              " 33,\n",
              " 39,\n",
              " 48,\n",
              " 31,\n",
              " 33,\n",
              " 37,\n",
              " 2,\n",
              " 6,\n",
              " 57,\n",
              " 34,\n",
              " 19,\n",
              " 37,\n",
              " 56,\n",
              " 1,\n",
              " 57,\n",
              " 6,\n",
              " 37,\n",
              " 33,\n",
              " 14,\n",
              " 48,\n",
              " 48,\n",
              " 26,\n",
              " 20,\n",
              " 38,\n",
              " 60,\n",
              " 38,\n",
              " 60,\n",
              " 56,\n",
              " 57,\n",
              " 56,\n",
              " 15,\n",
              " 33,\n",
              " 24,\n",
              " 37,\n",
              " 16,\n",
              " 15,\n",
              " 57,\n",
              " 59,\n",
              " 33,\n",
              " 62,\n",
              " 6,\n",
              " 37,\n",
              " 16,\n",
              " 12,\n",
              " 54,\n",
              " 33,\n",
              " 34,\n",
              " 56,\n",
              " 2,\n",
              " 31,\n",
              " 33,\n",
              " 6,\n",
              " 37,\n",
              " 57,\n",
              " 34,\n",
              " 37,\n",
              " 25,\n",
              " 48,\n",
              " 34,\n",
              " 12,\n",
              " 33,\n",
              " 31,\n",
              " 15,\n",
              " 16,\n",
              " 34,\n",
              " 12,\n",
              " 38,\n",
              " 60,\n",
              " 38,\n",
              " 60,\n",
              " 16,\n",
              " 2,\n",
              " 56,\n",
              " 1,\n",
              " 48,\n",
              " 31,\n",
              " 24,\n",
              " 37,\n",
              " 15,\n",
              " 33,\n",
              " 25,\n",
              " 57,\n",
              " 6,\n",
              " 37,\n",
              " 59,\n",
              " 16,\n",
              " 31,\n",
              " 31,\n",
              " 48,\n",
              " 15,\n",
              " 15,\n",
              " 38,\n",
              " 60,\n",
              " 38,\n",
              " 60,\n",
              " 31,\n",
              " 33,\n",
              " 15,\n",
              " 33,\n",
              " 16,\n",
              " 6,\n",
              " 33,\n",
              " 37,\n",
              " 12,\n",
              " 16,\n",
              " 56,\n",
              " 33,\n",
              " 24,\n",
              " 37,\n",
              " 18,\n",
              " 2,\n",
              " 34,\n",
              " 33,\n",
              " 37,\n",
              " 11,\n",
              " 44,\n",
              " 28,\n",
              " 37,\n",
              " 11,\n",
              " 49,\n",
              " 49,\n",
              " 5,\n",
              " 37,\n",
              " 3,\n",
              " 33,\n",
              " 14,\n",
              " 48,\n",
              " 48,\n",
              " 26,\n",
              " 37,\n",
              " 32,\n",
              " 53,\n",
              " 53,\n",
              " 9,\n",
              " 38,\n",
              " 60,\n",
              " 37,\n",
              " 37,\n",
              " 37,\n",
              " 37,\n",
              " 37,\n",
              " 37,\n",
              " 37,\n",
              " 37,\n",
              " 37,\n",
              " 37,\n",
              " 37,\n",
              " 37,\n",
              " 37,\n",
              " 37,\n",
              " 37,\n",
              " 37,\n",
              " 17,\n",
              " 48,\n",
              " 6,\n",
              " 56,\n",
              " 37,\n",
              " 31,\n",
              " 33,\n",
              " 59,\n",
              " 33,\n",
              " 34,\n",
              " 56,\n",
              " 15,\n",
              " 0,\n",
              " 37,\n",
              " 2,\n",
              " 47,\n",
              " 12,\n",
              " 16,\n",
              " 56,\n",
              " 33,\n",
              " 12,\n",
              " 24,\n",
              " 37,\n",
              " 18,\n",
              " 2,\n",
              " 34,\n",
              " 33,\n",
              " 37,\n",
              " 11,\n",
              " 51,\n",
              " 28,\n",
              " 37,\n",
              " 11,\n",
              " 49,\n",
              " 11,\n",
              " 4,\n",
              " 38,\n",
              " 60,\n",
              " 38,\n",
              " 60,\n",
              " 15,\n",
              " 16,\n",
              " 34,\n",
              " 19,\n",
              " 2,\n",
              " 16,\n",
              " 19,\n",
              " 33,\n",
              " 24,\n",
              " 37,\n",
              " 33,\n",
              " 34,\n",
              " 19,\n",
              " 15,\n",
              " 57,\n",
              " 6,\n",
              " 1,\n",
              " 38,\n",
              " 60,\n",
              " 38,\n",
              " 60,\n",
              " 59,\n",
              " 31,\n",
              " 33,\n",
              " 12,\n",
              " 57,\n",
              " 56,\n",
              " 6,\n",
              " 24,\n",
              " 37,\n",
              " 16,\n",
              " 31,\n",
              " 56,\n",
              " 1,\n",
              " 2,\n",
              " 31,\n",
              " 37,\n",
              " 12,\n",
              " 57,\n",
              " 14,\n",
              " 57,\n",
              " 16,\n",
              " 34,\n",
              " 59,\n",
              " 16,\n",
              " 37,\n",
              " 16,\n",
              " 34,\n",
              " 12,\n",
              " 37,\n",
              " 12,\n",
              " 16,\n",
              " 54,\n",
              " 57,\n",
              " 12,\n",
              " 37,\n",
              " 25,\n",
              " 57,\n",
              " 12,\n",
              " 19,\n",
              " 33,\n",
              " 31,\n",
              " 38,\n",
              " 60,\n",
              " 38,\n",
              " 60,\n",
              " 38,\n",
              " 60,\n",
              " 63,\n",
              " 63,\n",
              " 63,\n",
              " 37,\n",
              " 6,\n",
              " 56,\n",
              " 16,\n",
              " 31,\n",
              " 56,\n",
              " 37,\n",
              " 48,\n",
              " 39,\n",
              " 37,\n",
              " 56,\n",
              " 1,\n",
              " 33,\n",
              " 37,\n",
              " 47,\n",
              " 31,\n",
              " 48,\n",
              " 18,\n",
              " 33,\n",
              " 59,\n",
              " 56,\n",
              " 37,\n",
              " 19,\n",
              " 2,\n",
              " 56,\n",
              " 33,\n",
              " 34,\n",
              " 14,\n",
              " 33,\n",
              " 31,\n",
              " 19,\n",
              " 37,\n",
              " 33,\n",
              " 14,\n",
              " 48,\n",
              " 48,\n",
              " 26,\n",
              " 37,\n",
              " 16,\n",
              " 15,\n",
              " 57,\n",
              " 59,\n",
              " 33,\n",
              " 62,\n",
              " 6,\n",
              " 37,\n",
              " 16,\n",
              " 12,\n",
              " 54,\n",
              " 33,\n",
              " 34,\n",
              " 56,\n",
              " 2,\n",
              " 31,\n",
              " 33,\n",
              " 6,\n",
              " 37,\n",
              " 57,\n",
              " 34,\n",
              " 37,\n",
              " 25,\n",
              " 48,\n",
              " 34,\n",
              " 12,\n",
              " 33,\n",
              " 31,\n",
              " 15,\n",
              " 16,\n",
              " 34,\n",
              " 12,\n",
              " 37,\n",
              " 63,\n",
              " 63,\n",
              " 63,\n",
              " 38,\n",
              " 60,\n",
              " 38,\n",
              " 60,\n",
              " 3,\n",
              " 57,\n",
              " 15,\n",
              " 15,\n",
              " 2,\n",
              " 6,\n",
              " 56,\n",
              " 31,\n",
              " 16,\n",
              " 56,\n",
              " 57,\n",
              " 48,\n",
              " 34,\n",
              " 9,\n",
              " 38,\n",
              " 60,\n",
              " 38,\n",
              " 60,\n",
              " 38,\n",
              " 60,\n",
              " 38,\n",
              " 60,\n",
              " 38,\n",
              " 60,\n",
              " 16,\n",
              " 15,\n",
              " 57,\n",
              " 59,\n",
              " 33,\n",
              " 22,\n",
              " 6,\n",
              " 37,\n",
              " 16,\n",
              " 12,\n",
              " 54,\n",
              " 33,\n",
              " 34,\n",
              " 56,\n",
              " 2,\n",
              " 31,\n",
              " 33,\n",
              " 6,\n",
              " 37,\n",
              " 57,\n",
              " 34,\n",
              " 37,\n",
              " 25,\n",
              " 48,\n",
              " 34,\n",
              " 12,\n",
              " 33,\n",
              " 31,\n",
              " 15,\n",
              " 16,\n",
              " 34,\n",
              " 12,\n",
              " 38,\n",
              " 60,\n",
              " 38,\n",
              " 60,\n",
              " 14,\n",
              " 0,\n",
              " 37,\n",
              " 15,\n",
              " 33,\n",
              " 25,\n",
              " 57,\n",
              " 6,\n",
              " 37,\n",
              " 59,\n",
              " 16,\n",
              " 31,\n",
              " 31,\n",
              " 48,\n",
              " 15,\n",
              " 15,\n",
              " 38,\n",
              " 60,\n",
              " 38,\n",
              " 60,\n",
              " 56,\n",
              " 1,\n",
              " 33,\n",
              " 37,\n",
              " 17,\n",
              " 57,\n",
              " 15,\n",
              " 15,\n",
              " 33,\n",
              " 34,\n",
              " 34,\n",
              " 57,\n",
              " 2,\n",
              " 17,\n",
              " 37,\n",
              " 39,\n",
              " 2,\n",
              " 15,\n",
              " 59,\n",
              " 31,\n",
              " 2,\n",
              " 17,\n",
              " 37,\n",
              " 33,\n",
              " 12,\n",
              " 57,\n",
              " 56,\n",
              " 57,\n",
              " 48,\n",
              " 34,\n",
              " 37,\n",
              " 52,\n",
              " 20,\n",
              " 49,\n",
              " 38,\n",
              " 60,\n",
              " 38,\n",
              " 60,\n",
              " 59,\n",
              " 48,\n",
              " 34,\n",
              " 56,\n",
              " 33,\n",
              " 34,\n",
              " 56,\n",
              " 6,\n",
              " 38,\n",
              " 60,\n",
              " 38,\n",
              " 60,\n",
              " 37,\n",
              " 59,\n",
              " 1,\n",
              " 16,\n",
              " 47,\n",
              " 56,\n",
              " 33,\n",
              " 31,\n",
              " 37,\n",
              " 57,\n",
              " 20,\n",
              " 37,\n",
              " 37,\n",
              " 37,\n",
              " 37,\n",
              " 37,\n",
              " 12,\n",
              " 48,\n",
              " 25,\n",
              " 34,\n",
              " 37,\n",
              " 56,\n",
              " 1,\n",
              " 33,\n",
              " 37,\n",
              " 31,\n",
              " 16,\n",
              " 14,\n",
              " 14,\n",
              " 57,\n",
              " 56,\n",
              " 40,\n",
              " 1]"
            ]
          },
          "metadata": {},
          "execution_count": 16
        }
      ],
      "source": [
        "tokenized_text[:1000]"
      ]
    },
    {
      "cell_type": "markdown",
      "metadata": {
        "id": "pfpYcaypKcI9"
      },
      "source": [
        "### 0.3 Organizando y estructurando el dataset"
      ]
    },
    {
      "cell_type": "code",
      "execution_count": 51,
      "metadata": {
        "id": "b7dCpGrdKll0"
      },
      "outputs": [],
      "source": [
        "train_text = tokenized_text"
      ]
    },
    {
      "cell_type": "code",
      "execution_count": 52,
      "metadata": {
        "id": "_gyFT9koLqDm"
      },
      "outputs": [],
      "source": [
        "tokenized_sentences_train = [train_text[init:init+max_context_size] for init in range(len(train_text)-max_context_size+1)]"
      ]
    },
    {
      "cell_type": "code",
      "execution_count": 53,
      "metadata": {
        "id": "oVNqmmLRodT0"
      },
      "outputs": [],
      "source": [
        "X = np.array(tokenized_sentences_train[:-1])\n",
        "y = np.array(tokenized_sentences_train[1:])"
      ]
    },
    {
      "cell_type": "markdown",
      "metadata": {
        "id": "Vken7O4ETsAJ"
      },
      "source": [
        "Nótese que estamos estructurando el problema de aprendizaje como *many-to-many*:\n",
        "\n",
        "Entrada: secuencia de tokens [$x_0$, $x_1$, ..., $x_N$]\n",
        "\n",
        "Target: secuencia de tokens [$x_1$, $x_2$, ..., $x_{N+1}$]\n",
        "\n",
        "De manera que la red tiene que aprender que su salida deben ser los tokens desplazados en una posición y un nuevo token predicho (el N+1).\n",
        "\n",
        "La ventaja de estructurar el aprendizaje de esta manera es que para cada token de target se propaga una señal de gradiente por el grafo de cómputo recurrente, que es mejor que estructurar el problema como *many-to-one* en donde sólo una señal de gradiente se propaga."
      ]
    },
    {
      "cell_type": "markdown",
      "metadata": {
        "id": "l3iPTx-UJl6r"
      },
      "source": [
        "En este punto tenemos en la variable `tokenized_sentences` los versos tokenizados. Vamos a quedarnos con un conjunto de validación que utilizaremos para medir la calidad de la generación de secuencias con la métrica de Perplejidad."
      ]
    },
    {
      "cell_type": "code",
      "execution_count": 24,
      "metadata": {
        "id": "KFAyA4zCWE-5",
        "colab": {
          "base_uri": "https://localhost:8080/"
        },
        "outputId": "a08dd6e4-781f-4050-c9fc-0a0a6158f6a7"
      },
      "outputs": [
        {
          "output_type": "execute_result",
          "data": {
            "text/plain": [
              "(150774, 100)"
            ]
          },
          "metadata": {},
          "execution_count": 24
        }
      ],
      "source": [
        "X.shape"
      ]
    },
    {
      "cell_type": "code",
      "execution_count": 25,
      "metadata": {
        "id": "qcKRl70HFTzG",
        "colab": {
          "base_uri": "https://localhost:8080/"
        },
        "outputId": "33b83e64-8123-4091-e49d-5e3930509df8"
      },
      "outputs": [
        {
          "output_type": "execute_result",
          "data": {
            "text/plain": [
              "array([56,  1, 33, 37, 47, 31, 48, 18, 33, 59])"
            ]
          },
          "metadata": {},
          "execution_count": 25
        }
      ],
      "source": [
        "X[0,:10]"
      ]
    },
    {
      "cell_type": "code",
      "execution_count": 26,
      "metadata": {
        "id": "TVpLCKSZFXZO",
        "colab": {
          "base_uri": "https://localhost:8080/"
        },
        "outputId": "b56eb96b-921f-4197-ea45-b694d213ecf3"
      },
      "outputs": [
        {
          "output_type": "execute_result",
          "data": {
            "text/plain": [
              "array([ 1, 33, 37, 47, 31, 48, 18, 33, 59, 56])"
            ]
          },
          "metadata": {},
          "execution_count": 26
        }
      ],
      "source": [
        "y[0,:10]"
      ]
    },
    {
      "cell_type": "code",
      "execution_count": 27,
      "metadata": {
        "id": "wOFCR-KqbW1N"
      },
      "outputs": [],
      "source": [
        "vocab_size = len(chars_vocab)"
      ]
    },
    {
      "cell_type": "markdown",
      "metadata": {
        "id": "tnnjdAQ5UAEJ"
      },
      "source": [
        "## 1. Definiendo Los Modelos"
      ]
    },
    {
      "cell_type": "markdown",
      "metadata": {
        "id": "YWK3z85sQfUe"
      },
      "source": [
        "Definiremos 3 modelos en PyTorch para comparar su performance: celda de Elman (RNN basica), LSTM y GRU"
      ]
    },
    {
      "cell_type": "code",
      "source": [
        "import torch\n",
        "import numpy as np\n",
        "import torch.nn.functional as F\n",
        "from torch.utils.data import DataLoader, TensorDataset\n",
        "\n",
        "class PerplexityEvaluator:\n",
        "    \"\"\"\n",
        "    Evalúa la perplejidad promedio sobre el conjunto de validación.\n",
        "    Usa CrossEntropyLoss directamente (coherente con el entrenamiento).\n",
        "    Incluye early stopping y guardado del mejor modelo.\n",
        "    \"\"\"\n",
        "\n",
        "    def __init__(self, X_val, y_val, model, device,\n",
        "                 patience=5, save_path=\"best_model.pt\", eval_batch_size=64):\n",
        "        \"\"\"\n",
        "        X_val, y_val: tensores o arrays numpy del conjunto de validación\n",
        "        model: instancia del modelo PyTorch\n",
        "        device: torch.device(\"cuda\" o \"cpu\")\n",
        "        patience: epochs sin mejora antes de early stopping\n",
        "        save_path: ruta para guardar el mejor modelo\n",
        "        eval_batch_size: tamaño de batch en validación\n",
        "        \"\"\"\n",
        "        # convertir arrays numpy a tensores si es necesario\n",
        "        if isinstance(X_val, np.ndarray):\n",
        "            X_val = torch.tensor(X_val, dtype=torch.long)\n",
        "        if isinstance(y_val, np.ndarray):\n",
        "            y_val = torch.tensor(y_val, dtype=torch.long)\n",
        "\n",
        "        self.inputs = X_val\n",
        "        self.targets = y_val\n",
        "        self.model = model.to(device)\n",
        "        self.device = device\n",
        "        self.patience = patience\n",
        "        self.save_path = save_path\n",
        "        self.eval_batch_size = eval_batch_size\n",
        "\n",
        "        self.min_score = np.inf\n",
        "        self.patience_counter = 0\n",
        "        self.history_ppl = []\n",
        "\n",
        "    def compute_perplexity(self):\n",
        "        \"\"\"Evalúa la perplejidad promedio en batches.\"\"\"\n",
        "        self.model.eval()\n",
        "        total_loss = 0.0\n",
        "        total_tokens = 0\n",
        "        criterion = torch.nn.CrossEntropyLoss(reduction=\"sum\")\n",
        "\n",
        "        dataset = TensorDataset(self.inputs, self.targets)\n",
        "        loader = DataLoader(dataset, batch_size=self.eval_batch_size, shuffle=False)\n",
        "\n",
        "        with torch.no_grad():\n",
        "            for X_batch, y_batch in loader:\n",
        "                X_batch = X_batch.to(self.device)\n",
        "                y_batch = y_batch.to(self.device)\n",
        "\n",
        "                try:\n",
        "                    outputs, _ = self.model(X_batch)\n",
        "                except RuntimeError as e:\n",
        "                    if \"out of memory\" in str(e).lower():\n",
        "                        print(\"⚠️ GPU sin memoria — evaluando perplejidad en CPU temporalmente.\")\n",
        "                        torch.cuda.empty_cache()\n",
        "                        self.model.to(\"cpu\")\n",
        "                        X_batch = X_batch.to(\"cpu\")\n",
        "                        y_batch = y_batch.to(\"cpu\")\n",
        "                        outputs, _ = self.model(X_batch)\n",
        "                        self.model.to(self.device)\n",
        "                    else:\n",
        "                        raise e\n",
        "\n",
        "                loss = criterion(outputs.view(-1, self.model.fc.out_features),\n",
        "                                 y_batch.view(-1))\n",
        "                total_loss += loss.item()\n",
        "                total_tokens += y_batch.numel()\n",
        "\n",
        "        mean_loss = total_loss / total_tokens\n",
        "        ppl = np.exp(mean_loss)\n",
        "        return ppl\n",
        "\n",
        "    def on_epoch_end(self, epoch):\n",
        "        \"\"\"Calcula perplejidad, guarda modelo si mejora y aplica early stopping.\"\"\"\n",
        "        ppl = self.compute_perplexity()\n",
        "        self.history_ppl.append(ppl)\n",
        "        print(f\"Epoch {epoch+1} — Mean Perplexity: {ppl:.3f}\")\n",
        "\n",
        "        if ppl < self.min_score:\n",
        "            self.min_score = ppl\n",
        "            self.patience_counter = 0\n",
        "            torch.save(self.model.state_dict(), self.save_path)\n",
        "            print(\"✅ Saved new best model.\")\n",
        "        else:\n",
        "            self.patience_counter += 1\n",
        "            if self.patience_counter >= self.patience:\n",
        "                print(\"⛔ Early stopping triggered.\")\n",
        "                return True\n",
        "        return False\n"
      ],
      "metadata": {
        "id": "f4z6E40QCmip"
      },
      "execution_count": 88,
      "outputs": []
    },
    {
      "cell_type": "markdown",
      "source": [
        "### 1.1 SimpleRNN"
      ],
      "metadata": {
        "id": "8JDIm4lYCOWg"
      }
    },
    {
      "cell_type": "code",
      "source": [
        "import torch\n",
        "import torch.nn as nn\n",
        "import torch.nn.functional as F\n",
        "\n",
        "class SimpleRNNLanguageModel(nn.Module):\n",
        "    def __init__(self, vocab_size, hidden_size=200, emb_dim=128, dropout=0.1):\n",
        "        super().__init__()\n",
        "        self.vocab_size = vocab_size\n",
        "        self.hidden_size = hidden_size\n",
        "\n",
        "        # embedding para reemplazar one-hot\n",
        "        self.embedding = nn.Embedding(num_embeddings=vocab_size, embedding_dim=emb_dim)\n",
        "\n",
        "        self.rnn = nn.RNN(\n",
        "            input_size=emb_dim,\n",
        "            hidden_size=hidden_size,\n",
        "            batch_first=True,\n",
        "            dropout=dropout\n",
        "        )\n",
        "\n",
        "        self.fc = nn.Linear(hidden_size, vocab_size)\n",
        "\n",
        "    def forward(self, x, hidden=None):\n",
        "        # x: [batch, seq_len]\n",
        "        x_emb = self.embedding(x)             # [batch, seq_len, emb_dim]\n",
        "        out, hidden = self.rnn(x_emb, hidden) # [batch, seq_len, hidden_size]\n",
        "        logits = self.fc(out)                 # [batch, seq_len, vocab_size]\n",
        "        return logits, hidden\n"
      ],
      "metadata": {
        "id": "0hRZSw3OCTFn"
      },
      "execution_count": 89,
      "outputs": []
    },
    {
      "cell_type": "markdown",
      "source": [
        "### 1.2 LSTM"
      ],
      "metadata": {
        "id": "wz95TINWCQjI"
      }
    },
    {
      "cell_type": "code",
      "source": [
        "from torch.nn.utils.rnn import pad_sequence\n",
        "from torch.utils.data import DataLoader, TensorDataset\n",
        "\n",
        "class LSTMLanguageModel(nn.Module):\n",
        "    def __init__(self, vocab_size, hidden_size=200, dropout=0.1):\n",
        "        super().__init__()\n",
        "        self.rnn = nn.LSTM(vocab_size, hidden_size, batch_first=True, dropout=dropout)\n",
        "        self.fc = nn.Linear(hidden_size, vocab_size)\n",
        "    def forward(self, x, hidden=None):\n",
        "        x = F.one_hot(x, num_classes=self.fc.out_features).float()\n",
        "        out, hidden = self.rnn(x, hidden)\n",
        "        return self.fc(out), hidden\n"
      ],
      "metadata": {
        "id": "-BUTSIXdCStJ"
      },
      "execution_count": 90,
      "outputs": []
    },
    {
      "cell_type": "markdown",
      "source": [
        "### 1.3 GRU"
      ],
      "metadata": {
        "id": "dghUOgrXCTjn"
      }
    },
    {
      "cell_type": "code",
      "source": [
        "class GRULanguageModel(nn.Module):\n",
        "    def __init__(self, vocab_size, hidden_size=200, dropout=0.1):\n",
        "        super().__init__()\n",
        "        self.rnn = nn.GRU(vocab_size, hidden_size, batch_first=True, dropout=dropout)\n",
        "        self.fc = nn.Linear(hidden_size, vocab_size)\n",
        "    def forward(self, x, hidden=None):\n",
        "        x = F.one_hot(x, num_classes=self.fc.out_features).float()\n",
        "        out, hidden = self.rnn(x, hidden)\n",
        "        return self.fc(out), hidden"
      ],
      "metadata": {
        "id": "2e_H5UyEC6R7"
      },
      "execution_count": 91,
      "outputs": []
    },
    {
      "cell_type": "markdown",
      "metadata": {
        "id": "8HBZIwR0gruA"
      },
      "source": [
        "## 2. Entrenamiento de los modelos"
      ]
    },
    {
      "cell_type": "code",
      "source": [
        "def train_model(model, train_loader, val_data, device, vocab_size,\n",
        "                max_context_size,\n",
        "                n_epochs=20, lr=0.001, patience=5, model_name=\"model\"\n",
        "                ):\n",
        "    optimizer = torch.optim.RMSprop(model.parameters(), lr=lr)\n",
        "    criterion = nn.CrossEntropyLoss()\n",
        "    evaluator = PerplexityEvaluator(\n",
        "        X_val, y_val,\n",
        "        model=model,\n",
        "        device=device,\n",
        "        patience=5,\n",
        "        save_path=f\"{model_name}_best.pt\",\n",
        "        eval_batch_size=32\n",
        "    )\n",
        "\n",
        "    for epoch in range(n_epochs):\n",
        "        model.train()\n",
        "        total_loss = 0.0\n",
        "\n",
        "        for X_batch, y_batch in train_loader:\n",
        "            X_batch, y_batch = X_batch.to(device), y_batch.to(device)\n",
        "            optimizer.zero_grad()\n",
        "            outputs, _ = model(X_batch)\n",
        "            loss = criterion(outputs.view(-1, vocab_size), y_batch.view(-1))\n",
        "            loss.backward()\n",
        "            optimizer.step()\n",
        "            total_loss += loss.item()\n",
        "\n",
        "        avg_loss = total_loss / len(train_loader)\n",
        "        print(f\"\\nEpoch {epoch+1}/{n_epochs} — Loss: {avg_loss:.4f}\")\n",
        "\n",
        "        # Calcular perplejidad y chequear early stopping\n",
        "        stop = evaluator.on_epoch_end(epoch)\n",
        "        if stop:\n",
        "            print(f\"Entrenamiento detenido en epoch {epoch+1} (early stopping).\")\n",
        "            break\n",
        "\n",
        "    # 🔹 Guardar el modelo final (último epoch entrenado)\n",
        "    final_path = f\"{model_name}_final.pt\"\n",
        "    torch.save(model.state_dict(), final_path)\n",
        "    print(f\"Modelo final guardado en: {final_path}\")\n",
        "    print(f\"Mejor modelo guardado en: {model_name}_best.pt\")\n",
        "\n",
        "    return evaluator.history_ppl, model\n"
      ],
      "metadata": {
        "id": "1DfV9e_uDBNZ"
      },
      "execution_count": 95,
      "outputs": []
    },
    {
      "cell_type": "code",
      "source": [
        "print(\"- Vocab size: \", vocab_size)\n",
        "print(\"- Context Len:\", max_context_size)\n"
      ],
      "metadata": {
        "colab": {
          "base_uri": "https://localhost:8080/"
        },
        "id": "V5QxwXk3DKf6",
        "outputId": "81efe048-3a44-4c0d-de57-fcc7acffa30c"
      },
      "execution_count": 96,
      "outputs": [
        {
          "output_type": "stream",
          "name": "stdout",
          "text": [
            "- Vocab size:  65\n",
            "- Context Len: 100\n"
          ]
        }
      ]
    },
    {
      "cell_type": "code",
      "source": [
        "EPOCHS = 20\n",
        "LR = 0.001\n",
        "PATIENCE = 5\n",
        "\n",
        "seq_len = max_context_size\n",
        "\n",
        "X_train, X_val, y_train, y_val = train_test_split(\n",
        "    X, y, test_size=0.1, random_state=42\n",
        ")\n",
        "\n",
        "X_train_t = torch.tensor(X_train, dtype=torch.long)\n",
        "y_train_t = torch.tensor(y_train, dtype=torch.long)\n",
        "X_val_t   = torch.tensor(X_val, dtype=torch.long)\n",
        "y_val_t   = torch.tensor(y_val, dtype=torch.long)\n",
        "\n",
        "train_dataset = TensorDataset(X_train_t, y_train_t)\n",
        "val_dataset   = TensorDataset(X_val_t, y_val_t)\n",
        "\n",
        "# 4️⃣ DataLoaders (listas para tu loop)\n",
        "train_loader = DataLoader(train_dataset, batch_size=32, shuffle=True)\n",
        "val_loader   = DataLoader(val_dataset, batch_size=32, shuffle=False)\n",
        "\n",
        "\n",
        "# Datos de validación (listas de secuencias)\n",
        "val_data = [seq.tolist() for seq in X_val_t]  # compatible con tu callback\n",
        "\n",
        "device = torch.device(\"cuda\" if torch.cuda.is_available() else \"cpu\")\n",
        "\n",
        "# Entrenar los tres modelos\n",
        "models = {\n",
        "    \"SimpleRNN\": SimpleRNNLanguageModel(vocab_size),\n",
        "    \"LSTM\": LSTMLanguageModel(vocab_size),\n",
        "    \"GRU\": GRULanguageModel(vocab_size)\n",
        "}\n",
        "\n",
        "history = {}\n",
        "for name, model in models.items():\n",
        "    print(f\"\\n- Entrenando {name}...\")\n",
        "    model.to(device)\n",
        "    history[name], model = train_model(\n",
        "        model=model,\n",
        "        train_loader=train_loader,\n",
        "        val_data=val_data,\n",
        "        device=device,\n",
        "        vocab_size=vocab_size,\n",
        "        n_epochs=EPOCHS,\n",
        "        max_context_size=seq_len,\n",
        "        lr=LR,\n",
        "        patience=PATIENCE,\n",
        "        model_name=name,\n",
        "    )"
      ],
      "metadata": {
        "colab": {
          "base_uri": "https://localhost:8080/"
        },
        "id": "gpcgQ54GDDtD",
        "outputId": "22614aaa-0e92-4c24-c703-84050b867026"
      },
      "execution_count": 97,
      "outputs": [
        {
          "output_type": "stream",
          "name": "stdout",
          "text": [
            "\n",
            "- Entrenando SimpleRNN...\n",
            "\n",
            "Epoch 1/20 — Loss: 1.2941\n",
            "Epoch 1 — Mean Perplexity: 3.013\n",
            "✅ Saved new best model.\n",
            "\n",
            "Epoch 2/20 — Loss: 1.0425\n",
            "Epoch 2 — Mean Perplexity: 2.737\n",
            "✅ Saved new best model.\n",
            "\n",
            "Epoch 3/20 — Loss: 0.9867\n",
            "Epoch 3 — Mean Perplexity: 2.660\n",
            "✅ Saved new best model.\n",
            "\n",
            "Epoch 4/20 — Loss: 0.9677\n",
            "Epoch 4 — Mean Perplexity: 2.614\n",
            "✅ Saved new best model.\n",
            "\n",
            "Epoch 5/20 — Loss: 0.9577\n",
            "Epoch 5 — Mean Perplexity: 2.614\n",
            "✅ Saved new best model.\n",
            "\n",
            "Epoch 6/20 — Loss: 0.9522\n",
            "Epoch 6 — Mean Perplexity: 2.607\n",
            "✅ Saved new best model.\n",
            "\n",
            "Epoch 7/20 — Loss: 0.9479\n",
            "Epoch 7 — Mean Perplexity: 2.595\n",
            "✅ Saved new best model.\n",
            "\n",
            "Epoch 8/20 — Loss: 0.9445\n",
            "Epoch 8 — Mean Perplexity: 2.596\n",
            "\n",
            "Epoch 9/20 — Loss: 0.9415\n",
            "Epoch 9 — Mean Perplexity: 2.573\n",
            "✅ Saved new best model.\n",
            "\n",
            "Epoch 10/20 — Loss: 0.9390\n",
            "Epoch 10 — Mean Perplexity: 2.572\n",
            "✅ Saved new best model.\n",
            "\n",
            "Epoch 11/20 — Loss: 0.9363\n",
            "Epoch 11 — Mean Perplexity: 2.564\n",
            "✅ Saved new best model.\n",
            "\n",
            "Epoch 12/20 — Loss: 0.9348\n",
            "Epoch 12 — Mean Perplexity: 2.547\n",
            "✅ Saved new best model.\n",
            "\n",
            "Epoch 13/20 — Loss: 0.9325\n",
            "Epoch 13 — Mean Perplexity: 2.553\n",
            "\n",
            "Epoch 14/20 — Loss: 0.9309\n",
            "Epoch 14 — Mean Perplexity: 2.579\n",
            "\n",
            "Epoch 15/20 — Loss: 0.9291\n",
            "Epoch 15 — Mean Perplexity: 2.544\n",
            "✅ Saved new best model.\n",
            "\n",
            "Epoch 16/20 — Loss: 0.9275\n",
            "Epoch 16 — Mean Perplexity: 2.549\n",
            "\n",
            "Epoch 17/20 — Loss: 0.9262\n",
            "Epoch 17 — Mean Perplexity: 2.536\n",
            "✅ Saved new best model.\n",
            "\n",
            "Epoch 18/20 — Loss: 0.9247\n",
            "Epoch 18 — Mean Perplexity: 2.523\n",
            "✅ Saved new best model.\n",
            "\n",
            "Epoch 19/20 — Loss: 0.9233\n",
            "Epoch 19 — Mean Perplexity: 2.537\n",
            "\n",
            "Epoch 20/20 — Loss: 0.9220\n",
            "Epoch 20 — Mean Perplexity: 2.525\n",
            "Modelo final guardado en: SimpleRNN_final.pt\n",
            "Mejor modelo guardado en: SimpleRNN_best.pt\n",
            "\n",
            "- Entrenando LSTM...\n",
            "\n",
            "Epoch 1/20 — Loss: 1.4316\n",
            "Epoch 1 — Mean Perplexity: 2.707\n",
            "✅ Saved new best model.\n",
            "\n",
            "Epoch 2/20 — Loss: 0.8300\n",
            "Epoch 2 — Mean Perplexity: 2.038\n",
            "✅ Saved new best model.\n",
            "\n",
            "Epoch 3/20 — Loss: 0.6499\n",
            "Epoch 3 — Mean Perplexity: 1.824\n",
            "✅ Saved new best model.\n",
            "\n",
            "Epoch 4/20 — Loss: 0.5607\n",
            "Epoch 4 — Mean Perplexity: 1.717\n",
            "✅ Saved new best model.\n",
            "\n",
            "Epoch 5/20 — Loss: 0.5067\n",
            "Epoch 5 — Mean Perplexity: 1.637\n",
            "✅ Saved new best model.\n",
            "\n",
            "Epoch 6/20 — Loss: 0.4698\n",
            "Epoch 6 — Mean Perplexity: 1.611\n",
            "✅ Saved new best model.\n",
            "\n",
            "Epoch 7/20 — Loss: 0.4424\n",
            "Epoch 7 — Mean Perplexity: 1.571\n",
            "✅ Saved new best model.\n",
            "\n",
            "Epoch 8/20 — Loss: 0.4213\n",
            "Epoch 8 — Mean Perplexity: 1.512\n",
            "✅ Saved new best model.\n",
            "\n",
            "Epoch 9/20 — Loss: 0.4043\n",
            "Epoch 9 — Mean Perplexity: 1.491\n",
            "✅ Saved new best model.\n",
            "\n",
            "Epoch 10/20 — Loss: 0.3904\n",
            "Epoch 10 — Mean Perplexity: 1.478\n",
            "✅ Saved new best model.\n",
            "\n",
            "Epoch 11/20 — Loss: 0.3787\n",
            "Epoch 11 — Mean Perplexity: 1.464\n",
            "✅ Saved new best model.\n",
            "\n",
            "Epoch 12/20 — Loss: 0.3691\n",
            "Epoch 12 — Mean Perplexity: 1.443\n",
            "✅ Saved new best model.\n",
            "\n",
            "Epoch 13/20 — Loss: 0.3607\n",
            "Epoch 13 — Mean Perplexity: 1.435\n",
            "✅ Saved new best model.\n",
            "\n",
            "Epoch 14/20 — Loss: 0.3532\n",
            "Epoch 14 — Mean Perplexity: 1.427\n",
            "✅ Saved new best model.\n",
            "\n",
            "Epoch 15/20 — Loss: 0.3467\n",
            "Epoch 15 — Mean Perplexity: 1.426\n",
            "✅ Saved new best model.\n",
            "\n",
            "Epoch 16/20 — Loss: 0.3406\n",
            "Epoch 16 — Mean Perplexity: 1.434\n",
            "\n",
            "Epoch 17/20 — Loss: 0.3353\n",
            "Epoch 17 — Mean Perplexity: 1.403\n",
            "✅ Saved new best model.\n",
            "\n",
            "Epoch 18/20 — Loss: 0.3304\n",
            "Epoch 18 — Mean Perplexity: 1.390\n",
            "✅ Saved new best model.\n",
            "\n",
            "Epoch 19/20 — Loss: 0.3262\n",
            "Epoch 19 — Mean Perplexity: 1.400\n",
            "\n",
            "Epoch 20/20 — Loss: 0.3222\n",
            "Epoch 20 — Mean Perplexity: 1.390\n",
            "Modelo final guardado en: LSTM_final.pt\n",
            "Mejor modelo guardado en: LSTM_best.pt\n",
            "\n",
            "- Entrenando GRU...\n",
            "\n",
            "Epoch 1/20 — Loss: 1.3400\n",
            "Epoch 1 — Mean Perplexity: 2.577\n",
            "✅ Saved new best model.\n",
            "\n",
            "Epoch 2/20 — Loss: 0.8101\n",
            "Epoch 2 — Mean Perplexity: 2.072\n",
            "✅ Saved new best model.\n",
            "\n",
            "Epoch 3/20 — Loss: 0.6823\n",
            "Epoch 3 — Mean Perplexity: 1.915\n",
            "✅ Saved new best model.\n",
            "\n",
            "Epoch 4/20 — Loss: 0.6230\n",
            "Epoch 4 — Mean Perplexity: 1.845\n",
            "✅ Saved new best model.\n",
            "\n",
            "Epoch 5/20 — Loss: 0.5860\n",
            "Epoch 5 — Mean Perplexity: 1.786\n",
            "✅ Saved new best model.\n",
            "\n",
            "Epoch 6/20 — Loss: 0.5596\n",
            "Epoch 6 — Mean Perplexity: 1.759\n",
            "✅ Saved new best model.\n",
            "\n",
            "Epoch 7/20 — Loss: 0.5397\n",
            "Epoch 7 — Mean Perplexity: 1.725\n",
            "✅ Saved new best model.\n",
            "\n",
            "Epoch 8/20 — Loss: 0.5238\n",
            "Epoch 8 — Mean Perplexity: 1.682\n",
            "✅ Saved new best model.\n",
            "\n",
            "Epoch 9/20 — Loss: 0.5107\n",
            "Epoch 9 — Mean Perplexity: 1.678\n",
            "✅ Saved new best model.\n",
            "\n",
            "Epoch 10/20 — Loss: 0.4997\n",
            "Epoch 10 — Mean Perplexity: 1.653\n",
            "✅ Saved new best model.\n",
            "\n",
            "Epoch 11/20 — Loss: 0.4903\n",
            "Epoch 11 — Mean Perplexity: 1.632\n",
            "✅ Saved new best model.\n",
            "\n",
            "Epoch 12/20 — Loss: 0.4822\n",
            "Epoch 12 — Mean Perplexity: 1.660\n",
            "\n",
            "Epoch 13/20 — Loss: 0.4752\n",
            "Epoch 13 — Mean Perplexity: 1.609\n",
            "✅ Saved new best model.\n",
            "\n",
            "Epoch 14/20 — Loss: 0.4688\n",
            "Epoch 14 — Mean Perplexity: 1.609\n",
            "✅ Saved new best model.\n",
            "\n",
            "Epoch 15/20 — Loss: 0.4635\n",
            "Epoch 15 — Mean Perplexity: 1.609\n",
            "✅ Saved new best model.\n",
            "\n",
            "Epoch 16/20 — Loss: 0.4585\n",
            "Epoch 16 — Mean Perplexity: 1.586\n",
            "✅ Saved new best model.\n",
            "\n",
            "Epoch 17/20 — Loss: 0.4538\n",
            "Epoch 17 — Mean Perplexity: 1.577\n",
            "✅ Saved new best model.\n",
            "\n",
            "Epoch 18/20 — Loss: 0.4497\n",
            "Epoch 18 — Mean Perplexity: 1.580\n",
            "\n",
            "Epoch 19/20 — Loss: 0.4455\n",
            "Epoch 19 — Mean Perplexity: 1.569\n",
            "✅ Saved new best model.\n",
            "\n",
            "Epoch 20/20 — Loss: 0.4423\n",
            "Epoch 20 — Mean Perplexity: 1.554\n",
            "✅ Saved new best model.\n",
            "Modelo final guardado en: GRU_final.pt\n",
            "Mejor modelo guardado en: GRU_best.pt\n"
          ]
        }
      ]
    },
    {
      "cell_type": "code",
      "source": [
        "import matplotlib.pyplot as plt\n",
        "\n",
        "for name, h in history.items():\n",
        "    plt.plot(h, label=name)\n",
        "plt.xlabel(\"Epoch\")\n",
        "plt.ylabel(\"Perplexity\")\n",
        "plt.legend()\n",
        "plt.title(\"Evolución de la perplejidad por modelo\")\n",
        "plt.show()"
      ],
      "metadata": {
        "colab": {
          "base_uri": "https://localhost:8080/",
          "height": 472
        },
        "id": "vz8j4gILF5hg",
        "outputId": "802d9e50-30cc-4c94-8f57-1d4b6ad50863"
      },
      "execution_count": 98,
      "outputs": [
        {
          "output_type": "display_data",
          "data": {
            "text/plain": [
              "<Figure size 640x480 with 1 Axes>"
            ],
            "image/png": "[encoded data removed]"
          },
          "metadata": {}
        }
      ]
    },
    {
      "cell_type": "markdown",
      "metadata": {
        "id": "KN6Fg_BsxJe6"
      },
      "source": [
        "\n",
        "## 3. Predicción del próximo caracter"
      ]
    },
    {
      "cell_type": "code",
      "execution_count": 99,
      "metadata": {
        "id": "IBvKHFPmzpy2"
      },
      "outputs": [],
      "source": [
        "!pip install -q gradio"
      ]
    },
    {
      "cell_type": "code",
      "source": [
        "def load_model(model_type):\n",
        "    \"\"\"\n",
        "    Carga el modelo seleccionado desde su archivo *_best.pt.\n",
        "    \"\"\"\n",
        "    model_map = {\n",
        "        \"SimpleRNN\": SimpleRNNLanguageModel,\n",
        "        \"LSTM\": LSTMLanguageModel,\n",
        "        \"GRU\": GRULanguageModel\n",
        "    }\n",
        "    model_class = model_map[model_type]\n",
        "    model = model_class(vocab_size=len(char2idx))\n",
        "    model_path = f\"{model_type}_best.pt\"\n",
        "    try:\n",
        "        model.load_state_dict(torch.load(model_path, map_location=device))\n",
        "        model.to(device)\n",
        "        model.eval()\n",
        "        print(f\"✅ Modelo {model_type} cargado desde {model_path}\")\n",
        "    except FileNotFoundError:\n",
        "        print(f\"⚠️ No se encontró el archivo {model_path}. Asegurate de haberlo entrenado.\")\n",
        "        model = None\n",
        "    return model"
      ],
      "metadata": {
        "id": "v8zGkLrfTM6L"
      },
      "execution_count": 100,
      "outputs": []
    },
    {
      "cell_type": "code",
      "source": [
        "def pad_sequence_np(seq, maxlen, pad_value=0):\n",
        "    seq = np.array(seq)\n",
        "    if len(seq) < maxlen:\n",
        "        pad = np.full(maxlen - len(seq), pad_value)\n",
        "        return np.concatenate([pad, seq])\n",
        "    else:\n",
        "        return seq[-maxlen:]\n",
        "\n",
        "def model_response(human_text, model_type):\n",
        "    if len(human_text.strip()) == 0:\n",
        "        return \"\"\n",
        "\n",
        "    model = load_model(model_type)\n",
        "    if model is None:\n",
        "        return f\"❌ No se encontró el modelo {model_type}_best.pt\"\n",
        "\n",
        "    # 1️⃣ Codificar el texto\n",
        "    encoded = [char2idx.get(ch.lower(), 0) for ch in human_text]\n",
        "    encoded = pad_sequence_np(encoded, max_context_size)\n",
        "    encoded = torch.tensor(encoded, dtype=torch.long).unsqueeze(0).to(device)\n",
        "\n",
        "    # 2️⃣ Inferencia\n",
        "    with torch.no_grad():\n",
        "        outputs, _ = model(encoded)\n",
        "        logits = outputs[:, -1, :]\n",
        "        probs = F.softmax(logits, dim=-1)\n",
        "        y_hat = torch.argmax(probs, dim=-1).item()\n",
        "\n",
        "    # 3️⃣ Decodificar y devolver\n",
        "    next_char = idx2char[y_hat]\n",
        "    return human_text + next_char"
      ],
      "metadata": {
        "id": "axLUbBm2TQo_"
      },
      "execution_count": 101,
      "outputs": []
    },
    {
      "cell_type": "code",
      "source": [
        "import gradio as gr\n",
        "\n",
        "\n",
        "iface = gr.Interface(\n",
        "    fn=model_response,\n",
        "    inputs=[\n",
        "        gr.Textbox(label=\"Ingresa texto\"),\n",
        "        gr.Radio([\"SimpleRNN\", \"LSTM\", \"GRU\"], label=\"Seleccionar modelo\", value=\"SimpleRNN\")\n",
        "    ],\n",
        "    outputs=gr.Textbox(label=\"Predicción del modelo\"),\n",
        "    title=\"🧠 Generador de texto RNN/LSTM/GRU (PyTorch)\",\n",
        "    description=\"Seleccioná el modelo y generá el siguiente carácter predicho.\"\n",
        ")\n",
        "\n",
        "iface.launch(debug=True)"
      ],
      "metadata": {
        "colab": {
          "base_uri": "https://localhost:8080/",
          "height": 888
        },
        "id": "PzxCqZxATTus",
        "outputId": "c4f8dda8-2661-42e3-8375-bf03b2ffd98f"
      },
      "execution_count": 103,
      "outputs": [
        {
          "output_type": "stream",
          "name": "stdout",
          "text": [
            "It looks like you are running Gradio on a hosted Jupyter notebook, which requires `share=True`. Automatically setting `share=True` (you can turn this off by setting `share=False` in `launch()` explicitly).\n",
            "\n",
            "Colab notebook detected. This cell will run indefinitely so that you can see errors and logs. To turn off, set debug=False in launch().\n",
            "* Running on public URL: https://34bfe93644808d25be.gradio.live\n",
            "\n",
            "This share link expires in 1 week. For free permanent hosting and GPU upgrades, run `gradio deploy` from the terminal in the working directory to deploy to Hugging Face Spaces (https://huggingface.co/spaces)\n"
          ]
        },
        {
          "output_type": "display_data",
          "data": {
            "text/plain": [
              "<IPython.core.display.HTML object>"
            ],
            "text/html": [
              "<div><iframe src=\"https://34bfe93644808d25be.gradio.live\" width=\"100%\" height=\"500\" allow=\"autoplay; camera; microphone; clipboard-read; clipboard-write;\" frameborder=\"0\" allowfullscreen></iframe></div>"
            ]
          },
          "metadata": {}
        },
        {
          "output_type": "stream",
          "name": "stderr",
          "text": [
            "/usr/local/lib/python3.12/dist-packages/torch/nn/modules/rnn.py:123: UserWarning: dropout option adds dropout after all but last recurrent layer, so non-zero dropout expects num_layers greater than 1, but got dropout=0.1 and num_layers=1\n",
            "  warnings.warn(\n"
          ]
        },
        {
          "output_type": "stream",
          "name": "stdout",
          "text": [
            "✅ Modelo SimpleRNN cargado desde SimpleRNN_best.pt\n"
          ]
        },
        {
          "output_type": "stream",
          "name": "stderr",
          "text": [
            "/usr/local/lib/python3.12/dist-packages/torch/nn/modules/rnn.py:123: UserWarning: dropout option adds dropout after all but last recurrent layer, so non-zero dropout expects num_layers greater than 1, but got dropout=0.1 and num_layers=1\n",
            "  warnings.warn(\n"
          ]
        },
        {
          "output_type": "stream",
          "name": "stdout",
          "text": [
            "✅ Modelo SimpleRNN cargado desde SimpleRNN_best.pt\n"
          ]
        },
        {
          "output_type": "stream",
          "name": "stderr",
          "text": [
            "/usr/local/lib/python3.12/dist-packages/torch/nn/modules/rnn.py:123: UserWarning: dropout option adds dropout after all but last recurrent layer, so non-zero dropout expects num_layers greater than 1, but got dropout=0.1 and num_layers=1\n",
            "  warnings.warn(\n"
          ]
        },
        {
          "output_type": "stream",
          "name": "stdout",
          "text": [
            "✅ Modelo LSTM cargado desde LSTM_best.pt\n"
          ]
        },
        {
          "output_type": "stream",
          "name": "stderr",
          "text": [
            "/usr/local/lib/python3.12/dist-packages/torch/nn/modules/rnn.py:123: UserWarning: dropout option adds dropout after all but last recurrent layer, so non-zero dropout expects num_layers greater than 1, but got dropout=0.1 and num_layers=1\n",
            "  warnings.warn(\n"
          ]
        },
        {
          "output_type": "stream",
          "name": "stdout",
          "text": [
            "✅ Modelo GRU cargado desde GRU_best.pt\n",
            "Keyboard interruption in main thread... closing server.\n",
            "Killing tunnel 127.0.0.1:7860 <> https://34bfe93644808d25be.gradio.live\n"
          ]
        },
        {
          "output_type": "execute_result",
          "data": {
            "text/plain": []
          },
          "metadata": {},
          "execution_count": 103
        }
      ]
    },
    {
      "cell_type": "markdown",
      "metadata": {
        "id": "mCeMWWupxN1-"
      },
      "source": [
        "### 3.1 Generación de secuencias"
      ]
    },
    {
      "cell_type": "code",
      "execution_count": 105,
      "metadata": {
        "id": "bwbS_pfhxvB3"
      },
      "outputs": [],
      "source": [
        "import torch\n",
        "import torch.nn.functional as F\n",
        "import numpy as np\n",
        "\n",
        "def generate_seq(model, seed_text, max_length, n_words):\n",
        "    \"\"\"\n",
        "    Genera texto autoregresivamente con un modelo PyTorch.\n",
        "    Args:\n",
        "        model (torch.nn.Module): modelo entrenado (SimpleRNN, LSTM o GRU)\n",
        "        seed_text (str): texto de entrada (contexto inicial)\n",
        "        max_length (int): longitud máxima de la secuencia de entrada (contexto)\n",
        "        n_words (int): cantidad de caracteres a generar\n",
        "    Returns:\n",
        "        str: texto generado (semilla + predicciones)\n",
        "    \"\"\"\n",
        "    model.eval()\n",
        "    output_text = seed_text\n",
        "\n",
        "    for _ in range(n_words):\n",
        "        # 1️⃣ Encodear texto actual\n",
        "        encoded = [char2idx.get(ch.lower(), 0) for ch in output_text]\n",
        "        if len(encoded) < max_length:\n",
        "            pad = [0] * (max_length - len(encoded))\n",
        "            encoded = pad + encoded\n",
        "        else:\n",
        "            encoded = encoded[-max_length:]\n",
        "\n",
        "        # Convertir a tensor\n",
        "        x = torch.tensor(encoded, dtype=torch.long).unsqueeze(0).to(device)\n",
        "\n",
        "        # 2️⃣ Forward pass\n",
        "        with torch.no_grad():\n",
        "            outputs, _ = model(x)\n",
        "            logits = outputs[:, -1, :]  # solo el último paso temporal\n",
        "            probs = F.softmax(logits, dim=-1)\n",
        "            y_hat = torch.argmax(probs, dim=-1).item()\n",
        "\n",
        "        # 3️⃣ Decodificar y agregar carácter\n",
        "        out_char = idx2char[y_hat]\n",
        "        output_text += out_char\n",
        "\n",
        "    return output_text"
      ]
    },
    {
      "cell_type": "code",
      "execution_count": 109,
      "metadata": {
        "id": "JoFqRC5pxzqS",
        "colab": {
          "base_uri": "https://localhost:8080/",
          "height": 1000
        },
        "outputId": "0e104149-4806-4f4c-9233-5d799ec88890"
      },
      "outputs": [
        {
          "output_type": "stream",
          "name": "stdout",
          "text": [
            "It looks like you are running Gradio on a hosted Jupyter notebook, which requires `share=True`. Automatically setting `share=True` (you can turn this off by setting `share=False` in `launch()` explicitly).\n",
            "\n",
            "Colab notebook detected. This cell will run indefinitely so that you can see errors and logs. To turn off, set debug=False in launch().\n",
            "* Running on public URL: https://3a0951aa0e6dfc9649.gradio.live\n",
            "\n",
            "This share link expires in 1 week. For free permanent hosting and GPU upgrades, run `gradio deploy` from the terminal in the working directory to deploy to Hugging Face Spaces (https://huggingface.co/spaces)\n"
          ]
        },
        {
          "output_type": "display_data",
          "data": {
            "text/plain": [
              "<IPython.core.display.HTML object>"
            ],
            "text/html": [
              "<div><iframe src=\"https://3a0951aa0e6dfc9649.gradio.live\" width=\"100%\" height=\"500\" allow=\"autoplay; camera; microphone; clipboard-read; clipboard-write;\" frameborder=\"0\" allowfullscreen></iframe></div>"
            ]
          },
          "metadata": {}
        },
        {
          "output_type": "stream",
          "name": "stderr",
          "text": [
            "/usr/local/lib/python3.12/dist-packages/torch/nn/modules/rnn.py:123: UserWarning: dropout option adds dropout after all but last recurrent layer, so non-zero dropout expects num_layers greater than 1, but got dropout=0.1 and num_layers=1\n",
            "  warnings.warn(\n"
          ]
        },
        {
          "output_type": "stream",
          "name": "stdout",
          "text": [
            "✅ Modelo SimpleRNN cargado desde SimpleRNN_best.pt\n"
          ]
        },
        {
          "output_type": "stream",
          "name": "stderr",
          "text": [
            "/usr/local/lib/python3.12/dist-packages/torch/nn/modules/rnn.py:123: UserWarning: dropout option adds dropout after all but last recurrent layer, so non-zero dropout expects num_layers greater than 1, but got dropout=0.1 and num_layers=1\n",
            "  warnings.warn(\n"
          ]
        },
        {
          "output_type": "stream",
          "name": "stdout",
          "text": [
            "✅ Modelo LSTM cargado desde LSTM_best.pt\n"
          ]
        },
        {
          "output_type": "stream",
          "name": "stderr",
          "text": [
            "/usr/local/lib/python3.12/dist-packages/torch/nn/modules/rnn.py:123: UserWarning: dropout option adds dropout after all but last recurrent layer, so non-zero dropout expects num_layers greater than 1, but got dropout=0.1 and num_layers=1\n",
            "  warnings.warn(\n"
          ]
        },
        {
          "output_type": "stream",
          "name": "stdout",
          "text": [
            "✅ Modelo GRU cargado desde GRU_best.pt\n"
          ]
        },
        {
          "output_type": "stream",
          "name": "stderr",
          "text": [
            "/usr/local/lib/python3.12/dist-packages/torch/nn/modules/rnn.py:123: UserWarning: dropout option adds dropout after all but last recurrent layer, so non-zero dropout expects num_layers greater than 1, but got dropout=0.1 and num_layers=1\n",
            "  warnings.warn(\n"
          ]
        },
        {
          "output_type": "stream",
          "name": "stdout",
          "text": [
            "✅ Modelo GRU cargado desde GRU_best.pt\n"
          ]
        },
        {
          "output_type": "stream",
          "name": "stderr",
          "text": [
            "/usr/local/lib/python3.12/dist-packages/torch/nn/modules/rnn.py:123: UserWarning: dropout option adds dropout after all but last recurrent layer, so non-zero dropout expects num_layers greater than 1, but got dropout=0.1 and num_layers=1\n",
            "  warnings.warn(\n"
          ]
        },
        {
          "output_type": "stream",
          "name": "stdout",
          "text": [
            "✅ Modelo LSTM cargado desde LSTM_best.pt\n"
          ]
        },
        {
          "output_type": "stream",
          "name": "stderr",
          "text": [
            "/usr/local/lib/python3.12/dist-packages/torch/nn/modules/rnn.py:123: UserWarning: dropout option adds dropout after all but last recurrent layer, so non-zero dropout expects num_layers greater than 1, but got dropout=0.1 and num_layers=1\n",
            "  warnings.warn(\n"
          ]
        },
        {
          "output_type": "stream",
          "name": "stdout",
          "text": [
            "✅ Modelo SimpleRNN cargado desde SimpleRNN_best.pt\n"
          ]
        },
        {
          "output_type": "stream",
          "name": "stderr",
          "text": [
            "/usr/local/lib/python3.12/dist-packages/torch/nn/modules/rnn.py:123: UserWarning: dropout option adds dropout after all but last recurrent layer, so non-zero dropout expects num_layers greater than 1, but got dropout=0.1 and num_layers=1\n",
            "  warnings.warn(\n"
          ]
        },
        {
          "output_type": "stream",
          "name": "stdout",
          "text": [
            "✅ Modelo SimpleRNN cargado desde SimpleRNN_best.pt\n"
          ]
        },
        {
          "output_type": "stream",
          "name": "stderr",
          "text": [
            "/usr/local/lib/python3.12/dist-packages/torch/nn/modules/rnn.py:123: UserWarning: dropout option adds dropout after all but last recurrent layer, so non-zero dropout expects num_layers greater than 1, but got dropout=0.1 and num_layers=1\n",
            "  warnings.warn(\n"
          ]
        },
        {
          "output_type": "stream",
          "name": "stdout",
          "text": [
            "✅ Modelo LSTM cargado desde LSTM_best.pt\n"
          ]
        },
        {
          "output_type": "stream",
          "name": "stderr",
          "text": [
            "/usr/local/lib/python3.12/dist-packages/torch/nn/modules/rnn.py:123: UserWarning: dropout option adds dropout after all but last recurrent layer, so non-zero dropout expects num_layers greater than 1, but got dropout=0.1 and num_layers=1\n",
            "  warnings.warn(\n"
          ]
        },
        {
          "output_type": "stream",
          "name": "stdout",
          "text": [
            "✅ Modelo GRU cargado desde GRU_best.pt\n"
          ]
        },
        {
          "output_type": "stream",
          "name": "stderr",
          "text": [
            "/usr/local/lib/python3.12/dist-packages/torch/nn/modules/rnn.py:123: UserWarning: dropout option adds dropout after all but last recurrent layer, so non-zero dropout expects num_layers greater than 1, but got dropout=0.1 and num_layers=1\n",
            "  warnings.warn(\n"
          ]
        },
        {
          "output_type": "stream",
          "name": "stdout",
          "text": [
            "✅ Modelo GRU cargado desde GRU_best.pt\n",
            "Keyboard interruption in main thread... closing server.\n",
            "Killing tunnel 127.0.0.1:7860 <> https://3a0951aa0e6dfc9649.gradio.live\n"
          ]
        },
        {
          "output_type": "execute_result",
          "data": {
            "text/plain": []
          },
          "metadata": {},
          "execution_count": 109
        }
      ],
      "source": [
        "def model_response(seed_text, model_type, n_chars):\n",
        "    model = load_model(model_type)\n",
        "    generated = generate_seq(model, seed_text, max_context_size, int(n_chars))\n",
        "    return generated\n",
        "\n",
        "\n",
        "iface = gr.Interface(\n",
        "    fn=model_response,\n",
        "    inputs=[\n",
        "        gr.Textbox(label=\"Texto inicial (semilla)\", placeholder=\"Escribí un inicio...\"),\n",
        "        gr.Radio([\"SimpleRNN\", \"LSTM\", \"GRU\"], label=\"Seleccionar modelo\", value=\"SimpleRNN\"),\n",
        "        gr.Slider(1, 200, value=50, step=1, label=\"Cantidad de caracteres a generar\")\n",
        "    ],\n",
        "    outputs=gr.Textbox(label=\"Texto generado\"),\n",
        "    title=\"🧠 Generador de texto con RNN / LSTM / GRU (PyTorch)\",\n",
        "    description=\"Seleccioná un modelo y generá texto autoregresivamente.\"\n",
        ")\n",
        "\n",
        "iface.launch(debug=True)"
      ]
    },
    {
      "cell_type": "markdown",
      "source": [
        "> **Análisis:** Notamos que en todos los casos (los 3 modelos) se refleja informacion aprendida del libro utilizado como dataset (alice in wonderland), pero no se generan oraciones ni palabras coherentes!"
      ],
      "metadata": {
        "id": "x0ZbzJ0aXt5i"
      }
    },
    {
      "cell_type": "markdown",
      "metadata": {
        "id": "drJ6xn5qW1Hl"
      },
      "source": [
        "###  3.2 Beam search y muestreo aleatorio"
      ]
    },
    {
      "cell_type": "code",
      "execution_count": 115,
      "metadata": {
        "id": "I_lZiQwkW1Hl"
      },
      "outputs": [],
      "source": [
        "import torch\n",
        "import numpy as np\n",
        "from scipy.special import softmax\n",
        "\n",
        "# -----------------------------------------------------------\n",
        "# ENCODE / DECODE\n",
        "# -----------------------------------------------------------\n",
        "\n",
        "def encode(text, max_length=max_context_size):\n",
        "    \"\"\"Codifica texto en tensores PyTorch con padding previo.\"\"\"\n",
        "    encoded = [char2idx.get(ch, 0) for ch in text.lower()]\n",
        "    if len(encoded) < max_length:\n",
        "        pad = [0] * (max_length - len(encoded))\n",
        "        encoded = pad + encoded\n",
        "    else:\n",
        "        encoded = encoded[-max_length:]\n",
        "    x = torch.tensor(encoded, dtype=torch.long).unsqueeze(0).to(device)\n",
        "    return x\n",
        "\n",
        "def decode(seq):\n",
        "    \"\"\"Convierte una secuencia de índices en texto.\"\"\"\n",
        "    return ''.join([idx2char[i] for i in seq])\n",
        "\n",
        "# -----------------------------------------------------------\n",
        "# SELECT CANDIDATES\n",
        "# -----------------------------------------------------------\n",
        "\n",
        "def select_candidates(preds, num_beams, vocab_size, history_probs, history_tokens, temp, mode):\n",
        "    \"\"\"\n",
        "    Selecciona los mejores candidatos del beam actual.\n",
        "    preds: lista de arrays (num_beams × vocab_size)\n",
        "    \"\"\"\n",
        "    pred_large = []\n",
        "\n",
        "    for idx, pp in enumerate(preds):\n",
        "        pred_large.extend(np.log(pp + 1e-10) + history_probs[idx])\n",
        "\n",
        "    pred_large = np.array(pred_large)\n",
        "\n",
        "    # Criterio de selección\n",
        "    if mode == 'det':\n",
        "        idx_select = np.argsort(pred_large)[::-1][:num_beams]\n",
        "    elif mode == 'sto':\n",
        "        idx_select = np.random.choice(\n",
        "            np.arange(pred_large.shape[0]),\n",
        "            num_beams,\n",
        "            p=softmax(pred_large / temp)\n",
        "        )\n",
        "    else:\n",
        "        raise ValueError(f\"Wrong selection mode '{mode}'. Use 'det' or 'sto'.\")\n",
        "\n",
        "    # Indices reales\n",
        "    new_history_tokens = np.concatenate(\n",
        "        (np.array(history_tokens)[idx_select // vocab_size],\n",
        "         np.array([idx_select % vocab_size]).T),\n",
        "        axis=1\n",
        "    )\n",
        "\n",
        "    return pred_large[idx_select.astype(int)], new_history_tokens.astype(int)\n",
        "\n",
        "\n",
        "# -----------------------------------------------------------\n",
        "# BEAM SEARCH (PyTorch version)\n",
        "# -----------------------------------------------------------\n",
        "\n",
        "def beam_search(model, num_beams, num_words, input_text, temp=1, mode='det'):\n",
        "    \"\"\"\n",
        "    Implementación de beam search usando un modelo PyTorch.\n",
        "    Devuelve TODAS las secuencias generadas + la mejor.\n",
        "    \"\"\"\n",
        "    model.eval()\n",
        "\n",
        "    # 1️⃣ Primera iteración\n",
        "    encoded = encode(input_text)\n",
        "    with torch.no_grad():\n",
        "        outputs, _ = model(encoded)\n",
        "        y_hat = torch.softmax(outputs[:, -1, :], dim=-1).cpu().numpy()[0]\n",
        "\n",
        "    vocab_size = y_hat.shape[0]\n",
        "\n",
        "    # Inicialización\n",
        "    history_probs = np.zeros(num_beams)\n",
        "    history_tokens = [encoded.cpu().numpy()[0]] * num_beams\n",
        "\n",
        "    # Selección inicial\n",
        "    history_probs, history_tokens = select_candidates(\n",
        "        [y_hat], num_beams, vocab_size,\n",
        "        history_probs, history_tokens, temp, mode\n",
        "    )\n",
        "\n",
        "    # 2️⃣ Loop de búsqueda\n",
        "    for _ in range(num_words - 1):\n",
        "        preds = []\n",
        "        for hist in history_tokens:\n",
        "            input_update = torch.tensor([hist[-max_context_size:]], dtype=torch.long).to(device)\n",
        "            with torch.no_grad():\n",
        "                outputs, _ = model(input_update)\n",
        "                y_hat = torch.softmax(outputs[:, -1, :], dim=-1).cpu().numpy()[0]\n",
        "            preds.append(y_hat)\n",
        "\n",
        "        history_probs, history_tokens = select_candidates(\n",
        "            preds, num_beams, vocab_size,\n",
        "            history_probs, history_tokens, temp, mode\n",
        "        )\n",
        "\n",
        "    # 3️⃣ Ranking final\n",
        "    ranked_indices = np.argsort(history_probs)[::-1]\n",
        "    ranked_probs = history_probs[ranked_indices]\n",
        "    ranked_tokens = history_tokens[ranked_indices]\n",
        "\n",
        "    # 4️⃣ Decodificación\n",
        "    decoded_sequences = [\n",
        "        decode(seq[-(len(input_text) + num_words):]) for seq in ranked_tokens\n",
        "    ]\n",
        "\n",
        "    # 5️⃣ Empaquetado de resultados\n",
        "    results = [\n",
        "        {\"rank\": i + 1,\n",
        "         \"log_prob\": float(ranked_probs[i]),\n",
        "         \"text\": decoded_sequences[i]}\n",
        "        for i in range(len(decoded_sequences))\n",
        "    ]\n",
        "\n",
        "    best_seq = decoded_sequences[0]\n",
        "    return best_seq, results\n"
      ]
    },
    {
      "cell_type": "code",
      "execution_count": 120,
      "metadata": {
        "id": "GeLqAoOYW1Hm",
        "colab": {
          "base_uri": "https://localhost:8080/"
        },
        "outputId": "78b80559-39ce-468d-8459-610557f16088"
      },
      "outputs": [
        {
          "output_type": "stream",
          "name": "stdout",
          "text": [
            "🏆 Mejor beam:\n",
            "alice curiosion of the project gutenberg™ trademark. con\n",
            "\n",
            "🔍 Otros candidatos:\n",
            "[1] logP=-7.69 → alice curiosion of the project gutenberg™ trademark. con\n",
            "[2] logP=-8.35 → alice curiosion of the project gutenberg™ trademark, and\n",
            "[3] logP=-8.96 → alice curiosion of the project\r\n",
            "gutenberg™ trademark, an\n",
            "[4] logP=-9.33 → alice curiosion of the project\r\n",
            "gutenberg™ trademark. co\n",
            "[5] logP=-10.85 → alice curiosion of the project gutenberg™ trademark. cun\n"
          ]
        }
      ],
      "source": [
        "# Texto semilla\n",
        "seed = \"Alice \"\n",
        "\n",
        "# Beam search determinista\n",
        "best, beams = beam_search(model, num_beams=5, num_words=50, input_text=seed, mode=\"det\")\n",
        "\n",
        "print(\"🏆 Mejor beam:\")\n",
        "print(best)\n",
        "\n",
        "print(\"\\n🔍 Otros candidatos:\")\n",
        "for b in beams:\n",
        "    print(f\"[{b['rank']}] logP={b['log_prob']:.2f} → {b['text']}\")"
      ]
    },
    {
      "cell_type": "code",
      "source": [
        "# Texto semilla\n",
        "seed = \"Alice\"\n",
        "\n",
        "# Beam search determinista\n",
        "best, beams = beam_search(model, num_beams=5, num_words=50, input_text=seed, mode=\"sto\")\n",
        "\n",
        "print(\"🏆 Mejor beam:\")\n",
        "print(best)\n",
        "\n",
        "print(\"\\n🔍 Otros candidatos:\")\n",
        "for b in beams:\n",
        "    print(f\"[{b['rank']}] logP={b['log_prob']:.2f} → {b['text']}\")"
      ],
      "metadata": {
        "colab": {
          "base_uri": "https://localhost:8080/"
        },
        "id": "l9jIx5ouYFq8",
        "outputId": "3a2cc6a8-0f7d-4946-d3c3-1d673172b160"
      },
      "execution_count": 121,
      "outputs": [
        {
          "output_type": "stream",
          "name": "stdout",
          "text": [
            "🏆 Mejor beam:\n",
            "aliced,” said the king.\r\n",
            "\r\n",
            "here one of the project gute\n",
            "\n",
            "🔍 Otros candidatos:\n",
            "[1] logP=-8.42 → aliced,” said the king.\r\n",
            "\r\n",
            "here one of the project gute\n",
            "[2] logP=-8.42 → aliced,” said the king.\r\n",
            "\r\n",
            "here one of the project gute\n",
            "[3] logP=-8.42 → aliced,” said the king.\r\n",
            "\r\n",
            "here one of the project gute\n",
            "[4] logP=-8.42 → aliced,” said the king.\r\n",
            "\r\n",
            "here one of the project gute\n",
            "[5] logP=-8.42 → aliced,” said the king.\r\n",
            "\r\n",
            "here one of the project gute\n"
          ]
        }
      ]
    },
    {
      "cell_type": "code",
      "source": [],
      "metadata": {
        "id": "e1UNHQEeYGE5"
      },
      "execution_count": null,
      "outputs": []
    }
  ],
  "metadata": {
    "accelerator": "GPU",
    "colab": {
      "gpuType": "T4",
      "provenance": []
    },
    "kernelspec": {
      "display_name": "desafios nlp 1",
      "language": "python",
      "name": "venv"
    },
    "language_info": {
      "codemirror_mode": {
        "name": "ipython",
        "version": 3
      },
      "file_extension": ".py",
      "mimetype": "text/x-python",
      "name": "python",
      "nbconvert_exporter": "python",
      "pygments_lexer": "ipython3",
      "version": "3.13.3"
    }
  },
  "nbformat": 4,
  "nbformat_minor": 0
}