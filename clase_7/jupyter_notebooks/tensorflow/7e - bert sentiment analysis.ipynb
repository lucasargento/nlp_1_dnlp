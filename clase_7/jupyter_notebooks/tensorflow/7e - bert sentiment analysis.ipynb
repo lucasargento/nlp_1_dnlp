{
  "nbformat": 4,
  "nbformat_minor": 0,
  "metadata": {
    "colab": {
      "provenance": [],
      "toc_visible": true
    },
    "kernelspec": {
      "name": "python3",
      "display_name": "Python 3"
    },
    "accelerator": "GPU",
    "widgets": {
      "application/vnd.jupyter.widget-state+json": {
        "995b9a113f6b40ac8cf3233fb132c949": {
          "model_module": "@jupyter-widgets/controls",
          "model_name": "HBoxModel",
          "model_module_version": "1.5.0",
          "state": {
            "_view_name": "HBoxView",
            "_dom_classes": [],
            "_model_name": "HBoxModel",
            "_view_module": "@jupyter-widgets/controls",
            "_model_module_version": "1.5.0",
            "_view_count": null,
            "_view_module_version": "1.5.0",
            "box_style": "",
            "layout": "IPY_MODEL_0e99e5a51a4348419610aadde5c13c2c",
            "_model_module": "@jupyter-widgets/controls",
            "children": [
              "IPY_MODEL_fbbb4c7c247f4c078de91ab9f1ce3ca9",
              "IPY_MODEL_eb332e7b1f974290bb2b0ea4971309d3"
            ]
          }
        },
        "0e99e5a51a4348419610aadde5c13c2c": {
          "model_module": "@jupyter-widgets/base",
          "model_name": "LayoutModel",
          "model_module_version": "1.2.0",
          "state": {
            "_view_name": "LayoutView",
            "grid_template_rows": null,
            "right": null,
            "justify_content": null,
            "_view_module": "@jupyter-widgets/base",
            "overflow": null,
            "_model_module_version": "1.2.0",
            "_view_count": null,
            "flex_flow": null,
            "width": null,
            "min_width": null,
            "border": null,
            "align_items": null,
            "bottom": null,
            "_model_module": "@jupyter-widgets/base",
            "top": null,
            "grid_column": null,
            "overflow_y": null,
            "overflow_x": null,
            "grid_auto_flow": null,
            "grid_area": null,
            "grid_template_columns": null,
            "flex": null,
            "_model_name": "LayoutModel",
            "justify_items": null,
            "grid_row": null,
            "max_height": null,
            "align_content": null,
            "visibility": null,
            "align_self": null,
            "height": null,
            "min_height": null,
            "padding": null,
            "grid_auto_rows": null,
            "grid_gap": null,
            "max_width": null,
            "order": null,
            "_view_module_version": "1.2.0",
            "grid_template_areas": null,
            "object_position": null,
            "object_fit": null,
            "grid_auto_columns": null,
            "margin": null,
            "display": null,
            "left": null
          }
        },
        "fbbb4c7c247f4c078de91ab9f1ce3ca9": {
          "model_module": "@jupyter-widgets/controls",
          "model_name": "FloatProgressModel",
          "model_module_version": "1.5.0",
          "state": {
            "_view_name": "ProgressView",
            "style": "IPY_MODEL_2dfcacb9192d450da79ba1ea769279b5",
            "_dom_classes": [],
            "description": "Downloading: 100%",
            "_model_name": "FloatProgressModel",
            "bar_style": "success",
            "max": 433,
            "_view_module": "@jupyter-widgets/controls",
            "_model_module_version": "1.5.0",
            "value": 433,
            "_view_count": null,
            "_view_module_version": "1.5.0",
            "orientation": "horizontal",
            "min": 0,
            "description_tooltip": null,
            "_model_module": "@jupyter-widgets/controls",
            "layout": "IPY_MODEL_bb48887f18ee49b0945c6fccb2dfb5a0"
          }
        },
        "eb332e7b1f974290bb2b0ea4971309d3": {
          "model_module": "@jupyter-widgets/controls",
          "model_name": "HTMLModel",
          "model_module_version": "1.5.0",
          "state": {
            "_view_name": "HTMLView",
            "style": "IPY_MODEL_618719fb036b4656b386bcc0ab66c87a",
            "_dom_classes": [],
            "description": "",
            "_model_name": "HTMLModel",
            "placeholder": "​",
            "_view_module": "@jupyter-widgets/controls",
            "_model_module_version": "1.5.0",
            "value": " 433/433 [00:37&lt;00:00, 11.5B/s]",
            "_view_count": null,
            "_view_module_version": "1.5.0",
            "description_tooltip": null,
            "_model_module": "@jupyter-widgets/controls",
            "layout": "IPY_MODEL_717ac62e4c2548bb83a21e96d24e3ce3"
          }
        },
        "2dfcacb9192d450da79ba1ea769279b5": {
          "model_module": "@jupyter-widgets/controls",
          "model_name": "ProgressStyleModel",
          "model_module_version": "1.5.0",
          "state": {
            "_view_name": "StyleView",
            "_model_name": "ProgressStyleModel",
            "description_width": "initial",
            "_view_module": "@jupyter-widgets/base",
            "_model_module_version": "1.5.0",
            "_view_count": null,
            "_view_module_version": "1.2.0",
            "bar_color": null,
            "_model_module": "@jupyter-widgets/controls"
          }
        },
        "bb48887f18ee49b0945c6fccb2dfb5a0": {
          "model_module": "@jupyter-widgets/base",
          "model_name": "LayoutModel",
          "model_module_version": "1.2.0",
          "state": {
            "_view_name": "LayoutView",
            "grid_template_rows": null,
            "right": null,
            "justify_content": null,
            "_view_module": "@jupyter-widgets/base",
            "overflow": null,
            "_model_module_version": "1.2.0",
            "_view_count": null,
            "flex_flow": null,
            "width": null,
            "min_width": null,
            "border": null,
            "align_items": null,
            "bottom": null,
            "_model_module": "@jupyter-widgets/base",
            "top": null,
            "grid_column": null,
            "overflow_y": null,
            "overflow_x": null,
            "grid_auto_flow": null,
            "grid_area": null,
            "grid_template_columns": null,
            "flex": null,
            "_model_name": "LayoutModel",
            "justify_items": null,
            "grid_row": null,
            "max_height": null,
            "align_content": null,
            "visibility": null,
            "align_self": null,
            "height": null,
            "min_height": null,
            "padding": null,
            "grid_auto_rows": null,
            "grid_gap": null,
            "max_width": null,
            "order": null,
            "_view_module_version": "1.2.0",
            "grid_template_areas": null,
            "object_position": null,
            "object_fit": null,
            "grid_auto_columns": null,
            "margin": null,
            "display": null,
            "left": null
          }
        },
        "618719fb036b4656b386bcc0ab66c87a": {
          "model_module": "@jupyter-widgets/controls",
          "model_name": "DescriptionStyleModel",
          "model_module_version": "1.5.0",
          "state": {
            "_view_name": "StyleView",
            "_model_name": "DescriptionStyleModel",
            "description_width": "",
            "_view_module": "@jupyter-widgets/base",
            "_model_module_version": "1.5.0",
            "_view_count": null,
            "_view_module_version": "1.2.0",
            "_model_module": "@jupyter-widgets/controls"
          }
        },
        "717ac62e4c2548bb83a21e96d24e3ce3": {
          "model_module": "@jupyter-widgets/base",
          "model_name": "LayoutModel",
          "model_module_version": "1.2.0",
          "state": {
            "_view_name": "LayoutView",
            "grid_template_rows": null,
            "right": null,
            "justify_content": null,
            "_view_module": "@jupyter-widgets/base",
            "overflow": null,
            "_model_module_version": "1.2.0",
            "_view_count": null,
            "flex_flow": null,
            "width": null,
            "min_width": null,
            "border": null,
            "align_items": null,
            "bottom": null,
            "_model_module": "@jupyter-widgets/base",
            "top": null,
            "grid_column": null,
            "overflow_y": null,
            "overflow_x": null,
            "grid_auto_flow": null,
            "grid_area": null,
            "grid_template_columns": null,
            "flex": null,
            "_model_name": "LayoutModel",
            "justify_items": null,
            "grid_row": null,
            "max_height": null,
            "align_content": null,
            "visibility": null,
            "align_self": null,
            "height": null,
            "min_height": null,
            "padding": null,
            "grid_auto_rows": null,
            "grid_gap": null,
            "max_width": null,
            "order": null,
            "_view_module_version": "1.2.0",
            "grid_template_areas": null,
            "object_position": null,
            "object_fit": null,
            "grid_auto_columns": null,
            "margin": null,
            "display": null,
            "left": null
          }
        },
        "110f1225b6c14908985298c0c5b95925": {
          "model_module": "@jupyter-widgets/controls",
          "model_name": "HBoxModel",
          "model_module_version": "1.5.0",
          "state": {
            "_view_name": "HBoxView",
            "_dom_classes": [],
            "_model_name": "HBoxModel",
            "_view_module": "@jupyter-widgets/controls",
            "_model_module_version": "1.5.0",
            "_view_count": null,
            "_view_module_version": "1.5.0",
            "box_style": "",
            "layout": "IPY_MODEL_7a3ff25bab554a0bb274944bb9acdf4f",
            "_model_module": "@jupyter-widgets/controls",
            "children": [
              "IPY_MODEL_1542e5acb9d94f59b509558267b51906",
              "IPY_MODEL_e11d5fe8fee44443b3f39d7886e50b3c"
            ]
          }
        },
        "7a3ff25bab554a0bb274944bb9acdf4f": {
          "model_module": "@jupyter-widgets/base",
          "model_name": "LayoutModel",
          "model_module_version": "1.2.0",
          "state": {
            "_view_name": "LayoutView",
            "grid_template_rows": null,
            "right": null,
            "justify_content": null,
            "_view_module": "@jupyter-widgets/base",
            "overflow": null,
            "_model_module_version": "1.2.0",
            "_view_count": null,
            "flex_flow": null,
            "width": null,
            "min_width": null,
            "border": null,
            "align_items": null,
            "bottom": null,
            "_model_module": "@jupyter-widgets/base",
            "top": null,
            "grid_column": null,
            "overflow_y": null,
            "overflow_x": null,
            "grid_auto_flow": null,
            "grid_area": null,
            "grid_template_columns": null,
            "flex": null,
            "_model_name": "LayoutModel",
            "justify_items": null,
            "grid_row": null,
            "max_height": null,
            "align_content": null,
            "visibility": null,
            "align_self": null,
            "height": null,
            "min_height": null,
            "padding": null,
            "grid_auto_rows": null,
            "grid_gap": null,
            "max_width": null,
            "order": null,
            "_view_module_version": "1.2.0",
            "grid_template_areas": null,
            "object_position": null,
            "object_fit": null,
            "grid_auto_columns": null,
            "margin": null,
            "display": null,
            "left": null
          }
        },
        "1542e5acb9d94f59b509558267b51906": {
          "model_module": "@jupyter-widgets/controls",
          "model_name": "FloatProgressModel",
          "model_module_version": "1.5.0",
          "state": {
            "_view_name": "ProgressView",
            "style": "IPY_MODEL_c9e5017441c846268632d48b70c6456c",
            "_dom_classes": [],
            "description": "Downloading: 100%",
            "_model_name": "FloatProgressModel",
            "bar_style": "success",
            "max": 536063208,
            "_view_module": "@jupyter-widgets/controls",
            "_model_module_version": "1.5.0",
            "value": 536063208,
            "_view_count": null,
            "_view_module_version": "1.5.0",
            "orientation": "horizontal",
            "min": 0,
            "description_tooltip": null,
            "_model_module": "@jupyter-widgets/controls",
            "layout": "IPY_MODEL_58d0f23c22be45c7b17010b773010c46"
          }
        },
        "e11d5fe8fee44443b3f39d7886e50b3c": {
          "model_module": "@jupyter-widgets/controls",
          "model_name": "HTMLModel",
          "model_module_version": "1.5.0",
          "state": {
            "_view_name": "HTMLView",
            "style": "IPY_MODEL_3db1cff74b5b46f6b6ce5da5d93798b5",
            "_dom_classes": [],
            "description": "",
            "_model_name": "HTMLModel",
            "placeholder": "​",
            "_view_module": "@jupyter-widgets/controls",
            "_model_module_version": "1.5.0",
            "value": " 536M/536M [00:31&lt;00:00, 17.0MB/s]",
            "_view_count": null,
            "_view_module_version": "1.5.0",
            "description_tooltip": null,
            "_model_module": "@jupyter-widgets/controls",
            "layout": "IPY_MODEL_4e100771679d47cda0fd835d4a170700"
          }
        },
        "c9e5017441c846268632d48b70c6456c": {
          "model_module": "@jupyter-widgets/controls",
          "model_name": "ProgressStyleModel",
          "model_module_version": "1.5.0",
          "state": {
            "_view_name": "StyleView",
            "_model_name": "ProgressStyleModel",
            "description_width": "initial",
            "_view_module": "@jupyter-widgets/base",
            "_model_module_version": "1.5.0",
            "_view_count": null,
            "_view_module_version": "1.2.0",
            "bar_color": null,
            "_model_module": "@jupyter-widgets/controls"
          }
        },
        "58d0f23c22be45c7b17010b773010c46": {
          "model_module": "@jupyter-widgets/base",
          "model_name": "LayoutModel",
          "model_module_version": "1.2.0",
          "state": {
            "_view_name": "LayoutView",
            "grid_template_rows": null,
            "right": null,
            "justify_content": null,
            "_view_module": "@jupyter-widgets/base",
            "overflow": null,
            "_model_module_version": "1.2.0",
            "_view_count": null,
            "flex_flow": null,
            "width": null,
            "min_width": null,
            "border": null,
            "align_items": null,
            "bottom": null,
            "_model_module": "@jupyter-widgets/base",
            "top": null,
            "grid_column": null,
            "overflow_y": null,
            "overflow_x": null,
            "grid_auto_flow": null,
            "grid_area": null,
            "grid_template_columns": null,
            "flex": null,
            "_model_name": "LayoutModel",
            "justify_items": null,
            "grid_row": null,
            "max_height": null,
            "align_content": null,
            "visibility": null,
            "align_self": null,
            "height": null,
            "min_height": null,
            "padding": null,
            "grid_auto_rows": null,
            "grid_gap": null,
            "max_width": null,
            "order": null,
            "_view_module_version": "1.2.0",
            "grid_template_areas": null,
            "object_position": null,
            "object_fit": null,
            "grid_auto_columns": null,
            "margin": null,
            "display": null,
            "left": null
          }
        },
        "3db1cff74b5b46f6b6ce5da5d93798b5": {
          "model_module": "@jupyter-widgets/controls",
          "model_name": "DescriptionStyleModel",
          "model_module_version": "1.5.0",
          "state": {
            "_view_name": "StyleView",
            "_model_name": "DescriptionStyleModel",
            "description_width": "",
            "_view_module": "@jupyter-widgets/base",
            "_model_module_version": "1.5.0",
            "_view_count": null,
            "_view_module_version": "1.2.0",
            "_model_module": "@jupyter-widgets/controls"
          }
        },
        "4e100771679d47cda0fd835d4a170700": {
          "model_module": "@jupyter-widgets/base",
          "model_name": "LayoutModel",
          "model_module_version": "1.2.0",
          "state": {
            "_view_name": "LayoutView",
            "grid_template_rows": null,
            "right": null,
            "justify_content": null,
            "_view_module": "@jupyter-widgets/base",
            "overflow": null,
            "_model_module_version": "1.2.0",
            "_view_count": null,
            "flex_flow": null,
            "width": null,
            "min_width": null,
            "border": null,
            "align_items": null,
            "bottom": null,
            "_model_module": "@jupyter-widgets/base",
            "top": null,
            "grid_column": null,
            "overflow_y": null,
            "overflow_x": null,
            "grid_auto_flow": null,
            "grid_area": null,
            "grid_template_columns": null,
            "flex": null,
            "_model_name": "LayoutModel",
            "justify_items": null,
            "grid_row": null,
            "max_height": null,
            "align_content": null,
            "visibility": null,
            "align_self": null,
            "height": null,
            "min_height": null,
            "padding": null,
            "grid_auto_rows": null,
            "grid_gap": null,
            "max_width": null,
            "order": null,
            "_view_module_version": "1.2.0",
            "grid_template_areas": null,
            "object_position": null,
            "object_fit": null,
            "grid_auto_columns": null,
            "margin": null,
            "display": null,
            "left": null
          }
        },
        "26a59f2a08eb442eb3865d8dc5f5de5f": {
          "model_module": "@jupyter-widgets/controls",
          "model_name": "HBoxModel",
          "model_module_version": "1.5.0",
          "state": {
            "_view_name": "HBoxView",
            "_dom_classes": [],
            "_model_name": "HBoxModel",
            "_view_module": "@jupyter-widgets/controls",
            "_model_module_version": "1.5.0",
            "_view_count": null,
            "_view_module_version": "1.5.0",
            "box_style": "",
            "layout": "IPY_MODEL_0cf5b6c36ecc4c898233d27d250c7014",
            "_model_module": "@jupyter-widgets/controls",
            "children": [
              "IPY_MODEL_64b82af7da7840b9b2ef369ae974120b",
              "IPY_MODEL_8f05592cd0ef404b9e24a80531c83524"
            ]
          }
        },
        "0cf5b6c36ecc4c898233d27d250c7014": {
          "model_module": "@jupyter-widgets/base",
          "model_name": "LayoutModel",
          "model_module_version": "1.2.0",
          "state": {
            "_view_name": "LayoutView",
            "grid_template_rows": null,
            "right": null,
            "justify_content": null,
            "_view_module": "@jupyter-widgets/base",
            "overflow": null,
            "_model_module_version": "1.2.0",
            "_view_count": null,
            "flex_flow": null,
            "width": null,
            "min_width": null,
            "border": null,
            "align_items": null,
            "bottom": null,
            "_model_module": "@jupyter-widgets/base",
            "top": null,
            "grid_column": null,
            "overflow_y": null,
            "overflow_x": null,
            "grid_auto_flow": null,
            "grid_area": null,
            "grid_template_columns": null,
            "flex": null,
            "_model_name": "LayoutModel",
            "justify_items": null,
            "grid_row": null,
            "max_height": null,
            "align_content": null,
            "visibility": null,
            "align_self": null,
            "height": null,
            "min_height": null,
            "padding": null,
            "grid_auto_rows": null,
            "grid_gap": null,
            "max_width": null,
            "order": null,
            "_view_module_version": "1.2.0",
            "grid_template_areas": null,
            "object_position": null,
            "object_fit": null,
            "grid_auto_columns": null,
            "margin": null,
            "display": null,
            "left": null
          }
        },
        "64b82af7da7840b9b2ef369ae974120b": {
          "model_module": "@jupyter-widgets/controls",
          "model_name": "FloatProgressModel",
          "model_module_version": "1.5.0",
          "state": {
            "_view_name": "ProgressView",
            "style": "IPY_MODEL_279c4db8935649ac94dcc39c9f36bd13",
            "_dom_classes": [],
            "description": "Downloading: 100%",
            "_model_name": "FloatProgressModel",
            "bar_style": "success",
            "max": 231508,
            "_view_module": "@jupyter-widgets/controls",
            "_model_module_version": "1.5.0",
            "value": 231508,
            "_view_count": null,
            "_view_module_version": "1.5.0",
            "orientation": "horizontal",
            "min": 0,
            "description_tooltip": null,
            "_model_module": "@jupyter-widgets/controls",
            "layout": "IPY_MODEL_934f308896154c91bb465987199e4087"
          }
        },
        "8f05592cd0ef404b9e24a80531c83524": {
          "model_module": "@jupyter-widgets/controls",
          "model_name": "HTMLModel",
          "model_module_version": "1.5.0",
          "state": {
            "_view_name": "HTMLView",
            "style": "IPY_MODEL_73a2a3a6b47545f18c0192c4449bf666",
            "_dom_classes": [],
            "description": "",
            "_model_name": "HTMLModel",
            "placeholder": "​",
            "_view_module": "@jupyter-widgets/controls",
            "_model_module_version": "1.5.0",
            "value": " 232k/232k [01:14&lt;00:00, 3.10kB/s]",
            "_view_count": null,
            "_view_module_version": "1.5.0",
            "description_tooltip": null,
            "_model_module": "@jupyter-widgets/controls",
            "layout": "IPY_MODEL_c4546fe8206c4111bbd1c72c44714490"
          }
        },
        "279c4db8935649ac94dcc39c9f36bd13": {
          "model_module": "@jupyter-widgets/controls",
          "model_name": "ProgressStyleModel",
          "model_module_version": "1.5.0",
          "state": {
            "_view_name": "StyleView",
            "_model_name": "ProgressStyleModel",
            "description_width": "initial",
            "_view_module": "@jupyter-widgets/base",
            "_model_module_version": "1.5.0",
            "_view_count": null,
            "_view_module_version": "1.2.0",
            "bar_color": null,
            "_model_module": "@jupyter-widgets/controls"
          }
        },
        "934f308896154c91bb465987199e4087": {
          "model_module": "@jupyter-widgets/base",
          "model_name": "LayoutModel",
          "model_module_version": "1.2.0",
          "state": {
            "_view_name": "LayoutView",
            "grid_template_rows": null,
            "right": null,
            "justify_content": null,
            "_view_module": "@jupyter-widgets/base",
            "overflow": null,
            "_model_module_version": "1.2.0",
            "_view_count": null,
            "flex_flow": null,
            "width": null,
            "min_width": null,
            "border": null,
            "align_items": null,
            "bottom": null,
            "_model_module": "@jupyter-widgets/base",
            "top": null,
            "grid_column": null,
            "overflow_y": null,
            "overflow_x": null,
            "grid_auto_flow": null,
            "grid_area": null,
            "grid_template_columns": null,
            "flex": null,
            "_model_name": "LayoutModel",
            "justify_items": null,
            "grid_row": null,
            "max_height": null,
            "align_content": null,
            "visibility": null,
            "align_self": null,
            "height": null,
            "min_height": null,
            "padding": null,
            "grid_auto_rows": null,
            "grid_gap": null,
            "max_width": null,
            "order": null,
            "_view_module_version": "1.2.0",
            "grid_template_areas": null,
            "object_position": null,
            "object_fit": null,
            "grid_auto_columns": null,
            "margin": null,
            "display": null,
            "left": null
          }
        },
        "73a2a3a6b47545f18c0192c4449bf666": {
          "model_module": "@jupyter-widgets/controls",
          "model_name": "DescriptionStyleModel",
          "model_module_version": "1.5.0",
          "state": {
            "_view_name": "StyleView",
            "_model_name": "DescriptionStyleModel",
            "description_width": "",
            "_view_module": "@jupyter-widgets/base",
            "_model_module_version": "1.5.0",
            "_view_count": null,
            "_view_module_version": "1.2.0",
            "_model_module": "@jupyter-widgets/controls"
          }
        },
        "c4546fe8206c4111bbd1c72c44714490": {
          "model_module": "@jupyter-widgets/base",
          "model_name": "LayoutModel",
          "model_module_version": "1.2.0",
          "state": {
            "_view_name": "LayoutView",
            "grid_template_rows": null,
            "right": null,
            "justify_content": null,
            "_view_module": "@jupyter-widgets/base",
            "overflow": null,
            "_model_module_version": "1.2.0",
            "_view_count": null,
            "flex_flow": null,
            "width": null,
            "min_width": null,
            "border": null,
            "align_items": null,
            "bottom": null,
            "_model_module": "@jupyter-widgets/base",
            "top": null,
            "grid_column": null,
            "overflow_y": null,
            "overflow_x": null,
            "grid_auto_flow": null,
            "grid_area": null,
            "grid_template_columns": null,
            "flex": null,
            "_model_name": "LayoutModel",
            "justify_items": null,
            "grid_row": null,
            "max_height": null,
            "align_content": null,
            "visibility": null,
            "align_self": null,
            "height": null,
            "min_height": null,
            "padding": null,
            "grid_auto_rows": null,
            "grid_gap": null,
            "max_width": null,
            "order": null,
            "_view_module_version": "1.2.0",
            "grid_template_areas": null,
            "object_position": null,
            "object_fit": null,
            "grid_auto_columns": null,
            "margin": null,
            "display": null,
            "left": null
          }
        }
      }
    }
  },
  "cells": [
    {
      "cell_type": "markdown",
      "metadata": {
        "id": "G63Jpt-wYcJ3"
      },
      "source": [
        "<img src=\"https://github.com/hernancontigiani/ceia_memorias_especializacion/raw/master/Figures/logoFIUBA.jpg\" width=\"500\" align=\"center\">\n",
        "\n",
        "\n",
        "# Procesamiento de lenguaje natural\n",
        "## Bert Sentiment Analysis"
      ]
    },
    {
      "cell_type": "code",
      "metadata": {
        "id": "rcPiEBdt8NqM"
      },
      "source": [
        "from numpy import array\n",
        "from keras.preprocessing.sequence import pad_sequences\n",
        "from keras.models import Sequential\n",
        "from keras.layers import Dense\n",
        "from keras.layers import LSTM\n",
        "from keras.layers import Embedding"
      ],
      "execution_count": null,
      "outputs": []
    },
    {
      "cell_type": "code",
      "metadata": {
        "id": "-ANZikXa8SK1"
      },
      "source": [
        "from tensorflow.keras.utils import to_categorical\n",
        "from tensorflow import keras\n",
        "from tensorflow.keras import layers\n",
        "\n",
        "import numpy as np\n",
        "import random\n",
        "import io\n",
        "import pickle\n",
        "import pandas as pd\n",
        "\n",
        "import matplotlib.pyplot as plt\n",
        "import seaborn as sns"
      ],
      "execution_count": null,
      "outputs": []
    },
    {
      "cell_type": "code",
      "metadata": {
        "id": "DeR15BsxYwwy"
      },
      "source": [
        "from sklearn.metrics import roc_curve\n",
        "from sklearn.metrics import auc\n",
        "\n",
        "def curva_roc(model, X_test, y_test):\n",
        "    y_hat_prob = model.predict(X_test).ravel()\n",
        "    #y_hat = [1 if x >= 0.5 else 0 for x in y_hat_prob]\n",
        "    mask_positive = y_hat_prob >= 0.5\n",
        "    mask_negative = y_hat_prob < 0.5\n",
        "    y_hat = y_hat_prob\n",
        "    y_hat[mask_positive] = 1\n",
        "    y_hat[mask_negative] = 0\n",
        "    y_hat = y_hat.astype(int)\n",
        "\n",
        "    # Calcular la exactitud (accuracy)\n",
        "    scores = model.evaluate(X_test, y_test)\n",
        "    print(\"Accuracy:\", scores[1])\n",
        "\n",
        "    fpr, tpr, thresholds = roc_curve(y_test, y_hat_prob)\n",
        "    auc_keras = auc(fpr, tpr)\n",
        "    print('auc_keras', auc_keras)\n",
        "\n",
        "    plt.figure(1)\n",
        "    plt.plot([0, 1], [0, 1], 'k--')\n",
        "    plt.plot(fpr, tpr, label='Keras (area = {:.3f})'.format(auc_keras))\n",
        "    plt.xlabel('False positive rate')\n",
        "    plt.ylabel('True positive rate')\n",
        "    plt.title('Curva ROC test')\n",
        "    plt.legend(loc='best')\n",
        "    plt.show()"
      ],
      "execution_count": null,
      "outputs": []
    },
    {
      "cell_type": "code",
      "metadata": {
        "id": "cjQ7q6N7CL_J"
      },
      "source": [
        "def plot_train_metrics(history):\n",
        "    epoch_count = range(1, len(history.history['accuracy']) + 1)\n",
        "    sns.lineplot(x=epoch_count,  y=history.history['accuracy'], label='train')\n",
        "    sns.lineplot(x=epoch_count,  y=history.history['val_accuracy'], label='valid')\n",
        "    plt.show()"
      ],
      "execution_count": null,
      "outputs": []
    },
    {
      "cell_type": "markdown",
      "metadata": {
        "id": "hU2-H3K1YzJ8"
      },
      "source": [
        "### Datos\n",
        "Utilizaremos como dataset críticas de películas de IMDB puntuadas deforma positiva o negativa.\\\n",
        "Referencia del dataset: [LINK](https://www.kaggle.com/lakshmi25npathi/imdb-dataset-of-50k-movie-reviews)"
      ]
    },
    {
      "cell_type": "code",
      "metadata": {
        "id": "JyvdDc-CY1Zl"
      },
      "source": [
        "# Descargar la carpeta de dataset\n",
        "!curl -L -o 'imdb_dataset.csv' 'https://drive.google.com/u/0/uc?id=1el8tS8JZhPLd2FQWPHpvG_AIyW5np3h9&export=download&confirm=t'"
      ],
      "execution_count": null,
      "outputs": []
    },
    {
      "cell_type": "code",
      "metadata": {
        "id": "KPlBX0wV8gv9"
      },
      "source": [
        "# Armar el dataset\n",
        "df = pd.read_csv('imdb_dataset.csv')\n",
        "df.head()"
      ],
      "execution_count": null,
      "outputs": []
    },
    {
      "cell_type": "markdown",
      "metadata": {
        "id": "BCO209z59D7C"
      },
      "source": [
        "## Limpieza de datos"
      ]
    },
    {
      "cell_type": "code",
      "metadata": {
        "colab": {
          "base_uri": "https://localhost:8080/"
        },
        "id": "KaRGx3pW9fyx",
        "outputId": "e3ed45d6-2a8d-4097-f506-59e0919aa901"
      },
      "source": [
        "# En los datos se observó código de HTML de salto de línea <br />\n",
        "import re    \n",
        "sentences = data['review'].apply(lambda x: re.sub(\"<br />\", \"\", x))\n",
        "sentences.head()"
      ],
      "execution_count": null,
      "outputs": [
        {
          "output_type": "execute_result",
          "data": {
            "text/plain": [
              "0    One of the other reviewers has mentioned that ...\n",
              "1    A wonderful little production. The filming tec...\n",
              "2    I thought this was a wonderful way to spend ti...\n",
              "3    Basically there's a family where a little boy ...\n",
              "4    Petter Mattei's \"Love in the Time of Money\" is...\n",
              "Name: review, dtype: object"
            ]
          },
          "metadata": {
            "tags": []
          },
          "execution_count": 9
        }
      ]
    },
    {
      "cell_type": "code",
      "metadata": {
        "colab": {
          "base_uri": "https://localhost:8080/"
        },
        "id": "c26zJ7qUAV4F",
        "outputId": "dd053160-8474-46f9-b10d-c5bf6884453a"
      },
      "source": [
        "y = data['sentiment'].apply(lambda x: 1 if x == 'positive' else 0).values\n",
        "y.shape"
      ],
      "execution_count": null,
      "outputs": [
        {
          "output_type": "execute_result",
          "data": {
            "text/plain": [
              "(50000,)"
            ]
          },
          "metadata": {
            "tags": []
          },
          "execution_count": 10
        }
      ]
    },
    {
      "cell_type": "markdown",
      "metadata": {
        "id": "qvoZ8YlK0vOQ"
      },
      "source": [
        "## 1 - BERT\n",
        "Se necesita instalar la librería de \"transformers\" para utilizar los modelos de BERT y sus funciones de ayuda"
      ]
    },
    {
      "cell_type": "code",
      "metadata": {
        "colab": {
          "base_uri": "https://localhost:8080/"
        },
        "id": "9vQGeFm0pdn1",
        "outputId": "d1a98f6c-4103-44bb-8260-08c3c005043d"
      },
      "source": [
        "!pip install transformers --quiet"
      ],
      "execution_count": null,
      "outputs": [
        {
          "output_type": "stream",
          "text": [
            "Collecting transformers\n",
            "\u001b[?25l  Downloading https://files.pythonhosted.org/packages/50/0c/7d5950fcd80b029be0a8891727ba21e0cd27692c407c51261c3c921f6da3/transformers-4.1.1-py3-none-any.whl (1.5MB)\n",
            "\r\u001b[K     |▏                               | 10kB 23.0MB/s eta 0:00:01\r\u001b[K     |▍                               | 20kB 14.0MB/s eta 0:00:01\r\u001b[K     |▋                               | 30kB 12.7MB/s eta 0:00:01\r\u001b[K     |▉                               | 40kB 12.1MB/s eta 0:00:01\r\u001b[K     |█                               | 51kB 8.2MB/s eta 0:00:01\r\u001b[K     |█▎                              | 61kB 7.6MB/s eta 0:00:01\r\u001b[K     |█▌                              | 71kB 8.5MB/s eta 0:00:01\r\u001b[K     |█▊                              | 81kB 9.5MB/s eta 0:00:01\r\u001b[K     |██                              | 92kB 8.9MB/s eta 0:00:01\r\u001b[K     |██▏                             | 102kB 8.0MB/s eta 0:00:01\r\u001b[K     |██▍                             | 112kB 8.0MB/s eta 0:00:01\r\u001b[K     |██▋                             | 122kB 8.0MB/s eta 0:00:01\r\u001b[K     |██▉                             | 133kB 8.0MB/s eta 0:00:01\r\u001b[K     |███                             | 143kB 8.0MB/s eta 0:00:01\r\u001b[K     |███▎                            | 153kB 8.0MB/s eta 0:00:01\r\u001b[K     |███▌                            | 163kB 8.0MB/s eta 0:00:01\r\u001b[K     |███▊                            | 174kB 8.0MB/s eta 0:00:01\r\u001b[K     |████                            | 184kB 8.0MB/s eta 0:00:01\r\u001b[K     |████▏                           | 194kB 8.0MB/s eta 0:00:01\r\u001b[K     |████▎                           | 204kB 8.0MB/s eta 0:00:01\r\u001b[K     |████▌                           | 215kB 8.0MB/s eta 0:00:01\r\u001b[K     |████▊                           | 225kB 8.0MB/s eta 0:00:01\r\u001b[K     |█████                           | 235kB 8.0MB/s eta 0:00:01\r\u001b[K     |█████▏                          | 245kB 8.0MB/s eta 0:00:01\r\u001b[K     |█████▍                          | 256kB 8.0MB/s eta 0:00:01\r\u001b[K     |█████▋                          | 266kB 8.0MB/s eta 0:00:01\r\u001b[K     |█████▉                          | 276kB 8.0MB/s eta 0:00:01\r\u001b[K     |██████                          | 286kB 8.0MB/s eta 0:00:01\r\u001b[K     |██████▎                         | 296kB 8.0MB/s eta 0:00:01\r\u001b[K     |██████▌                         | 307kB 8.0MB/s eta 0:00:01\r\u001b[K     |██████▊                         | 317kB 8.0MB/s eta 0:00:01\r\u001b[K     |███████                         | 327kB 8.0MB/s eta 0:00:01\r\u001b[K     |███████▏                        | 337kB 8.0MB/s eta 0:00:01\r\u001b[K     |███████▍                        | 348kB 8.0MB/s eta 0:00:01\r\u001b[K     |███████▋                        | 358kB 8.0MB/s eta 0:00:01\r\u001b[K     |███████▉                        | 368kB 8.0MB/s eta 0:00:01\r\u001b[K     |████████                        | 378kB 8.0MB/s eta 0:00:01\r\u001b[K     |████████▎                       | 389kB 8.0MB/s eta 0:00:01\r\u001b[K     |████████▌                       | 399kB 8.0MB/s eta 0:00:01\r\u001b[K     |████████▋                       | 409kB 8.0MB/s eta 0:00:01\r\u001b[K     |████████▉                       | 419kB 8.0MB/s eta 0:00:01\r\u001b[K     |█████████                       | 430kB 8.0MB/s eta 0:00:01\r\u001b[K     |█████████▎                      | 440kB 8.0MB/s eta 0:00:01\r\u001b[K     |█████████▌                      | 450kB 8.0MB/s eta 0:00:01\r\u001b[K     |█████████▊                      | 460kB 8.0MB/s eta 0:00:01\r\u001b[K     |██████████                      | 471kB 8.0MB/s eta 0:00:01\r\u001b[K     |██████████▏                     | 481kB 8.0MB/s eta 0:00:01\r\u001b[K     |██████████▍                     | 491kB 8.0MB/s eta 0:00:01\r\u001b[K     |██████████▋                     | 501kB 8.0MB/s eta 0:00:01\r\u001b[K     |██████████▉                     | 512kB 8.0MB/s eta 0:00:01\r\u001b[K     |███████████                     | 522kB 8.0MB/s eta 0:00:01\r\u001b[K     |███████████▎                    | 532kB 8.0MB/s eta 0:00:01\r\u001b[K     |███████████▌                    | 542kB 8.0MB/s eta 0:00:01\r\u001b[K     |███████████▊                    | 552kB 8.0MB/s eta 0:00:01\r\u001b[K     |████████████                    | 563kB 8.0MB/s eta 0:00:01\r\u001b[K     |████████████▏                   | 573kB 8.0MB/s eta 0:00:01\r\u001b[K     |████████████▍                   | 583kB 8.0MB/s eta 0:00:01\r\u001b[K     |████████████▋                   | 593kB 8.0MB/s eta 0:00:01\r\u001b[K     |████████████▉                   | 604kB 8.0MB/s eta 0:00:01\r\u001b[K     |█████████████                   | 614kB 8.0MB/s eta 0:00:01\r\u001b[K     |█████████████▏                  | 624kB 8.0MB/s eta 0:00:01\r\u001b[K     |█████████████▍                  | 634kB 8.0MB/s eta 0:00:01\r\u001b[K     |█████████████▋                  | 645kB 8.0MB/s eta 0:00:01\r\u001b[K     |█████████████▉                  | 655kB 8.0MB/s eta 0:00:01\r\u001b[K     |██████████████                  | 665kB 8.0MB/s eta 0:00:01\r\u001b[K     |██████████████▎                 | 675kB 8.0MB/s eta 0:00:01\r\u001b[K     |██████████████▌                 | 686kB 8.0MB/s eta 0:00:01\r\u001b[K     |██████████████▊                 | 696kB 8.0MB/s eta 0:00:01\r\u001b[K     |███████████████                 | 706kB 8.0MB/s eta 0:00:01\r\u001b[K     |███████████████▏                | 716kB 8.0MB/s eta 0:00:01\r\u001b[K     |███████████████▍                | 727kB 8.0MB/s eta 0:00:01\r\u001b[K     |███████████████▋                | 737kB 8.0MB/s eta 0:00:01\r\u001b[K     |███████████████▉                | 747kB 8.0MB/s eta 0:00:01\r\u001b[K     |████████████████                | 757kB 8.0MB/s eta 0:00:01\r\u001b[K     |████████████████▎               | 768kB 8.0MB/s eta 0:00:01\r\u001b[K     |████████████████▌               | 778kB 8.0MB/s eta 0:00:01\r\u001b[K     |████████████████▊               | 788kB 8.0MB/s eta 0:00:01\r\u001b[K     |█████████████████               | 798kB 8.0MB/s eta 0:00:01\r\u001b[K     |█████████████████               | 808kB 8.0MB/s eta 0:00:01\r\u001b[K     |█████████████████▎              | 819kB 8.0MB/s eta 0:00:01\r\u001b[K     |█████████████████▌              | 829kB 8.0MB/s eta 0:00:01\r\u001b[K     |█████████████████▊              | 839kB 8.0MB/s eta 0:00:01\r\u001b[K     |██████████████████              | 849kB 8.0MB/s eta 0:00:01\r\u001b[K     |██████████████████▏             | 860kB 8.0MB/s eta 0:00:01\r\u001b[K     |██████████████████▍             | 870kB 8.0MB/s eta 0:00:01\r\u001b[K     |██████████████████▋             | 880kB 8.0MB/s eta 0:00:01\r\u001b[K     |██████████████████▉             | 890kB 8.0MB/s eta 0:00:01\r\u001b[K     |███████████████████             | 901kB 8.0MB/s eta 0:00:01\r\u001b[K     |███████████████████▎            | 911kB 8.0MB/s eta 0:00:01\r\u001b[K     |███████████████████▌            | 921kB 8.0MB/s eta 0:00:01\r\u001b[K     |███████████████████▊            | 931kB 8.0MB/s eta 0:00:01\r\u001b[K     |████████████████████            | 942kB 8.0MB/s eta 0:00:01\r\u001b[K     |████████████████████▏           | 952kB 8.0MB/s eta 0:00:01\r\u001b[K     |████████████████████▍           | 962kB 8.0MB/s eta 0:00:01\r\u001b[K     |████████████████████▋           | 972kB 8.0MB/s eta 0:00:01\r\u001b[K     |████████████████████▉           | 983kB 8.0MB/s eta 0:00:01\r\u001b[K     |█████████████████████           | 993kB 8.0MB/s eta 0:00:01\r\u001b[K     |█████████████████████▎          | 1.0MB 8.0MB/s eta 0:00:01\r\u001b[K     |█████████████████████▍          | 1.0MB 8.0MB/s eta 0:00:01\r\u001b[K     |█████████████████████▋          | 1.0MB 8.0MB/s eta 0:00:01\r\u001b[K     |█████████████████████▉          | 1.0MB 8.0MB/s eta 0:00:01\r\u001b[K     |██████████████████████          | 1.0MB 8.0MB/s eta 0:00:01\r\u001b[K     |██████████████████████▎         | 1.1MB 8.0MB/s eta 0:00:01\r\u001b[K     |██████████████████████▌         | 1.1MB 8.0MB/s eta 0:00:01\r\u001b[K     |██████████████████████▊         | 1.1MB 8.0MB/s eta 0:00:01\r\u001b[K     |███████████████████████         | 1.1MB 8.0MB/s eta 0:00:01\r\u001b[K     |███████████████████████▏        | 1.1MB 8.0MB/s eta 0:00:01\r\u001b[K     |███████████████████████▍        | 1.1MB 8.0MB/s eta 0:00:01\r\u001b[K     |███████████████████████▋        | 1.1MB 8.0MB/s eta 0:00:01\r\u001b[K     |███████████████████████▉        | 1.1MB 8.0MB/s eta 0:00:01\r\u001b[K     |████████████████████████        | 1.1MB 8.0MB/s eta 0:00:01\r\u001b[K     |████████████████████████▎       | 1.1MB 8.0MB/s eta 0:00:01\r\u001b[K     |████████████████████████▌       | 1.2MB 8.0MB/s eta 0:00:01\r\u001b[K     |████████████████████████▊       | 1.2MB 8.0MB/s eta 0:00:01\r\u001b[K     |█████████████████████████       | 1.2MB 8.0MB/s eta 0:00:01\r\u001b[K     |█████████████████████████▏      | 1.2MB 8.0MB/s eta 0:00:01\r\u001b[K     |█████████████████████████▍      | 1.2MB 8.0MB/s eta 0:00:01\r\u001b[K     |█████████████████████████▋      | 1.2MB 8.0MB/s eta 0:00:01\r\u001b[K     |█████████████████████████▊      | 1.2MB 8.0MB/s eta 0:00:01\r\u001b[K     |██████████████████████████      | 1.2MB 8.0MB/s eta 0:00:01\r\u001b[K     |██████████████████████████▏     | 1.2MB 8.0MB/s eta 0:00:01\r\u001b[K     |██████████████████████████▍     | 1.2MB 8.0MB/s eta 0:00:01\r\u001b[K     |██████████████████████████▋     | 1.3MB 8.0MB/s eta 0:00:01\r\u001b[K     |██████████████████████████▉     | 1.3MB 8.0MB/s eta 0:00:01\r\u001b[K     |███████████████████████████     | 1.3MB 8.0MB/s eta 0:00:01\r\u001b[K     |███████████████████████████▎    | 1.3MB 8.0MB/s eta 0:00:01\r\u001b[K     |███████████████████████████▌    | 1.3MB 8.0MB/s eta 0:00:01\r\u001b[K     |███████████████████████████▊    | 1.3MB 8.0MB/s eta 0:00:01\r\u001b[K     |████████████████████████████    | 1.3MB 8.0MB/s eta 0:00:01\r\u001b[K     |████████████████████████████▏   | 1.3MB 8.0MB/s eta 0:00:01\r\u001b[K     |████████████████████████████▍   | 1.3MB 8.0MB/s eta 0:00:01\r\u001b[K     |████████████████████████████▋   | 1.4MB 8.0MB/s eta 0:00:01\r\u001b[K     |████████████████████████████▉   | 1.4MB 8.0MB/s eta 0:00:01\r\u001b[K     |█████████████████████████████   | 1.4MB 8.0MB/s eta 0:00:01\r\u001b[K     |█████████████████████████████▎  | 1.4MB 8.0MB/s eta 0:00:01\r\u001b[K     |█████████████████████████████▌  | 1.4MB 8.0MB/s eta 0:00:01\r\u001b[K     |█████████████████████████████▊  | 1.4MB 8.0MB/s eta 0:00:01\r\u001b[K     |█████████████████████████████▉  | 1.4MB 8.0MB/s eta 0:00:01\r\u001b[K     |██████████████████████████████  | 1.4MB 8.0MB/s eta 0:00:01\r\u001b[K     |██████████████████████████████▎ | 1.4MB 8.0MB/s eta 0:00:01\r\u001b[K     |██████████████████████████████▌ | 1.4MB 8.0MB/s eta 0:00:01\r\u001b[K     |██████████████████████████████▊ | 1.5MB 8.0MB/s eta 0:00:01\r\u001b[K     |███████████████████████████████ | 1.5MB 8.0MB/s eta 0:00:01\r\u001b[K     |███████████████████████████████▏| 1.5MB 8.0MB/s eta 0:00:01\r\u001b[K     |███████████████████████████████▍| 1.5MB 8.0MB/s eta 0:00:01\r\u001b[K     |███████████████████████████████▋| 1.5MB 8.0MB/s eta 0:00:01\r\u001b[K     |███████████████████████████████▉| 1.5MB 8.0MB/s eta 0:00:01\r\u001b[K     |████████████████████████████████| 1.5MB 8.0MB/s \n",
            "\u001b[?25hRequirement already satisfied: requests in /usr/local/lib/python3.6/dist-packages (from transformers) (2.23.0)\n",
            "Requirement already satisfied: regex!=2019.12.17 in /usr/local/lib/python3.6/dist-packages (from transformers) (2019.12.20)\n",
            "Requirement already satisfied: dataclasses; python_version < \"3.7\" in /usr/local/lib/python3.6/dist-packages (from transformers) (0.8)\n",
            "Requirement already satisfied: tqdm>=4.27 in /usr/local/lib/python3.6/dist-packages (from transformers) (4.41.1)\n",
            "Requirement already satisfied: packaging in /usr/local/lib/python3.6/dist-packages (from transformers) (20.8)\n",
            "Collecting sacremoses\n",
            "\u001b[?25l  Downloading https://files.pythonhosted.org/packages/7d/34/09d19aff26edcc8eb2a01bed8e98f13a1537005d31e95233fd48216eed10/sacremoses-0.0.43.tar.gz (883kB)\n",
            "\u001b[K     |████████████████████████████████| 890kB 37.4MB/s \n",
            "\u001b[?25hRequirement already satisfied: numpy in /usr/local/lib/python3.6/dist-packages (from transformers) (1.19.4)\n",
            "Collecting tokenizers==0.9.4\n",
            "\u001b[?25l  Downloading https://files.pythonhosted.org/packages/0f/1c/e789a8b12e28be5bc1ce2156cf87cb522b379be9cadc7ad8091a4cc107c4/tokenizers-0.9.4-cp36-cp36m-manylinux2010_x86_64.whl (2.9MB)\n",
            "\u001b[K     |████████████████████████████████| 2.9MB 49.3MB/s \n",
            "\u001b[?25hRequirement already satisfied: filelock in /usr/local/lib/python3.6/dist-packages (from transformers) (3.0.12)\n",
            "Requirement already satisfied: certifi>=2017.4.17 in /usr/local/lib/python3.6/dist-packages (from requests->transformers) (2020.12.5)\n",
            "Requirement already satisfied: urllib3!=1.25.0,!=1.25.1,<1.26,>=1.21.1 in /usr/local/lib/python3.6/dist-packages (from requests->transformers) (1.24.3)\n",
            "Requirement already satisfied: idna<3,>=2.5 in /usr/local/lib/python3.6/dist-packages (from requests->transformers) (2.10)\n",
            "Requirement already satisfied: chardet<4,>=3.0.2 in /usr/local/lib/python3.6/dist-packages (from requests->transformers) (3.0.4)\n",
            "Requirement already satisfied: pyparsing>=2.0.2 in /usr/local/lib/python3.6/dist-packages (from packaging->transformers) (2.4.7)\n",
            "Requirement already satisfied: six in /usr/local/lib/python3.6/dist-packages (from sacremoses->transformers) (1.15.0)\n",
            "Requirement already satisfied: click in /usr/local/lib/python3.6/dist-packages (from sacremoses->transformers) (7.1.2)\n",
            "Requirement already satisfied: joblib in /usr/local/lib/python3.6/dist-packages (from sacremoses->transformers) (1.0.0)\n",
            "Building wheels for collected packages: sacremoses\n",
            "  Building wheel for sacremoses (setup.py) ... \u001b[?25l\u001b[?25hdone\n",
            "  Created wheel for sacremoses: filename=sacremoses-0.0.43-cp36-none-any.whl size=893261 sha256=6098b672d08dd28883169a3816b8bbb316f8ce1aa86282c36279039b68bacf77\n",
            "  Stored in directory: /root/.cache/pip/wheels/29/3c/fd/7ce5c3f0666dab31a50123635e6fb5e19ceb42ce38d4e58f45\n",
            "Successfully built sacremoses\n",
            "Installing collected packages: sacremoses, tokenizers, transformers\n",
            "Successfully installed sacremoses-0.0.43 tokenizers-0.9.4 transformers-4.1.1\n"
          ],
          "name": "stdout"
        }
      ]
    },
    {
      "cell_type": "code",
      "metadata": {
        "colab": {
          "base_uri": "https://localhost:8080/",
          "height": 240,
          "referenced_widgets": [
            "995b9a113f6b40ac8cf3233fb132c949",
            "0e99e5a51a4348419610aadde5c13c2c",
            "fbbb4c7c247f4c078de91ab9f1ce3ca9",
            "eb332e7b1f974290bb2b0ea4971309d3",
            "2dfcacb9192d450da79ba1ea769279b5",
            "bb48887f18ee49b0945c6fccb2dfb5a0",
            "618719fb036b4656b386bcc0ab66c87a",
            "717ac62e4c2548bb83a21e96d24e3ce3",
            "110f1225b6c14908985298c0c5b95925",
            "7a3ff25bab554a0bb274944bb9acdf4f",
            "1542e5acb9d94f59b509558267b51906",
            "e11d5fe8fee44443b3f39d7886e50b3c",
            "c9e5017441c846268632d48b70c6456c",
            "58d0f23c22be45c7b17010b773010c46",
            "3db1cff74b5b46f6b6ce5da5d93798b5",
            "4e100771679d47cda0fd835d4a170700",
            "26a59f2a08eb442eb3865d8dc5f5de5f",
            "0cf5b6c36ecc4c898233d27d250c7014",
            "64b82af7da7840b9b2ef369ae974120b",
            "8f05592cd0ef404b9e24a80531c83524",
            "279c4db8935649ac94dcc39c9f36bd13",
            "934f308896154c91bb465987199e4087",
            "73a2a3a6b47545f18c0192c4449bf666",
            "c4546fe8206c4111bbd1c72c44714490"
          ]
        },
        "id": "FJHhebCnnvnn",
        "outputId": "16f1f2ed-b3a6-4de8-a7a4-10f1ab940327"
      },
      "source": [
        "from tokenizers import BertWordPieceTokenizer\n",
        "from transformers import BertTokenizer, TFBertModel, BertConfig, TFBertForSequenceClassification\n",
        "from transformers import InputExample, InputFeatures  # Métodos para transformar el dataset\n",
        "\n",
        "# Muy importante que para tensorflow los modelos Bert deben empezar con \"TF\"\n",
        "# de lo contrario estaremos utilizando un modelo para pytorch\n",
        "\n",
        "# Descargamos el modelo base de BERT más liviano y su correspondiente tokenizer\n",
        "bert_model = TFBertForSequenceClassification.from_pretrained(\"bert-base-uncased\")\n",
        "bert_tokenizer = BertTokenizer.from_pretrained(\"bert-base-uncased\")"
      ],
      "execution_count": null,
      "outputs": [
        {
          "output_type": "display_data",
          "data": {
            "application/vnd.jupyter.widget-view+json": {
              "model_id": "995b9a113f6b40ac8cf3233fb132c949",
              "version_minor": 0,
              "version_major": 2
            },
            "text/plain": [
              "HBox(children=(FloatProgress(value=0.0, description='Downloading', max=433.0, style=ProgressStyle(description_…"
            ]
          },
          "metadata": {
            "tags": []
          }
        },
        {
          "output_type": "stream",
          "text": [
            "\n"
          ],
          "name": "stdout"
        },
        {
          "output_type": "display_data",
          "data": {
            "application/vnd.jupyter.widget-view+json": {
              "model_id": "110f1225b6c14908985298c0c5b95925",
              "version_minor": 0,
              "version_major": 2
            },
            "text/plain": [
              "HBox(children=(FloatProgress(value=0.0, description='Downloading', max=536063208.0, style=ProgressStyle(descri…"
            ]
          },
          "metadata": {
            "tags": []
          }
        },
        {
          "output_type": "stream",
          "text": [
            "\n"
          ],
          "name": "stdout"
        },
        {
          "output_type": "stream",
          "text": [
            "All model checkpoint layers were used when initializing TFBertForSequenceClassification.\n",
            "\n",
            "Some layers of TFBertForSequenceClassification were not initialized from the model checkpoint at bert-base-uncased and are newly initialized: ['classifier']\n",
            "You should probably TRAIN this model on a down-stream task to be able to use it for predictions and inference.\n"
          ],
          "name": "stderr"
        },
        {
          "output_type": "display_data",
          "data": {
            "application/vnd.jupyter.widget-view+json": {
              "model_id": "26a59f2a08eb442eb3865d8dc5f5de5f",
              "version_minor": 0,
              "version_major": 2
            },
            "text/plain": [
              "HBox(children=(FloatProgress(value=0.0, description='Downloading', max=231508.0, style=ProgressStyle(descripti…"
            ]
          },
          "metadata": {
            "tags": []
          }
        },
        {
          "output_type": "stream",
          "text": [
            "\n"
          ],
          "name": "stdout"
        }
      ]
    },
    {
      "cell_type": "code",
      "metadata": {
        "colab": {
          "base_uri": "https://localhost:8080/"
        },
        "id": "9YdeJajh0gCz",
        "outputId": "acf74c00-23c7-4dfc-fd14-f3a664510201"
      },
      "source": [
        "bert_model.summary()"
      ],
      "execution_count": null,
      "outputs": [
        {
          "output_type": "stream",
          "text": [
            "Model: \"tf_bert_for_sequence_classification\"\n",
            "_________________________________________________________________\n",
            "Layer (type)                 Output Shape              Param #   \n",
            "=================================================================\n",
            "bert (TFBertMainLayer)       multiple                  109482240 \n",
            "_________________________________________________________________\n",
            "dropout_37 (Dropout)         multiple                  0         \n",
            "_________________________________________________________________\n",
            "classifier (Dense)           multiple                  1538      \n",
            "=================================================================\n",
            "Total params: 109,483,778\n",
            "Trainable params: 109,483,778\n",
            "Non-trainable params: 0\n",
            "_________________________________________________________________\n"
          ],
          "name": "stdout"
        }
      ]
    },
    {
      "cell_type": "code",
      "metadata": {
        "id": "rYnD8msegnSI"
      },
      "source": [
        "# Del dataset original accederemos a los datos por índices (idx)\n",
        "# mezclados aleatoriamente\n",
        "from sklearn.model_selection import train_test_split\n",
        "bert_max_length = 200 # BERT soporta máximo 512, pero limitamos a 200\n",
        "indices = np.arange(len(sentences))\n",
        "idx_train_val, idx_test = train_test_split(indices, test_size=0.2, random_state=42)\n",
        "idx_train, idx_val = train_test_split(idx_train_val, test_size=0.2, random_state=42)"
      ],
      "execution_count": null,
      "outputs": []
    },
    {
      "cell_type": "code",
      "metadata": {
        "colab": {
          "base_uri": "https://localhost:8080/"
        },
        "id": "5Hm0jGD-j32e",
        "outputId": "b175b20c-cea9-4260-bc63-48d5c4b913d5"
      },
      "source": [
        "print(idx_train.shape[0], idx_val.shape[0], idx_test.shape[0])"
      ],
      "execution_count": null,
      "outputs": [
        {
          "output_type": "stream",
          "text": [
            "32000 8000 10000\n"
          ],
          "name": "stdout"
        }
      ]
    },
    {
      "cell_type": "code",
      "metadata": {
        "id": "MMfyhfKqfs6G"
      },
      "source": [
        "import tensorflow as tf\n",
        "def convert_data_to_examples(text, labels, idx_train, idx_val):\n",
        "    # Armamos un \"InputExample\" para los datos de entrenamiento y validación\n",
        "    train_InputExamples = [InputExample(guid=None, # Globally unique ID for bookkeeping, unused in this case\n",
        "                                                          text_a = text.iloc[i], \n",
        "                                                          text_b = None,\n",
        "                                                          label = labels[i]) for i in idx_train]\n",
        "\n",
        "    validation_InputExamples = [InputExample(guid=None, # Globally unique ID for bookkeeping, unused in this case\n",
        "                                                          text_a = text.iloc[i],\n",
        "                                                          text_b = None,\n",
        "                                                          label = labels[i]) for i in idx_val]\n",
        "  \n",
        "    return train_InputExamples, validation_InputExamples\n",
        "\n",
        " \n",
        "def convert_examples_to_tf_dataset(examples, tokenizer, max_length=200):\n",
        "    # Transformamos los datos de entrada en tensorres de:\n",
        "    # input_ids --> token id\n",
        "    # attention_mask\n",
        "    # token type\n",
        "    features = []\n",
        "\n",
        "    for e in examples:\n",
        "        # Documentation is really strong for this method, so please take a look at it\n",
        "        input_dict = bert_tokenizer.encode_plus(\n",
        "            e.text_a,\n",
        "            add_special_tokens=True,\n",
        "            max_length=max_length, # truncates if len(s) > max_length\n",
        "            return_token_type_ids=True,\n",
        "            return_attention_mask=True,\n",
        "            pad_to_max_length=True, # pads to the right by default # CHECK THIS for pad_to_max_length\n",
        "            truncation=True\n",
        "        )\n",
        "\n",
        "        input_ids, token_type_ids, attention_mask = (input_dict[\"input_ids\"],\n",
        "            input_dict[\"token_type_ids\"], input_dict['attention_mask'])\n",
        "\n",
        "        features.append(\n",
        "            InputFeatures(\n",
        "                input_ids=input_ids, attention_mask=attention_mask, token_type_ids=token_type_ids, label=e.label\n",
        "            )\n",
        "        )\n",
        "\n",
        "    def gen():\n",
        "    # Función generadora para no levantar todos los datos en un instante\n",
        "        for f in features:\n",
        "            yield (\n",
        "                {\n",
        "                    \"input_ids\": f.input_ids,\n",
        "                    \"attention_mask\": f.attention_mask,\n",
        "                    \"token_type_ids\": f.token_type_ids,\n",
        "                },\n",
        "                f.label,\n",
        "            )\n",
        "\n",
        "    return tf.data.Dataset.from_generator(\n",
        "        # Tensorflow dataset generator (basado en el generador y en el esquema de datos definido)\n",
        "        gen,\n",
        "        ({\"input_ids\": tf.int32, \"attention_mask\": tf.int32, \"token_type_ids\": tf.int32}, tf.int64),\n",
        "        (\n",
        "            {\n",
        "                \"input_ids\": tf.TensorShape([None]),\n",
        "                \"attention_mask\": tf.TensorShape([None]),\n",
        "                \"token_type_ids\": tf.TensorShape([None]),\n",
        "            },\n",
        "            tf.TensorShape([]),\n",
        "        ),\n",
        "    )"
      ],
      "execution_count": null,
      "outputs": []
    },
    {
      "cell_type": "code",
      "metadata": {
        "colab": {
          "base_uri": "https://localhost:8080/"
        },
        "id": "VXrlV-xPiebq",
        "outputId": "dda6fae6-3078-4e2d-ca68-1107dd80bfae"
      },
      "source": [
        "train_InputExamples, validation_InputExamples = convert_data_to_examples(sentences, y, idx_train, idx_val)\n",
        "\n",
        "train_data = convert_examples_to_tf_dataset(list(train_InputExamples), bert_tokenizer, max_length=bert_max_length)\n",
        "# shuffle 100 --> mezcla los datos y los lee a de 100 unidades\n",
        "# batch 32 --> ejecuta una epoca de entrenamiento de a 32 unidades\n",
        "# repeat 2 --> repeite todo el dataset 2 veces\n",
        "train_data = train_data.shuffle(100).batch(32).repeat(2)\n",
        "\n",
        "validation_data = convert_examples_to_tf_dataset(list(validation_InputExamples), bert_tokenizer, max_length=bert_max_length)\n",
        "validation_data = validation_data.batch(32)"
      ],
      "execution_count": null,
      "outputs": [
        {
          "output_type": "stream",
          "text": [
            "/usr/local/lib/python3.6/dist-packages/transformers/tokenization_utils_base.py:2179: FutureWarning: The `pad_to_max_length` argument is deprecated and will be removed in a future version, use `padding=True` or `padding='longest'` to pad to the longest sequence in the batch, or use `padding='max_length'` to pad to a max length. In this case, you can give a specific length with `max_length` (e.g. `max_length=45`) or leave max_length to None to pad to the maximal input size of the model (e.g. 512 for Bert).\n",
            "  FutureWarning,\n"
          ],
          "name": "stderr"
        }
      ]
    },
    {
      "cell_type": "code",
      "metadata": {
        "id": "aQV1WrdKFJnF"
      },
      "source": [
        "pred_sentences = sentences.loc[idx_test].values\n",
        "tf_batch = bert_tokenizer(pred_sentences.tolist(), max_length=bert_max_length, padding=True, truncation=True, return_tensors='tf')"
      ],
      "execution_count": null,
      "outputs": []
    },
    {
      "cell_type": "code",
      "metadata": {
        "id": "ZUBLlpH0GAVE"
      },
      "source": [
        "test_inputs = [tf_batch['input_ids'], \n",
        "          tf_batch['token_type_ids'], \n",
        "          tf_batch['attention_mask']]"
      ],
      "execution_count": null,
      "outputs": []
    },
    {
      "cell_type": "code",
      "metadata": {
        "id": "3E-z51xls0lH"
      },
      "source": [
        "y_test = y[idx_test]"
      ],
      "execution_count": null,
      "outputs": []
    },
    {
      "cell_type": "markdown",
      "metadata": {
        "id": "kNinUuS6nqRJ"
      },
      "source": [
        "## 2 - BERT sin Fine tuning"
      ]
    },
    {
      "cell_type": "code",
      "metadata": {
        "colab": {
          "base_uri": "https://localhost:8080/"
        },
        "id": "2ZE1GmvL02Bn",
        "outputId": "6f877168-3340-4b5d-d2bf-661cd1fd3489"
      },
      "source": [
        "model_bert_1 = bert_model\n",
        "model_bert_1.bert.trainable = False\n",
        "model_bert_1.summary()"
      ],
      "execution_count": null,
      "outputs": [
        {
          "output_type": "stream",
          "text": [
            "Model: \"tf_bert_for_sequence_classification\"\n",
            "_________________________________________________________________\n",
            "Layer (type)                 Output Shape              Param #   \n",
            "=================================================================\n",
            "bert (TFBertMainLayer)       multiple                  109482240 \n",
            "_________________________________________________________________\n",
            "dropout_37 (Dropout)         multiple                  0         \n",
            "_________________________________________________________________\n",
            "classifier (Dense)           multiple                  1538      \n",
            "=================================================================\n",
            "Total params: 109,483,778\n",
            "Trainable params: 1,538\n",
            "Non-trainable params: 109,482,240\n",
            "_________________________________________________________________\n"
          ],
          "name": "stdout"
        }
      ]
    },
    {
      "cell_type": "code",
      "metadata": {
        "colab": {
          "base_uri": "https://localhost:8080/"
        },
        "id": "IQfTxx4fcR1L",
        "outputId": "e6493336-2e29-4c33-956c-23f5b4c739b6"
      },
      "source": [
        "model_bert_1.compile(tf.keras.optimizers.Adam(learning_rate=2e-5, epsilon=1e-08), \n",
        "              loss=tf.keras.losses.SparseCategoricalCrossentropy(from_logits=True), \n",
        "              metrics=[tf.keras.metrics.SparseCategoricalAccuracy('accuracy')])\n",
        "\n",
        "history_bert4a = model_bert_1.fit(train_data, epochs=3, validation_data=validation_data)"
      ],
      "execution_count": null,
      "outputs": [
        {
          "output_type": "stream",
          "text": [
            "Epoch 1/3\n",
            "WARNING:tensorflow:AutoGraph could not transform <bound method Socket.send of <zmq.sugar.socket.Socket object at 0x7efdd97755f8>> and will run it as-is.\n",
            "Please report this to the TensorFlow team. When filing the bug, set the verbosity to 10 (on Linux, `export AUTOGRAPH_VERBOSITY=10`) and attach the full output.\n",
            "Cause: <cyfunction Socket.send at 0x7efdf0fbce58> is not a module, class, method, function, traceback, frame, or code object\n",
            "To silence this warning, decorate the function with @tf.autograph.experimental.do_not_convert\n",
            "WARNING: AutoGraph could not transform <bound method Socket.send of <zmq.sugar.socket.Socket object at 0x7efdd97755f8>> and will run it as-is.\n",
            "Please report this to the TensorFlow team. When filing the bug, set the verbosity to 10 (on Linux, `export AUTOGRAPH_VERBOSITY=10`) and attach the full output.\n",
            "Cause: <cyfunction Socket.send at 0x7efdf0fbce58> is not a module, class, method, function, traceback, frame, or code object\n",
            "To silence this warning, decorate the function with @tf.autograph.experimental.do_not_convert\n"
          ],
          "name": "stdout"
        },
        {
          "output_type": "stream",
          "text": [
            "The parameters `output_attentions`, `output_hidden_states` and `use_cache` cannot be updated when calling a model.They have to be set to True/False in the config object (i.e.: `config=XConfig.from_pretrained('name', output_attentions=True)`).\n"
          ],
          "name": "stderr"
        },
        {
          "output_type": "stream",
          "text": [
            "WARNING:tensorflow:AutoGraph could not transform <function wrap at 0x7efdee9508c8> and will run it as-is.\n",
            "Cause: while/else statement not yet supported\n",
            "To silence this warning, decorate the function with @tf.autograph.experimental.do_not_convert\n"
          ],
          "name": "stdout"
        },
        {
          "output_type": "stream",
          "text": [
            "The parameter `return_dict` cannot be set in graph mode and will always be set to `True`.\n"
          ],
          "name": "stderr"
        },
        {
          "output_type": "stream",
          "text": [
            "WARNING: AutoGraph could not transform <function wrap at 0x7efdee9508c8> and will run it as-is.\n",
            "Cause: while/else statement not yet supported\n",
            "To silence this warning, decorate the function with @tf.autograph.experimental.do_not_convert\n"
          ],
          "name": "stdout"
        },
        {
          "output_type": "stream",
          "text": [
            "The parameters `output_attentions`, `output_hidden_states` and `use_cache` cannot be updated when calling a model.They have to be set to True/False in the config object (i.e.: `config=XConfig.from_pretrained('name', output_attentions=True)`).\n",
            "The parameter `return_dict` cannot be set in graph mode and will always be set to `True`.\n"
          ],
          "name": "stderr"
        },
        {
          "output_type": "stream",
          "text": [
            "   2000/Unknown - 1080s 523ms/step - loss: 0.6907 - accuracy: 0.5279"
          ],
          "name": "stdout"
        },
        {
          "output_type": "stream",
          "text": [
            "The parameters `output_attentions`, `output_hidden_states` and `use_cache` cannot be updated when calling a model.They have to be set to True/False in the config object (i.e.: `config=XConfig.from_pretrained('name', output_attentions=True)`).\n",
            "The parameter `return_dict` cannot be set in graph mode and will always be set to `True`.\n"
          ],
          "name": "stderr"
        },
        {
          "output_type": "stream",
          "text": [
            "\b\b\b\b\b\b\b\b\b\b\b\b\b\b\b\b\b\b\b\b\b\b\b\b\b\b\b\b\b\b\b\b\b\b\b\b\b\b\b\b\b\b\b\b\b\b\b\b\b\b\b\b\b\b\b\b\b\b\b\b\b\b\b\b\b\b\b\b\r2000/2000 [==============================] - 1204s 585ms/step - loss: 0.6907 - accuracy: 0.5279 - val_loss: 0.6567 - val_accuracy: 0.6447\n",
            "Epoch 2/3\n",
            "2000/2000 [==============================] - 1171s 585ms/step - loss: 0.6532 - accuracy: 0.6471 - val_loss: 0.6285 - val_accuracy: 0.6806\n",
            "Epoch 3/3\n",
            "2000/2000 [==============================] - 1170s 585ms/step - loss: 0.6291 - accuracy: 0.6753 - val_loss: 0.6095 - val_accuracy: 0.6929\n"
          ],
          "name": "stdout"
        }
      ]
    },
    {
      "cell_type": "code",
      "metadata": {
        "colab": {
          "base_uri": "https://localhost:8080/"
        },
        "id": "vzgQfhHicU4P",
        "outputId": "e0b7c6b6-060d-4d6c-a2dd-d6132f4c0abe"
      },
      "source": [
        "tf_outputs = model_bert_1.predict(test_inputs)\n",
        "y_hat_prob = tf.nn.softmax(tf_outputs[0], axis=-1)\n",
        "y_hat_prob_sigmoid = y_hat_prob[:, 1]"
      ],
      "execution_count": null,
      "outputs": [
        {
          "output_type": "stream",
          "text": [
            "The parameters `output_attentions`, `output_hidden_states` and `use_cache` cannot be updated when calling a model.They have to be set to True/False in the config object (i.e.: `config=XConfig.from_pretrained('name', output_attentions=True)`).\n",
            "The parameter `return_dict` cannot be set in graph mode and will always be set to `True`.\n"
          ],
          "name": "stderr"
        }
      ]
    },
    {
      "cell_type": "code",
      "metadata": {
        "colab": {
          "base_uri": "https://localhost:8080/",
          "height": 312
        },
        "id": "tvYS5SDict-I",
        "outputId": "bee8d04a-8a56-434c-fa84-2c4bdb15a70e"
      },
      "source": [
        "fpr, tpr, thresholds = roc_curve(y_test, y_hat_prob_sigmoid)\n",
        "auc_keras = auc(fpr, tpr)\n",
        "print('auc_keras', auc_keras)\n",
        "\n",
        "plt.figure(1)\n",
        "plt.plot([0, 1], [0, 1], 'k--')\n",
        "plt.plot(fpr, tpr, label='Keras (area = {:.3f})'.format(auc_keras))\n",
        "plt.xlabel('False positive rate')\n",
        "plt.ylabel('True positive rate')\n",
        "plt.title('Curva ROC test')\n",
        "plt.legend(loc='best')\n",
        "plt.show()"
      ],
      "execution_count": null,
      "outputs": [
        {
          "output_type": "stream",
          "text": [
            "auc_keras 0.7062840303204045\n"
          ],
          "name": "stdout"
        },
        {
          "output_type": "display_data",
          "data": {
            "image/png": "[encoded data removed]",
            "text/plain": [
              "<Figure size 432x288 with 1 Axes>"
            ]
          },
          "metadata": {
            "tags": [],
            "needs_background": "light"
          }
        }
      ]
    },
    {
      "cell_type": "markdown",
      "metadata": {
        "id": "0ugxcD9s9o8l"
      },
      "source": [
        "## 3 - BERT con Fine tuning"
      ]
    },
    {
      "cell_type": "code",
      "metadata": {
        "colab": {
          "base_uri": "https://localhost:8080/"
        },
        "id": "SPOeOoCuk96K",
        "outputId": "1217a566-ad96-423c-d27f-a413b8f844a8"
      },
      "source": [
        "model_bert_2 = TFBertForSequenceClassification.from_pretrained(\"bert-base-uncased\")\n",
        "\n",
        "model_bert_2.compile(tf.keras.optimizers.Adam(learning_rate=2e-5, epsilon=1e-08), \n",
        "              loss=tf.keras.losses.SparseCategoricalCrossentropy(from_logits=True), \n",
        "              metrics=[tf.keras.metrics.SparseCategoricalAccuracy('accuracy')])\n",
        "\n",
        "history_bert4b = model_bert_2.fit(train_data, epochs=1, validation_data=validation_data)"
      ],
      "execution_count": null,
      "outputs": [
        {
          "output_type": "stream",
          "text": [
            "All model checkpoint layers were used when initializing TFBertForSequenceClassification.\n",
            "\n",
            "Some layers of TFBertForSequenceClassification were not initialized from the model checkpoint at bert-base-uncased and are newly initialized: ['classifier']\n",
            "You should probably TRAIN this model on a down-stream task to be able to use it for predictions and inference.\n",
            "The parameters `output_attentions`, `output_hidden_states` and `use_cache` cannot be updated when calling a model.They have to be set to True/False in the config object (i.e.: `config=XConfig.from_pretrained('name', output_attentions=True)`).\n",
            "The parameter `return_dict` cannot be set in graph mode and will always be set to `True`.\n",
            "The parameters `output_attentions`, `output_hidden_states` and `use_cache` cannot be updated when calling a model.They have to be set to True/False in the config object (i.e.: `config=XConfig.from_pretrained('name', output_attentions=True)`).\n",
            "The parameter `return_dict` cannot be set in graph mode and will always be set to `True`.\n"
          ],
          "name": "stderr"
        },
        {
          "output_type": "stream",
          "text": [
            "   2000/Unknown - 2711s 1s/step - loss: 0.2896 - accuracy: 0.8759"
          ],
          "name": "stdout"
        },
        {
          "output_type": "stream",
          "text": [
            "The parameters `output_attentions`, `output_hidden_states` and `use_cache` cannot be updated when calling a model.They have to be set to True/False in the config object (i.e.: `config=XConfig.from_pretrained('name', output_attentions=True)`).\n",
            "The parameter `return_dict` cannot be set in graph mode and will always be set to `True`.\n"
          ],
          "name": "stderr"
        },
        {
          "output_type": "stream",
          "text": [
            "\b\b\b\b\b\b\b\b\b\b\b\b\b\b\b\b\b\b\b\b\b\b\b\b\b\b\b\b\b\b\b\b\b\b\b\b\b\b\b\b\b\b\b\b\b\b\b\b\b\b\b\b\b\b\b\b\b\b\b\b\b\b\b\b\b\r2000/2000 [==============================] - 2826s 1s/step - loss: 0.2896 - accuracy: 0.8759 - val_loss: 0.2540 - val_accuracy: 0.9134\n"
          ],
          "name": "stdout"
        }
      ]
    },
    {
      "cell_type": "code",
      "metadata": {
        "id": "S099fbrL_8yI"
      },
      "source": [
        "tf_outputs = model_bert_2.predict(test_inputs)\n",
        "y_hat_prob = tf.nn.softmax(tf_outputs[0], axis=-1)\n",
        "y_hat_prob_sigmoid = y_hat_prob[:, 1]"
      ],
      "execution_count": null,
      "outputs": []
    },
    {
      "cell_type": "code",
      "metadata": {
        "colab": {
          "base_uri": "https://localhost:8080/",
          "height": 349
        },
        "id": "JGGAvyD043BJ",
        "outputId": "5f1344cf-0eef-40f3-cc43-64db33a7d8f8"
      },
      "source": [
        "fpr, tpr, thresholds = roc_curve(y_test, y_hat_prob_sigmoid)\n",
        "auc_keras = auc(fpr, tpr)\n",
        "print('auc_keras', auc_keras)\n",
        "\n",
        "plt.figure(1)\n",
        "plt.plot([0, 1], [0, 1], 'k--')\n",
        "plt.plot(fpr, tpr, label='Keras (area = {:.3f})'.format(auc_keras))\n",
        "plt.xlabel('False positive rate')\n",
        "plt.ylabel('True positive rate')\n",
        "plt.title('Curva ROC test')\n",
        "plt.legend(loc='best')\n",
        "plt.show()"
      ],
      "execution_count": null,
      "outputs": [
        {
          "output_type": "stream",
          "text": [
            "(10000, 2)\n",
            "(10000, 2)\n",
            "auc_keras 0.9704147000303498\n"
          ],
          "name": "stdout"
        },
        {
          "output_type": "display_data",
          "data": {
            "image/png": "[encoded data removed]",
            "text/plain": [
              "<Figure size 432x288 with 1 Axes>"
            ]
          },
          "metadata": {
            "tags": [],
            "needs_background": "light"
          }
        }
      ]
    },
    {
      "cell_type": "markdown",
      "metadata": {
        "id": "IXu1W7-5LkPL"
      },
      "source": [
        "## Resultados y conclusiones\n",
        "Tabla de resultados:"
      ]
    },
    {
      "cell_type": "markdown",
      "metadata": {
        "id": "5PI8ICVIMjxV"
      },
      "source": [
        "| Algorithm                 | RUC Accuracy|\n",
        "|---------------------------|-------------|\n",
        "| BOW (OneHotEncoding)  | 0.789  |\n",
        "| BOW (TFIDF)           | 0.844  |\n",
        "| Embeddings (Glove)    | 0.789  |\n",
        "| Embeddings (Fastttext)| 0.843  |\n",
        "| LSTM                   | 0.875  |\n",
        "| BERT                   | 0.706  |\n",
        "| BERT + Fine-Tuning     | 0.970  |"
      ]
    },
    {
      "cell_type": "markdown",
      "metadata": {
        "id": "3NuAxjtcPhoa"
      },
      "source": [
        "Se puede apreciar que a medida que se utilizaron tecnologías \"más mordernas\" para la resolución del problema el accuracy fue mejorando. \n",
        "- En el caso de los embeddings pre enternados (GLobe y Fasttext) no dió un resultado superador respecto a BOW tradicional debido a que se realizó una promediado de los embeddings para su uso en la red.\n",
        "- En el caso de LSTM costó bastante poder entrenar la red, hubo que probar bastantes combinaciones hasta dar con la acertada y el resultado se refleja en su accuracy, superando los otros métodos.\n",
        "- BERT, como era de esperarse, fue superador ampliamente en el proceso de Fine-Tuning. El proceso normal (sin Fine-Tuning) no alcanzó un accuracy sobresaliente, pero tampoco se realizaron demasaidos épocas para ver como podría evolucionar el accuracy (parece que aún podría seguir aprendiendo con más épocas)."
      ]
    }
  ]
}