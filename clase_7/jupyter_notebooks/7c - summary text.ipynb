{
  "cells": [
    {
      "cell_type": "markdown",
      "metadata": {
        "id": "G63Jpt-wYcJ3"
      },
      "source": [
        "<img src=\"https://github.com/hernancontigiani/ceia_memorias_especializacion/raw/master/Figures/logoFIUBA.jpg\" width=\"500\" align=\"center\">\n",
        "\n",
        "\n",
        "# Procesamiento de lenguaje natural\n",
        "## Resumen de texto\n",
        "[GitHub LINK](https://github.com/dmmiller612/bert-extractive-summarizer)"
      ]
    },
    {
      "cell_type": "code",
      "execution_count": null,
      "metadata": {
        "id": "rcPiEBdt8NqM",
        "vscode": {
          "languageId": "python"
        }
      },
      "outputs": [],
      "source": [
        "import numpy as np\n",
        "import tensorflow as tf"
      ]
    },
    {
      "cell_type": "markdown",
      "metadata": {
        "id": "CowKhlHcD9LJ"
      },
      "source": [
        "Se necesita instalar la librería de \"transformers\" de Hugging Face para utilizar los modelos de BERT y sus funciones de ayuda.\\\n",
        "Instalaremos también la libreria bert-extractive-summarizer"
      ]
    },
    {
      "cell_type": "code",
      "execution_count": null,
      "metadata": {
        "id": "9vQGeFm0pdn1",
        "vscode": {
          "languageId": "python"
        }
      },
      "outputs": [],
      "source": [
        "!pip install transformers --quiet\n",
        "!pip install bert-extractive-summarizer --quiet"
      ]
    },
    {
      "cell_type": "markdown",
      "metadata": {
        "id": "qvoZ8YlK0vOQ"
      },
      "source": [
        "## 1 - BERT for text summarization"
      ]
    },
    {
      "cell_type": "code",
      "execution_count": null,
      "metadata": {
        "id": "3k2Xw9W_Ad5h",
        "vscode": {
          "languageId": "python"
        }
      },
      "outputs": [],
      "source": [
        "text = \"\"\"\"Tennis is a racket sport that can be played individually against a single opponent (singles) or between two teams of two players each (doubles). Each player uses a tennis racket that is strung with cord to strike a hollow rubber ball covered with felt over or around a net and into the opponent's court. The object of the game is to manoeuvre the ball in such a way that the opponent is not able to play a valid return. The player who is unable to return the ball will not gain a point, while the opposite player will.\n",
        "\n",
        "Tennis is an Olympic sport and is played at all levels of society and at all ages. The sport can be played by anyone who can hold a racket, including wheelchair users. The modern game of tennis originated in Birmingham, England, in the late 19th century as lawn tennis.[1] It had close connections both to various field (lawn) games such as croquet and bowls as well as to the older racket sport today called real tennis. During most of the 19th century, in fact, the term tennis referred to real tennis, not lawn tennis.\n",
        "\n",
        "The rules of modern tennis have changed little since the 1890s. Two exceptions are that from 1908 to 1961 the server had to keep one foot on the ground at all times, and the adoption of the tiebreak in the 1970s. A recent addition to professional tennis has been the adoption of electronic review technology coupled with a point-challenge system, which allows a player to contest the line call of a point, a system known as Hawk-\"\"\""
      ]
    },
    {
      "cell_type": "markdown",
      "metadata": {
        "id": "KErG9p6DCOKO"
      },
      "source": []
    },
    {
      "cell_type": "code",
      "execution_count": null,
      "metadata": {
        "id": "NT0cFhmFED2h",
        "vscode": {
          "languageId": "python"
        }
      },
      "outputs": [],
      "source": [
        "from summarizer import Summarizer\n",
        "model = Summarizer()"
      ]
    },
    {
      "cell_type": "code",
      "execution_count": null,
      "metadata": {
        "id": "h-iuH6DKAapW",
        "vscode": {
          "languageId": "python"
        }
      },
      "outputs": [],
      "source": [
        "'''\n",
        "Opciones a la hora de realizar la inferencia:\n",
        "model(\n",
        "    body: str # The string body that you want to summarize\n",
        "    ratio: float # The ratio of sentences that you want for the final summary\n",
        "    min_length: int # Parameter to specify to remove sentences that are less than 40 characters\n",
        "    max_length: int # Parameter to specify to remove sentences greater than the max length,\n",
        "    num_sentences: Number of sentences to use. Overrides ratio if supplied.\n",
        ")\n",
        "'''\n",
        "\n",
        "# Probar con diferentes largos y ver como cambia la respuesta\n",
        "#result = model(text, min_length=20)\n",
        "result = model(text, min_length=20, max_length=100)\n",
        "summary = \"\".join(result)\n",
        "print(summary)\n",
        "print(\"largo del texto:\", len(summary))"
      ]
    },
    {
      "cell_type": "markdown",
      "metadata": {
        "id": "xF_Snz_8D0zM"
      },
      "source": [
        "## 2 - BETO for text summarization"
      ]
    },
    {
      "cell_type": "code",
      "execution_count": null,
      "metadata": {
        "id": "IvUJXpZpE6bR",
        "vscode": {
          "languageId": "python"
        }
      },
      "outputs": [],
      "source": [
        "from transformers import AutoConfig, AutoTokenizer, AutoModel\n",
        "\n",
        "# Custom model para el Summarizer (puede ser BETO o cualquier otro)\n",
        "custom_config = AutoConfig.from_pretrained(\"dccuchile/bert-base-spanish-wwm-uncased\")\n",
        "custom_config.output_hidden_states=True\n",
        "custom_tokenizer = AutoTokenizer.from_pretrained(\"dccuchile/bert-base-spanish-wwm-uncased\")\n",
        "custom_model = AutoModel.from_pretrained(\"dccuchile/bert-base-spanish-wwm-uncased\" , config=custom_config)\n",
        "\n",
        "from summarizer import Summarizer\n",
        "model2 = Summarizer(custom_model=custom_model, custom_tokenizer=custom_tokenizer)"
      ]
    },
    {
      "cell_type": "code",
      "execution_count": null,
      "metadata": {
        "id": "X2yPzB2oFU8P",
        "vscode": {
          "languageId": "python"
        }
      },
      "outputs": [],
      "source": [
        "text2 = \"\"\"El tenis se juega en una cancha (llamada pista en España) de forma rectangular, de 23,77 metros (78 pies) de longitud por 8,23 m (27 pies) de ancho. Para el partido de dobles la cancha será de 10,97 m (36 pies) de ancho.\n",
        "\n",
        "Las líneas que limitan los extremos de la pista se denominan líneas de fondo y las líneas que limitan los costados de la pista se denominan líneas laterales. A cada lado de la red y paralela a ella, se trazan dos líneas entre las líneas laterales a una distancia de 6,40 m a partir de la red.\n",
        "\n",
        "Estas líneas se llaman líneas de saque o de servicio. A cada lado de la red, el área entre la línea de servicio y la red queda dividida por una línea central de servicio en dos partes iguales llamadas cuadros de servicio. La línea central de servicio se traza paralelamente a las líneas laterales de individuales y equidistante a ellas.\n",
        "\n",
        "Cada línea de fondo se divide en dos por una marca central de 10 cm de longitud, que se traza dentro de la pista y es paralela a las líneas laterales de individuales. La línea central de servicio y la marca central son de 5 cm de anchura. Las otras líneas de la pista son de entre 2,5 y 5 cm de anchura, excepto las líneas de fondo que pueden ser de hasta 10 cm de anchura. Todas las medidas de la pista se toman por la parte exterior de las líneas. Todas las líneas de la pista tienen que ser del mismo color para que contrasten claramente con el color de la superficie.\n",
        "\n",
        "El tenis puede ser practicado en distintas superficies; ya conocemos la primera en que se comenzó a jugar el tenis, hierba natural. Existen también otras que con el paso del tiempo se han ido popularizando, como son las pistas duras, tierra batida, tenis quick... Estas últimas son elegidas para la apertura de clubes, ya que son las más económicas. Actualmente no figura ninguna competición profesional que se realiza en dicha superficie.\n",
        "\n",
        "Las pistas de tenis que tienen un mayor coste económico en su mantenido son las de tierra batida, seguida de hierba natural.\"\"\""
      ]
    },
    {
      "cell_type": "code",
      "execution_count": null,
      "metadata": {
        "id": "D46EXcOhFSkS",
        "vscode": {
          "languageId": "python"
        }
      },
      "outputs": [],
      "source": [
        "# Probar con diferentes largos y ver como cambia la respuesta\n",
        "result = model2(text2, min_length=20)\n",
        "#result = model(text2, min_length=20, max_length=100)\n",
        "summary = \"\".join(result)\n",
        "print(summary)\n",
        "print(\"largo del texto:\", len(summary))"
      ]
    }
  ],
  "metadata": {
    "accelerator": "GPU",
    "colab": {
      "collapsed_sections": [],
      "name": "7c - summary text.ipynb",
      "provenance": [],
      "toc_visible": true
    },
    "kernelspec": {
      "display_name": "Python 3",
      "name": "python3"
    }
  },
  "nbformat": 4,
  "nbformat_minor": 0
}
