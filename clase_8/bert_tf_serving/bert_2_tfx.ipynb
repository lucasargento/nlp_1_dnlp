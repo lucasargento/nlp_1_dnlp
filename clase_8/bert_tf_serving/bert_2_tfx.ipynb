{
  "cells": [
    {
      "cell_type": "markdown",
      "metadata": {
        "id": "MBlMu5M6zSqQ"
      },
      "source": [
        "# Natural language processing\n",
        "## Bert to Tensorflow Serving"
      ]
    },
    {
      "cell_type": "markdown",
      "metadata": {
        "id": "raYbCSjozZyF"
      },
      "source": [
        "## 1 - Dependencies"
      ]
    },
    {
      "cell_type": "code",
      "metadata": {
        "id": "r6fTperCzXk3",
        "colab": {
          "base_uri": "https://localhost:8080/"
        },
        "outputId": "7fda1232-e6b3-4d3d-ce6a-7daf0c9abb0d"
      },
      "source": [
        "!pip install transformers --quiet"
      ],
      "execution_count": null,
      "outputs": []
    },
    {
      "cell_type": "code",
      "metadata": {
        "id": "1d2LXEsQ0K6E",
        "colab": {
          "base_uri": "https://localhost:8080/"
        },
        "outputId": "e5dd6735-859b-46ea-8054-aee2fa777a7f"
      },
      "source": [
        "# Donwload pretrained BERT for classification\n",
        "import os\n",
        "import gdown\n",
        "if os.access('bert_weights.h5', os.F_OK) is False:\n",
        "    url = 'https://drive.google.com/uc?id=1ZZaAKr4jb9eLSora5kbSg8dJqb4DkjzL&export=download'\n",
        "    output = 'bert_weights.h5'\n",
        "    gdown.download(url, output, quiet=False)\n",
        "else:\n",
        "    print(\"Los pesos bert_weights.h5 ya están descargados\")"
      ],
      "execution_count": null,
      "outputs": []
    },
    {
      "cell_type": "code",
      "metadata": {
        "colab": {
          "base_uri": "https://localhost:8080/"
        },
        "id": "6YbhyY8Fhr5F",
        "outputId": "6a3c1c52-a321-4968-efd8-cec53d81cbea"
      },
      "source": [
        "# Load model\n",
        "import tensorflow as tf\n",
        "import numpy as np\n",
        "from transformers import BertTokenizer, TFBertModel, BertConfig\n",
        "\n",
        "output_shape = 3\n",
        "max_length = 140\n",
        "\n",
        "bert_model = TFBertModel.from_pretrained(\"bert-base-uncased\")\n",
        "\n",
        "input_ids = tf.keras.layers.Input(shape=(max_length,), dtype=tf.int32, name='input_ids')\n",
        "attention_mask = tf.keras.layers.Input(shape=(max_length,), dtype=tf.int32, name='attention_mask')\n",
        "\n",
        "# Get the pooled_output (embedding que representa toda la entrada)\n",
        "output = bert_model.bert(input_ids=input_ids, attention_mask=attention_mask)[1]\n",
        "\n",
        "# We can also add dropout as regularization technique:\n",
        "output = tf.keras.layers.Dropout(rate=0.2)(output)\n",
        "\n",
        "# Se puede agregar más capas Densas en el medio si se desea\n",
        "\n",
        "# Provide number of classes to the final layer:\n",
        "output = tf.keras.layers.Dense(output_shape, activation='softmax')(output)\n",
        "\n",
        "# Final model:\n",
        "model = tf.keras.models.Model(inputs=[input_ids, attention_mask], outputs=output)\n",
        "model.load_weights(\"bert_weights.h5\")"
      ],
      "execution_count": null,
      "outputs": []
    },
    {
      "cell_type": "code",
      "metadata": {
        "colab": {
          "base_uri": "https://localhost:8080/"
        },
        "id": "ZDQ5WoWTh40x",
        "outputId": "b5130ef3-b5a5-46f5-e544-5e87184f313d"
      },
      "source": [
        "# Export to TFX model\n",
        "callable = tf.function(model.call)\n",
        "concrete_function = callable.get_concrete_function([tf.TensorSpec((None, max_length), tf.int32, name=\"input_ids\"), tf.TensorSpec((None, max_length), tf.int32, name=\"attention_mask\")])\n",
        "model.save('mybert/1', signatures=concrete_function)"
      ],
      "execution_count": null,
      "outputs": []
    },
    {
      "cell_type": "code",
      "metadata": {
        "colab": {
          "base_uri": "https://localhost:8080/"
        },
        "id": "V9X-qDrMiAiU",
        "outputId": "d0e89f78-3f5f-440e-997f-8e495eb064e8"
      },
      "source": [
        "# Zip model for download\n",
        "!zip -r mybert.zip mybert"
      ],
      "execution_count": null,
      "outputs": []
    },
    {
      "cell_type": "code",
      "metadata": {
        "colab": {
          "base_uri": "https://localhost:8080/"
        },
        "id": "mg9-EbeNibHR",
        "outputId": "70ece37f-f4a3-4498-a357-b7ba2270be17"
      },
      "source": [
        "# Connect to google drive to copy and download the zip model\n",
        "import shutil\n",
        "import os\n",
        "from google.colab import drive\n",
        "drive.mount('/content/drive', force_remount=True)\n",
        "print(shutil.copyfile('mybert.zip', os.path.join(\"/content/drive/MyDrive\", 'mybert.zip')))"
      ],
      "execution_count": null,
      "outputs": []
    }
  ],
  "metadata": {
    "colab": {
      "name": "8b - bert_2_tfx.ipynb",
      "provenance": [],
      "collapsed_sections": []
    },
    "kernelspec": {
      "name": "python3",
      "display_name": "Python 3"
    },
    "language_info": {
      "name": "python"
    },
    "accelerator": "GPU"
  },
  "nbformat": 4,
  "nbformat_minor": 0
}